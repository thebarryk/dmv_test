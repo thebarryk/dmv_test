{
 "cells": [
  {
   "cell_type": "code",
   "execution_count": 52,
   "metadata": {},
   "outputs": [],
   "source": [
    "import numpy as np\n",
    "import matplotlib.pyplot as plt\n",
    "import pandas as pd\n",
    "import seaborn as sns\n",
    "import re\n",
    "import os\n",
    "import csv\n"
   ]
  },
  {
   "cell_type": "code",
   "execution_count": 53,
   "metadata": {},
   "outputs": [],
   "source": [
    "def prep_dmv_sample(df, save=False, filename=\"clean_test_data.csv\"):\n",
    "    # Data prep from sample downloaded from web site database\n",
    "\n",
    "    # Drop data with Result=NaN\n",
    "    # Show them\n",
    "    # df[df[\"Result\"].isna()]\n",
    "\n",
    "    original_length = len(df)\n",
    "    print(f\"Original length of sample data is {original_length}\")\n",
    "\n",
    "    # Add column result_std with NaN converted to None\n",
    "    df[\"result_std\"] = df.Result.fillna(\"None\")  \n",
    "\n",
    "    df = df.dropna(subset=[\"Result\"])\n",
    "    dropped_nan = original_length - len(df)\n",
    "    print(f\"{dropped_nan} tests with Result=NaN dropped\")\n",
    "\n",
    "    # Add column, ip, with the port number from the reported ip address\n",
    "#     df[\"ip\"] = \"\"\n",
    "    df[\"ip\"] = df.IPAddress.apply(lambda x: np.nan if x == None else x.split(\":\")[0])"
   ]
  },
  {
   "cell_type": "code",
   "execution_count": 6,
   "metadata": {},
   "outputs": [],
   "source": [
    "    # Add column, duration, for the TotalTimeSpent in minutes\n",
    "    df.loc[\"duration\"] = df.TotalTimeSpent/60\n",
    "\n",
    "    # Some events have more than 1 ip address\n",
    "    df.loc[\"multiple_ip\"] = df.ip.apply( lambda x: len(x.split(\",\"))>1)\n",
    "\n",
    "    # Remove the extra ip address from tests with more than 1 ip address\n",
    "    df.loc[:,\"ip\"] = df.ip.apply(lambda x: x.split(\",\")[0])\n",
    "    print(f'Extra ip address dropped in {len(df[df[\"multiple_ip\"]])} tests')\n",
    "    \n",
    "    # Make a copy of the cleaned data\n",
    "    if save:\n",
    "        df.to_csv(\"clean_test_data.csv\")\n",
    "    return"
   ]
  },
  {
   "cell_type": "code",
   "execution_count": 54,
   "metadata": {},
   "outputs": [
    {
     "ename": "AttributeError",
     "evalue": "'float' object has no attribute 'split'",
     "output_type": "error",
     "traceback": [
      "\u001b[0;31m---------------------------------------------------------------------------\u001b[0m",
      "\u001b[0;31mAttributeError\u001b[0m                            Traceback (most recent call last)",
      "\u001b[0;32m/tmp/ipykernel_1987/3658949338.py\u001b[0m in \u001b[0;36m<module>\u001b[0;34m\u001b[0m\n\u001b[1;32m      6\u001b[0m \u001b[0;31m# Work with a shallow copy\u001b[0m\u001b[0;34m\u001b[0m\u001b[0;34m\u001b[0m\u001b[0m\n\u001b[1;32m      7\u001b[0m \u001b[0mdf\u001b[0m \u001b[0;34m=\u001b[0m \u001b[0mtest_sample\u001b[0m\u001b[0;34m.\u001b[0m\u001b[0mcopy\u001b[0m\u001b[0;34m(\u001b[0m\u001b[0;34m)\u001b[0m\u001b[0;34m\u001b[0m\u001b[0;34m\u001b[0m\u001b[0m\n\u001b[0;32m----> 8\u001b[0;31m \u001b[0mdf\u001b[0m\u001b[0;34m[\u001b[0m\u001b[0;34m\"ip\"\u001b[0m\u001b[0;34m]\u001b[0m \u001b[0;34m=\u001b[0m \u001b[0mdf\u001b[0m\u001b[0;34m.\u001b[0m\u001b[0mIPAddress\u001b[0m\u001b[0;34m.\u001b[0m\u001b[0mapply\u001b[0m\u001b[0;34m(\u001b[0m\u001b[0;32mlambda\u001b[0m \u001b[0mx\u001b[0m\u001b[0;34m:\u001b[0m \u001b[0mnp\u001b[0m\u001b[0;34m.\u001b[0m\u001b[0mnan\u001b[0m \u001b[0;32mif\u001b[0m \u001b[0mx\u001b[0m \u001b[0;34m==\u001b[0m \u001b[0;32mNone\u001b[0m \u001b[0;32melse\u001b[0m \u001b[0mx\u001b[0m\u001b[0;34m.\u001b[0m\u001b[0msplit\u001b[0m\u001b[0;34m(\u001b[0m\u001b[0;34m\":\"\u001b[0m\u001b[0;34m)\u001b[0m\u001b[0;34m[\u001b[0m\u001b[0;36m0\u001b[0m\u001b[0;34m]\u001b[0m\u001b[0;34m)\u001b[0m\u001b[0;34m\u001b[0m\u001b[0;34m\u001b[0m\u001b[0m\n\u001b[0m",
      "\u001b[0;32m~/anaconda3/envs/dmv_test/lib/python3.9/site-packages/pandas/core/series.py\u001b[0m in \u001b[0;36mapply\u001b[0;34m(self, func, convert_dtype, args, **kwargs)\u001b[0m\n\u001b[1;32m   4355\u001b[0m         \u001b[0mdtype\u001b[0m\u001b[0;34m:\u001b[0m \u001b[0mfloat64\u001b[0m\u001b[0;34m\u001b[0m\u001b[0;34m\u001b[0m\u001b[0m\n\u001b[1;32m   4356\u001b[0m         \"\"\"\n\u001b[0;32m-> 4357\u001b[0;31m         \u001b[0;32mreturn\u001b[0m \u001b[0mSeriesApply\u001b[0m\u001b[0;34m(\u001b[0m\u001b[0mself\u001b[0m\u001b[0;34m,\u001b[0m \u001b[0mfunc\u001b[0m\u001b[0;34m,\u001b[0m \u001b[0mconvert_dtype\u001b[0m\u001b[0;34m,\u001b[0m \u001b[0margs\u001b[0m\u001b[0;34m,\u001b[0m \u001b[0mkwargs\u001b[0m\u001b[0;34m)\u001b[0m\u001b[0;34m.\u001b[0m\u001b[0mapply\u001b[0m\u001b[0;34m(\u001b[0m\u001b[0;34m)\u001b[0m\u001b[0;34m\u001b[0m\u001b[0;34m\u001b[0m\u001b[0m\n\u001b[0m\u001b[1;32m   4358\u001b[0m \u001b[0;34m\u001b[0m\u001b[0m\n\u001b[1;32m   4359\u001b[0m     def _reduce(\n",
      "\u001b[0;32m~/anaconda3/envs/dmv_test/lib/python3.9/site-packages/pandas/core/apply.py\u001b[0m in \u001b[0;36mapply\u001b[0;34m(self)\u001b[0m\n\u001b[1;32m   1041\u001b[0m             \u001b[0;32mreturn\u001b[0m \u001b[0mself\u001b[0m\u001b[0;34m.\u001b[0m\u001b[0mapply_str\u001b[0m\u001b[0;34m(\u001b[0m\u001b[0;34m)\u001b[0m\u001b[0;34m\u001b[0m\u001b[0;34m\u001b[0m\u001b[0m\n\u001b[1;32m   1042\u001b[0m \u001b[0;34m\u001b[0m\u001b[0m\n\u001b[0;32m-> 1043\u001b[0;31m         \u001b[0;32mreturn\u001b[0m \u001b[0mself\u001b[0m\u001b[0;34m.\u001b[0m\u001b[0mapply_standard\u001b[0m\u001b[0;34m(\u001b[0m\u001b[0;34m)\u001b[0m\u001b[0;34m\u001b[0m\u001b[0;34m\u001b[0m\u001b[0m\n\u001b[0m\u001b[1;32m   1044\u001b[0m \u001b[0;34m\u001b[0m\u001b[0m\n\u001b[1;32m   1045\u001b[0m     \u001b[0;32mdef\u001b[0m \u001b[0magg\u001b[0m\u001b[0;34m(\u001b[0m\u001b[0mself\u001b[0m\u001b[0;34m)\u001b[0m\u001b[0;34m:\u001b[0m\u001b[0;34m\u001b[0m\u001b[0;34m\u001b[0m\u001b[0m\n",
      "\u001b[0;32m~/anaconda3/envs/dmv_test/lib/python3.9/site-packages/pandas/core/apply.py\u001b[0m in \u001b[0;36mapply_standard\u001b[0;34m(self)\u001b[0m\n\u001b[1;32m   1096\u001b[0m                 \u001b[0;31m# List[Union[Callable[..., Any], str]]]]]\"; expected\u001b[0m\u001b[0;34m\u001b[0m\u001b[0;34m\u001b[0m\u001b[0m\n\u001b[1;32m   1097\u001b[0m                 \u001b[0;31m# \"Callable[[Any], Any]\"\u001b[0m\u001b[0;34m\u001b[0m\u001b[0;34m\u001b[0m\u001b[0m\n\u001b[0;32m-> 1098\u001b[0;31m                 mapped = lib.map_infer(\n\u001b[0m\u001b[1;32m   1099\u001b[0m                     \u001b[0mvalues\u001b[0m\u001b[0;34m,\u001b[0m\u001b[0;34m\u001b[0m\u001b[0;34m\u001b[0m\u001b[0m\n\u001b[1;32m   1100\u001b[0m                     \u001b[0mf\u001b[0m\u001b[0;34m,\u001b[0m  \u001b[0;31m# type: ignore[arg-type]\u001b[0m\u001b[0;34m\u001b[0m\u001b[0;34m\u001b[0m\u001b[0m\n",
      "\u001b[0;32m~/anaconda3/envs/dmv_test/lib/python3.9/site-packages/pandas/_libs/lib.pyx\u001b[0m in \u001b[0;36mpandas._libs.lib.map_infer\u001b[0;34m()\u001b[0m\n",
      "\u001b[0;32m/tmp/ipykernel_1987/3658949338.py\u001b[0m in \u001b[0;36m<lambda>\u001b[0;34m(x)\u001b[0m\n\u001b[1;32m      6\u001b[0m \u001b[0;31m# Work with a shallow copy\u001b[0m\u001b[0;34m\u001b[0m\u001b[0;34m\u001b[0m\u001b[0m\n\u001b[1;32m      7\u001b[0m \u001b[0mdf\u001b[0m \u001b[0;34m=\u001b[0m \u001b[0mtest_sample\u001b[0m\u001b[0;34m.\u001b[0m\u001b[0mcopy\u001b[0m\u001b[0;34m(\u001b[0m\u001b[0;34m)\u001b[0m\u001b[0;34m\u001b[0m\u001b[0;34m\u001b[0m\u001b[0m\n\u001b[0;32m----> 8\u001b[0;31m \u001b[0mdf\u001b[0m\u001b[0;34m[\u001b[0m\u001b[0;34m\"ip\"\u001b[0m\u001b[0;34m]\u001b[0m \u001b[0;34m=\u001b[0m \u001b[0mdf\u001b[0m\u001b[0;34m.\u001b[0m\u001b[0mIPAddress\u001b[0m\u001b[0;34m.\u001b[0m\u001b[0mapply\u001b[0m\u001b[0;34m(\u001b[0m\u001b[0;32mlambda\u001b[0m \u001b[0mx\u001b[0m\u001b[0;34m:\u001b[0m \u001b[0mnp\u001b[0m\u001b[0;34m.\u001b[0m\u001b[0mnan\u001b[0m \u001b[0;32mif\u001b[0m \u001b[0mx\u001b[0m \u001b[0;34m==\u001b[0m \u001b[0;32mNone\u001b[0m \u001b[0;32melse\u001b[0m \u001b[0mx\u001b[0m\u001b[0;34m.\u001b[0m\u001b[0msplit\u001b[0m\u001b[0;34m(\u001b[0m\u001b[0;34m\":\"\u001b[0m\u001b[0;34m)\u001b[0m\u001b[0;34m[\u001b[0m\u001b[0;36m0\u001b[0m\u001b[0;34m]\u001b[0m\u001b[0;34m)\u001b[0m\u001b[0;34m\u001b[0m\u001b[0;34m\u001b[0m\u001b[0m\n\u001b[0m",
      "\u001b[0;31mAttributeError\u001b[0m: 'float' object has no attribute 'split'"
     ]
    }
   ],
   "source": [
    "sample_filename = \"OPT11022021-11042021.csv\"\n",
    "\n",
    "# Read the sample data downloaded from the DMV testing web site\n",
    "test_sample = pd.read_csv(sample_filename)\n",
    "\n",
    "# Work with a shallow copy\n",
    "df = test_sample.copy()\n",
    "df[\"ip\"] = df.IPAddress.apply(lambda x: np.nan if x == None else x.split(\":\")[0])"
   ]
  },
  {
   "cell_type": "code",
   "execution_count": 49,
   "metadata": {},
   "outputs": [
    {
     "name": "stdout",
     "output_type": "stream",
     "text": [
      "Original length of sample data is 4561\n",
      "110 tests with Result=NaN dropped\n"
     ]
    },
    {
     "name": "stderr",
     "output_type": "stream",
     "text": [
      "/tmp/ipykernel_1987/1286549183.py:20: SettingWithCopyWarning: \n",
      "A value is trying to be set on a copy of a slice from a DataFrame.\n",
      "Try using .loc[row_indexer,col_indexer] = value instead\n",
      "\n",
      "See the caveats in the documentation: https://pandas.pydata.org/pandas-docs/stable/user_guide/indexing.html#returning-a-view-versus-a-copy\n",
      "  df[\"ip\"] = df.IPAddress.apply(lambda x: np.nan if x == None else x.split(\":\")[0])\n"
     ]
    }
   ],
   "source": [
    "# Clean up the raw data\n",
    "prep_dmv_sample(df)"
   ]
  },
  {
   "cell_type": "code",
   "execution_count": 50,
   "metadata": {},
   "outputs": [
    {
     "data": {
      "text/plain": [
       "Index(['TestAttemptId', 'UserName', 'ExamineeId', 'TestId', 'LocaleId',\n",
       "       'TestLocationId', 'KioskId', 'KioskAssignDate', 'TestRegistrationDate',\n",
       "       'DownloadDate', 'TestStartDateTime', 'TestEndDateTime', 'TotalScore',\n",
       "       'Result', 'ScoreCard', 'TimeLeft', 'CurrentQuestionId',\n",
       "       'TotalQuestions', 'TotalQuestionsCorrect', 'TotalQuestionsIncorrect',\n",
       "       'TotalTimeSpent', 'IsAudioEnabled', 'ReviewCount', 'TestFormat',\n",
       "       'Status', 'IsManuallyEntered', 'ReasonId', 'CreateDate', 'CreateLogin',\n",
       "       'UpdateDate', 'UpdateLogin', 'LastAnswerDate', 'IPAddress',\n",
       "       'CancelReasonId', 'CancellationDate', 'CancellationLogin',\n",
       "       'ApprovalLogin', 'TotalSkippedQuestions', 'CurrentTestStage',\n",
       "       'SessionId', 'DifficultyLevel', 'ResultNotificationCount',\n",
       "       'SessionTimeoutCount', 'PartnerUuid', 'PartnerTransmissionStatus',\n",
       "       'PartnerTransmissionDate', 'FacialImageCount',\n",
       "       'ImageCaptureQuestionNumbers', 'ExamineeId.1', 'ClientId',\n",
       "       'PhotoDocumentId', 'LocalPhotoId', 'Zipcode', 'CreateDate.1',\n",
       "       'CreateLogin.1', 'UpdateDate.1', 'UpdateLogin.1', 'Token',\n",
       "       'IsLockedOut', 'LastActivityDate', 'LastLoginDate', 'LastLockoutDate',\n",
       "       'LastLoginType', 'FailedAttemptCount', 'LastDMVCommunicationDate',\n",
       "       'DmvResponseCode', 'TokenCreateDate', 'TokenExpirationDate',\n",
       "       'ResidenceAddressId', 'MailingAddressId', 'Height', 'EyeColorId',\n",
       "       'GenderCode', 'Weight', 'HairColorId', 'LastTestDateTime',\n",
       "       'ClientIdSource', 'SuffixName', 'Email', 'IsRemovedFromQueue',\n",
       "       'TicketStatus', 'TestLocationId.1', 'LicDocTypeCode', 'LicClassCode',\n",
       "       'LicExpireDate', 'DriverPrivilegeCode', 'DriverStatusCode',\n",
       "       'ParentClientId', 'IPAddress.1', 'result_std'],\n",
       "      dtype='object')"
      ]
     },
     "execution_count": 50,
     "metadata": {},
     "output_type": "execute_result"
    }
   ],
   "source": [
    "df.columns\n"
   ]
  },
  {
   "cell_type": "code",
   "execution_count": 4,
   "metadata": {},
   "outputs": [],
   "source": [
    "def plt_duration(df, vlines=12., cum=False):\n",
    "    \"\"\"Chart the test duration histogram for passing result\"\"\"\n",
    "    # Start 10 x 8 figure and point to axes object\n",
    "    fig = plt.figure(figsize=(15,8))\n",
    "    ax = plt.axes()\n",
    "\n",
    "    # Use hist for each passing result\n",
    "    plt.hist(df[df.result_std == \"P\"][\"duration\"], bins=100, density=False, \\\n",
    "             histtype=\"step\", cumulative=cum, linewidth=2, label='Pass')\n",
    "    plt.hist(df[df.result_std == \"F\"][\"duration\"], bins=100, density=False, \\\n",
    "             histtype=\"step\", cumulative=cum, linewidth=2, label='Fail')\n",
    "    plt.hist(df[df.result_std == \"None\"][\"duration\"], bins=100, density=False, \\\n",
    "             histtype=\"step\", cumulative=cum, linewidth=2, label='None')\n",
    "    \n",
    "    # Draw a vertical line at the first peak of the passing histogram\n",
    "    ax.axvline(x=vlines, color=\"red\", linewidth=4, ls=\":\", label=f\"{vlines} min\")\n",
    "    \n",
    "    plt.title('DMV - Test Duration by Test Result')\n",
    "    plt.xlabel('Frequency')\n",
    "    plt.ylabel('Duration (min)')\n",
    "    plt.legend()   # Uses labels assigned in plt.hist\n",
    "\n",
    "    plt.show"
   ]
  },
  {
   "cell_type": "code",
   "execution_count": 5,
   "metadata": {},
   "outputs": [
    {
     "ename": "KeyError",
     "evalue": "'duration'",
     "output_type": "error",
     "traceback": [
      "\u001b[0;31m---------------------------------------------------------------------------\u001b[0m",
      "\u001b[0;31mKeyError\u001b[0m                                  Traceback (most recent call last)",
      "\u001b[0;32m~/anaconda3/envs/dmv_test/lib/python3.9/site-packages/pandas/core/indexes/base.py\u001b[0m in \u001b[0;36mget_loc\u001b[0;34m(self, key, method, tolerance)\u001b[0m\n\u001b[1;32m   3360\u001b[0m             \u001b[0;32mtry\u001b[0m\u001b[0;34m:\u001b[0m\u001b[0;34m\u001b[0m\u001b[0;34m\u001b[0m\u001b[0m\n\u001b[0;32m-> 3361\u001b[0;31m                 \u001b[0;32mreturn\u001b[0m \u001b[0mself\u001b[0m\u001b[0;34m.\u001b[0m\u001b[0m_engine\u001b[0m\u001b[0;34m.\u001b[0m\u001b[0mget_loc\u001b[0m\u001b[0;34m(\u001b[0m\u001b[0mcasted_key\u001b[0m\u001b[0;34m)\u001b[0m\u001b[0;34m\u001b[0m\u001b[0;34m\u001b[0m\u001b[0m\n\u001b[0m\u001b[1;32m   3362\u001b[0m             \u001b[0;32mexcept\u001b[0m \u001b[0mKeyError\u001b[0m \u001b[0;32mas\u001b[0m \u001b[0merr\u001b[0m\u001b[0;34m:\u001b[0m\u001b[0;34m\u001b[0m\u001b[0;34m\u001b[0m\u001b[0m\n",
      "\u001b[0;32m~/anaconda3/envs/dmv_test/lib/python3.9/site-packages/pandas/_libs/index.pyx\u001b[0m in \u001b[0;36mpandas._libs.index.IndexEngine.get_loc\u001b[0;34m()\u001b[0m\n",
      "\u001b[0;32m~/anaconda3/envs/dmv_test/lib/python3.9/site-packages/pandas/_libs/index.pyx\u001b[0m in \u001b[0;36mpandas._libs.index.IndexEngine.get_loc\u001b[0;34m()\u001b[0m\n",
      "\u001b[0;32mpandas/_libs/hashtable_class_helper.pxi\u001b[0m in \u001b[0;36mpandas._libs.hashtable.PyObjectHashTable.get_item\u001b[0;34m()\u001b[0m\n",
      "\u001b[0;32mpandas/_libs/hashtable_class_helper.pxi\u001b[0m in \u001b[0;36mpandas._libs.hashtable.PyObjectHashTable.get_item\u001b[0;34m()\u001b[0m\n",
      "\u001b[0;31mKeyError\u001b[0m: 'duration'",
      "\nThe above exception was the direct cause of the following exception:\n",
      "\u001b[0;31mKeyError\u001b[0m                                  Traceback (most recent call last)",
      "\u001b[0;32m/tmp/ipykernel_1987/1669431518.py\u001b[0m in \u001b[0;36m<module>\u001b[0;34m\u001b[0m\n\u001b[0;32m----> 1\u001b[0;31m \u001b[0mplt_duration\u001b[0m\u001b[0;34m(\u001b[0m\u001b[0mdf\u001b[0m\u001b[0;34m)\u001b[0m\u001b[0;34m\u001b[0m\u001b[0;34m\u001b[0m\u001b[0m\n\u001b[0m\u001b[1;32m      2\u001b[0m \u001b[0mplt_duration\u001b[0m\u001b[0;34m(\u001b[0m\u001b[0mdf\u001b[0m\u001b[0;34m,\u001b[0m \u001b[0mcum\u001b[0m\u001b[0;34m=\u001b[0m\u001b[0;32mTrue\u001b[0m\u001b[0;34m)\u001b[0m\u001b[0;34m\u001b[0m\u001b[0;34m\u001b[0m\u001b[0m\n",
      "\u001b[0;32m/tmp/ipykernel_1987/3377754469.py\u001b[0m in \u001b[0;36mplt_duration\u001b[0;34m(df, vlines, cum)\u001b[0m\n\u001b[1;32m      6\u001b[0m \u001b[0;34m\u001b[0m\u001b[0m\n\u001b[1;32m      7\u001b[0m     \u001b[0;31m# Use hist for each passing result\u001b[0m\u001b[0;34m\u001b[0m\u001b[0;34m\u001b[0m\u001b[0m\n\u001b[0;32m----> 8\u001b[0;31m     plt.hist(df[df.result_std == \"P\"][\"duration\"], bins=100, density=False, \\\n\u001b[0m\u001b[1;32m      9\u001b[0m              histtype=\"step\", cumulative=cum, linewidth=2, label='Pass')\n\u001b[1;32m     10\u001b[0m     plt.hist(df[df.result_std == \"F\"][\"duration\"], bins=100, density=False, \\\n",
      "\u001b[0;32m~/anaconda3/envs/dmv_test/lib/python3.9/site-packages/pandas/core/frame.py\u001b[0m in \u001b[0;36m__getitem__\u001b[0;34m(self, key)\u001b[0m\n\u001b[1;32m   3456\u001b[0m             \u001b[0;32mif\u001b[0m \u001b[0mself\u001b[0m\u001b[0;34m.\u001b[0m\u001b[0mcolumns\u001b[0m\u001b[0;34m.\u001b[0m\u001b[0mnlevels\u001b[0m \u001b[0;34m>\u001b[0m \u001b[0;36m1\u001b[0m\u001b[0;34m:\u001b[0m\u001b[0;34m\u001b[0m\u001b[0;34m\u001b[0m\u001b[0m\n\u001b[1;32m   3457\u001b[0m                 \u001b[0;32mreturn\u001b[0m \u001b[0mself\u001b[0m\u001b[0;34m.\u001b[0m\u001b[0m_getitem_multilevel\u001b[0m\u001b[0;34m(\u001b[0m\u001b[0mkey\u001b[0m\u001b[0;34m)\u001b[0m\u001b[0;34m\u001b[0m\u001b[0;34m\u001b[0m\u001b[0m\n\u001b[0;32m-> 3458\u001b[0;31m             \u001b[0mindexer\u001b[0m \u001b[0;34m=\u001b[0m \u001b[0mself\u001b[0m\u001b[0;34m.\u001b[0m\u001b[0mcolumns\u001b[0m\u001b[0;34m.\u001b[0m\u001b[0mget_loc\u001b[0m\u001b[0;34m(\u001b[0m\u001b[0mkey\u001b[0m\u001b[0;34m)\u001b[0m\u001b[0;34m\u001b[0m\u001b[0;34m\u001b[0m\u001b[0m\n\u001b[0m\u001b[1;32m   3459\u001b[0m             \u001b[0;32mif\u001b[0m \u001b[0mis_integer\u001b[0m\u001b[0;34m(\u001b[0m\u001b[0mindexer\u001b[0m\u001b[0;34m)\u001b[0m\u001b[0;34m:\u001b[0m\u001b[0;34m\u001b[0m\u001b[0;34m\u001b[0m\u001b[0m\n\u001b[1;32m   3460\u001b[0m                 \u001b[0mindexer\u001b[0m \u001b[0;34m=\u001b[0m \u001b[0;34m[\u001b[0m\u001b[0mindexer\u001b[0m\u001b[0;34m]\u001b[0m\u001b[0;34m\u001b[0m\u001b[0;34m\u001b[0m\u001b[0m\n",
      "\u001b[0;32m~/anaconda3/envs/dmv_test/lib/python3.9/site-packages/pandas/core/indexes/base.py\u001b[0m in \u001b[0;36mget_loc\u001b[0;34m(self, key, method, tolerance)\u001b[0m\n\u001b[1;32m   3361\u001b[0m                 \u001b[0;32mreturn\u001b[0m \u001b[0mself\u001b[0m\u001b[0;34m.\u001b[0m\u001b[0m_engine\u001b[0m\u001b[0;34m.\u001b[0m\u001b[0mget_loc\u001b[0m\u001b[0;34m(\u001b[0m\u001b[0mcasted_key\u001b[0m\u001b[0;34m)\u001b[0m\u001b[0;34m\u001b[0m\u001b[0;34m\u001b[0m\u001b[0m\n\u001b[1;32m   3362\u001b[0m             \u001b[0;32mexcept\u001b[0m \u001b[0mKeyError\u001b[0m \u001b[0;32mas\u001b[0m \u001b[0merr\u001b[0m\u001b[0;34m:\u001b[0m\u001b[0;34m\u001b[0m\u001b[0;34m\u001b[0m\u001b[0m\n\u001b[0;32m-> 3363\u001b[0;31m                 \u001b[0;32mraise\u001b[0m \u001b[0mKeyError\u001b[0m\u001b[0;34m(\u001b[0m\u001b[0mkey\u001b[0m\u001b[0;34m)\u001b[0m \u001b[0;32mfrom\u001b[0m \u001b[0merr\u001b[0m\u001b[0;34m\u001b[0m\u001b[0;34m\u001b[0m\u001b[0m\n\u001b[0m\u001b[1;32m   3364\u001b[0m \u001b[0;34m\u001b[0m\u001b[0m\n\u001b[1;32m   3365\u001b[0m         \u001b[0;32mif\u001b[0m \u001b[0mis_scalar\u001b[0m\u001b[0;34m(\u001b[0m\u001b[0mkey\u001b[0m\u001b[0;34m)\u001b[0m \u001b[0;32mand\u001b[0m \u001b[0misna\u001b[0m\u001b[0;34m(\u001b[0m\u001b[0mkey\u001b[0m\u001b[0;34m)\u001b[0m \u001b[0;32mand\u001b[0m \u001b[0;32mnot\u001b[0m \u001b[0mself\u001b[0m\u001b[0;34m.\u001b[0m\u001b[0mhasnans\u001b[0m\u001b[0;34m:\u001b[0m\u001b[0;34m\u001b[0m\u001b[0;34m\u001b[0m\u001b[0m\n",
      "\u001b[0;31mKeyError\u001b[0m: 'duration'"
     ]
    },
    {
     "data": {
      "image/png": "[encoded data removed]",
      "text/plain": [
       "<Figure size 1080x576 with 1 Axes>"
      ]
     },
     "metadata": {
      "needs_background": "light"
     },
     "output_type": "display_data"
    }
   ],
   "source": [
    "plt_duration(df)\n",
    "plt_duration(df, cum=True)\n"
   ]
  },
  {
   "cell_type": "code",
   "execution_count": null,
   "metadata": {},
   "outputs": [],
   "source": [
    "# Find index "
   ]
  },
  {
   "cell_type": "code",
   "execution_count": null,
   "metadata": {},
   "outputs": [],
   "source": [
    "# Show same data using a different plotting package, displot. \n",
    "# displot can alse calculate the kde (kernel density estimate)\n",
    "def displot_duration(df):\n",
    "    g1 = sns.displot(data=df, x='duration', stat='count', kind='hist', cumulative=False, kde=True, col='result_std', \\\n",
    "                 hue='result_std', palette='autumn', aspect=1.5, element='step', height=6, \\\n",
    "                 fill=True, linewidth=2, common_bins=False, common_norm=False, \\\n",
    "                 facet_kws={'sharex':True, 'sharey':True}\n",
    "                 )\n",
    "    return g1\n",
    "\n",
    "displot_duration(df)\n"
   ]
  },
  {
   "cell_type": "code",
   "execution_count": null,
   "metadata": {},
   "outputs": [],
   "source": [
    "def displot_kde_duration_all(df, peak1=12, peak2=20, bw_adjust=0.6):\n",
    "    \n",
    "#     plt.figure(figsize=(12,6))\n",
    "    # sns.displot(data=df, x='TotalTimeSpent', stat='count', kind='kde', cumulative=False, kde=True, bw_adjust=.25,\\\n",
    "    g = sns.displot(data=df, x='duration', kind='kde', cumulative=False, bw_adjust=bw_adjust,\\\n",
    "#                      hue='result_std', \\\n",
    "                     palette='prism', aspect=1.5, height=6, \\\n",
    "                     fill=True, linewidth=2,  \\\n",
    "                     facet_kws={'sharex':True, 'sharey':True}\n",
    "                     )\n",
    "\n",
    "    g.fig.set_figwidth(15)\n",
    "    g.fig.set_figheight(5)\n",
    "\n",
    "    plt.axvline(x=peak1, color=\"red\", linewidth=4, ls=\":\", label=f\"Duration {peak1} min\")\n",
    "    plt.axvline(x=peak2, color=\"green\", linewidth=4, ls=\":\", label=f\"Duration {peak2} min\")\n",
    "    plt.title(\"DMV Test - Duration for All Tests\")\n",
    "    plt.legend()\n",
    "    return g\n",
    "\n",
    "\n",
    "displot_kde_duration_all(df, peak1=13.5, peak2=21, bw_adjust=.6)"
   ]
  },
  {
   "cell_type": "code",
   "execution_count": null,
   "metadata": {},
   "outputs": [],
   "source": [
    "def displot_kde_duration(df, peak1=12, peak2=20, bw_adjust=0.6):\n",
    "    \n",
    "#     plt.figure(figsize=(12,6))\n",
    "    # sns.displot(data=df, x='TotalTimeSpent', stat='count', kind='kde', cumulative=False, kde=True, bw_adjust=.25,\\\n",
    "    g = sns.displot(data=df, x='duration', kind='kde', cumulative=False, bw_adjust=bw_adjust,\\\n",
    "                     hue='result_std', palette='prism', aspect=1.5, height=6, \\\n",
    "                     fill=True, linewidth=2,  \\\n",
    "                     facet_kws={'sharex':True, 'sharey':True}\n",
    "                     )\n",
    "\n",
    "    g.fig.set_figwidth(15)\n",
    "    g.fig.set_figheight(5)\n",
    "\n",
    "    plt.axvline(x=peak1, color=\"red\", linewidth=4, ls=\":\", label=f\"Duration {peak1} min\")\n",
    "    plt.axvline(x=peak2, color=\"green\", linewidth=4, ls=\":\", label=f\"Duration {peak2} min\")\n",
    "    plt.title(\"DMV Test - Duration by Result\")\n",
    "    plt.legend()\n",
    "    return g\n",
    "\n",
    "g = displot_kde_duration(df, peak2=21)"
   ]
  },
  {
   "cell_type": "markdown",
   "metadata": {},
   "source": [
    "The passed tests are bimodal with an early peak around 12 min. DMV officials think that the test should take more than 5 minutes. In fact, very few of the failing tests take less than 5 minutes. \n",
    "\n",
    "The dstribution of failed tests is unimodal with a slight broadening."
   ]
  },
  {
   "cell_type": "code",
   "execution_count": null,
   "metadata": {},
   "outputs": [],
   "source": [
    "def displot_kde_passed_partitions(df, quartiles, bw_adjust=0.6):\n",
    "    \n",
    "#     plt.figure(figsize=(12,6))\n",
    "    # sns.displot(data=df, x='TotalTimeSpent', stat='count', kind='kde', cumulative=False, kde=True, bw_adjust=.25,\\\n",
    "    g = sns.displot(data=df, x='duration', kind='kde', cumulative=False, bw_adjust=bw_adjust,\\\n",
    "                     hue='result_std', palette='prism', aspect=1.5, height=6, \\\n",
    "                     fill=True, linewidth=2,  \\\n",
    "                     facet_kws={'sharex':True, 'sharey':True}\n",
    "                     )\n",
    "\n",
    "    g.fig.set_figwidth(15)\n",
    "    g.fig.set_figheight(5)\n",
    "\n",
    "    plt.vlines(quartiles, 0, 0.03, linewidth=2, ls=\":\")\n",
    "#     plt.axvline(x=peak2, color=\"green\", linewidth=4, ls=\":\", label=f\"Duration {peak2} min\")\n",
    "    plt.title(\"DMV Test - Duration for Passed Tests - by Result - Shows Quartiles\")\n",
    "    plt.legend(labels=[\"Passed\", \"25%\", \"50%\", \"75%\"])\n",
    "    return g"
   ]
  },
  {
   "cell_type": "code",
   "execution_count": null,
   "metadata": {},
   "outputs": [],
   "source": [
    "quartiles={ x:df[df.result_std==x][\"duration\"].describe() for x in [\"P\",\"F\"] }\n",
    "g = displot_kde_passed_partitions(df[df.result_std==\"P\"], list(quartiles[\"P\"][[\"25%\", \"50%\", \"75%\"]]) ) "
   ]
  },
  {
   "cell_type": "code",
   "execution_count": null,
   "metadata": {},
   "outputs": [],
   "source": []
  },
  {
   "cell_type": "code",
   "execution_count": null,
   "metadata": {},
   "outputs": [],
   "source": [
    "# Add column suspect when TotalTimeSpent <= 5m (or 6.5m)\n",
    "fastest = 12\n",
    "passed = pd.DataFrame(df[df.result_std==\"P\"])\n"
   ]
  },
  {
   "cell_type": "code",
   "execution_count": null,
   "metadata": {},
   "outputs": [],
   "source": [
    "passed[\"suspect\"] = passed.duration.apply(lambda x: \"suspect\" if x <= fastest else \"ok\")"
   ]
  },
  {
   "cell_type": "code",
   "execution_count": null,
   "metadata": {},
   "outputs": [],
   "source": [
    "def displot_suspect(df, bw_adjust=0.9):\n",
    "    \n",
    "    \n",
    "    g1 = sns.displot(data=df, x='duration', hue='suspect', \\\n",
    "                     kind='hist', bins=50, \\\n",
    "                     stat=\"count\", \\\n",
    "                     palette='autumn', aspect=2, \\\n",
    "                     fill=True, linewidth=2,  \\\n",
    "                     facet_kws={'sharex':True, 'sharey':True}\n",
    "                     )\n",
    "#     g1.fig.set_figwidth=(15)\n",
    "#     g1.fig.set_figheight=(5)\n",
    "#     plt.axvline(x=fastest, color=\"red\", linewidth=4, ls=\":\", label=\"5 min\")\n",
    "\n",
    "displot_suspect(passed)"
   ]
  },
  {
   "cell_type": "code",
   "execution_count": null,
   "metadata": {},
   "outputs": [],
   "source": [
    "def displot_2suspect(df, base=\"TotalQuestionsCorrect\", compare=\"duration\", suspect=True, fastest=15, bw_adjust=0.9):\n",
    "    # Scatter plot showing the total questions that are answered correctly\n",
    "    # by the total time to answer\n",
    "    \n",
    "    df.loc[\"suspect\"] = df.duration.apply(lambda x: \"suspect\" if x <= fastest else \"ok\")\n",
    "    \n",
    "    case = \"suspect\" if suspect else \"ok\"\n",
    "    \n",
    "    sns.displot(data=df[df.suspect==case], x=compare, y='duration', \\\n",
    "                     kind=\"kde\", \\\n",
    "                     palette='autumn', aspect=1, \\\n",
    "                     bins=10, \\\n",
    "                     )\n",
    "    plt.title(f\"{compare} vs Duration of Passed Tests {' <= ' if case=='suspect' else ' > '}{fastest} min \")\n"
   ]
  },
  {
   "cell_type": "code",
   "execution_count": null,
   "metadata": {},
   "outputs": [],
   "source": [
    "# \n",
    "# displot_2suspect(passed[passed.suspect==\"ok\"])\n",
    "# displot_2suspect(passed[passed.suspect==\"suspect\"])\n",
    "\n",
    "displot_2suspect(passed, compare=\"TotalQuestionsCorrect\", suspect=True, fastest=12)\n",
    "displot_2suspect(passed, compare=\"TotalQuestionsCorrect\", suspect=False, fastest=12)"
   ]
  },
  {
   "cell_type": "markdown",
   "metadata": {},
   "source": [
    "For test taking more than 12 minutes there's a uniform number of correctly answered questions bewtween 41 an 47. For tests that take less than 12 min, it is not so uniform. There are a high numer of excellent score >48 for test that take 7-9 minutes. There's more very high scoring tests at 7-8 minutes. The number of correct answers appears to be trending to uniformity above 10 minutes."
   ]
  },
  {
   "cell_type": "code",
   "execution_count": null,
   "metadata": {},
   "outputs": [],
   "source": [
    "from matplotlib.ticker import (MultipleLocator, AutoMinorLocator)\n",
    "def displot_xy(df, \n",
    "               base=\"TotalQuestionsCorrect\", \n",
    "               compare=\"duration\", \n",
    "               suspect=True, \n",
    "               fastest=12, \n",
    "               bw_adjust=0.9, \n",
    "               nminor = 1,\n",
    "               bins=10):\n",
    "    \n",
    "    # Scatter plot showing the total questions that are answered correctly\n",
    "    # by the total time to answer\n",
    "    \n",
    "    df[\"suspect\"] = df.duration.apply(lambda x: \"suspect\" if x <= fastest else \"not suspected\")\n",
    "    \n",
    "    case = \"suspect\" if suspect else \"not suspected\"\n",
    "    g = sns.displot(data=df[df.suspect==case], x=base, y=compare, \\\n",
    "#                      kind=\"kde\", \\\n",
    "                     palette='autumn', aspect=1, \\\n",
    "                     bins=bins, \\\n",
    "                     cbar=True, \\\n",
    "                     )\n",
    "    g.ax.yaxis.set_minor_locator(AutoMinorLocator(nminor + 1))\n",
    "    plt.title(f\"{base} vs {compare} {' <= ' if case=='suspected' else ' > '}{fastest} min \")"
   ]
  },
  {
   "cell_type": "code",
   "execution_count": null,
   "metadata": {},
   "outputs": [],
   "source": [
    "displot_xy(passed)\n",
    "displot_xy(passed, suspect=False)\n"
   ]
  },
  {
   "cell_type": "code",
   "execution_count": null,
   "metadata": {},
   "outputs": [],
   "source": [
    "displot_xy(passed, compare=\"LocaleId\", bins=100)\n",
    "displot_xy(passed, suspect=False, compare=\"LocaleId\", bins=30)"
   ]
  },
  {
   "cell_type": "code",
   "execution_count": null,
   "metadata": {},
   "outputs": [],
   "source": [
    "displot_xy(passed, base=\"TotalQuestionsCorrect\", compare=\"Height\", bins=10, nminor=4)\n",
    "displot_xy(passed, suspect=False, base=\"TotalQuestionsCorrect\", compare=\"Height\", bins=10, nminor=4)"
   ]
  },
  {
   "cell_type": "code",
   "execution_count": null,
   "metadata": {},
   "outputs": [],
   "source": [
    "def ips_that_are_duplicated(df):\n",
    "    d = {}\n",
    "    for ip in df.ip:\n",
    "        if ip in d:\n",
    "            d[ip] += 1\n",
    "        else:\n",
    "            d[ip] = 1\n",
    "    return { k:v for k,v in d.items() if v > 1 }\n",
    "\n",
    "len(ips_that_are_duplicated(df))\n"
   ]
  },
  {
   "cell_type": "code",
   "execution_count": null,
   "metadata": {},
   "outputs": [],
   "source": [
    "df[df.ip.duplicated(keep=False)]\\\n",
    "[[\"ip\", \"TestStartDateTime\", \"Result\", \"TotalQuestionsCorrect\", \"TotalTimeSpent\", \"Email\", \"Token\"]]\\\n",
    ".sort_values(by=[\"ip\", \"TestStartDateTime\"], axis=\"rows\")\n"
   ]
  },
  {
   "cell_type": "code",
   "execution_count": null,
   "metadata": {},
   "outputs": [],
   "source": [
    "\n",
    "displot_xy(df[df.ip.duplicated(keep=False)], base=\"TotalQuestionsCorrect\", compare=\"duration\", suspect=True, fastest=100, bw_adjust=0.9, bins=10)"
   ]
  },
  {
   "cell_type": "code",
   "execution_count": null,
   "metadata": {},
   "outputs": [],
   "source": [
    "pd.options.display.min_rows=0\n",
    "pd.options.display.max_rows=50\n"
   ]
  },
  {
   "cell_type": "code",
   "execution_count": null,
   "metadata": {},
   "outputs": [],
   "source": [
    "df1 = df[df.ip.duplicated(keep=False)][[\"ip\", \"TestStartDateTime\", \"Result\", \"Email\"]]\n",
    "df1"
   ]
  },
  {
   "cell_type": "code",
   "execution_count": null,
   "metadata": {},
   "outputs": [],
   "source": [
    "df1[df1.ip==\"100.12.122.32\"]"
   ]
  }
 ],
 "metadata": {
  "kernelspec": {
   "display_name": "Python [conda env:dmv_test]",
   "language": "python",
   "name": "conda-env-dmv_test-py"
  },
  "language_info": {
   "codemirror_mode": {
    "name": "ipython",
    "version": 3
   },
   "file_extension": ".py",
   "mimetype": "text/x-python",
   "name": "python",
   "nbconvert_exporter": "python",
   "pygments_lexer": "ipython3",
   "version": "3.9.7"
  }
 },
 "nbformat": 4,
 "nbformat_minor": 4
}
