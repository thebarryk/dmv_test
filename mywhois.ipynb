{
 "cells": [
  {
   "cell_type": "markdown",
   "metadata": {},
   "source": [
    "Class to accumulate whois records and risk factors.\n",
    "They will memoized to reduce requested services for more data.\n",
    "\n",
    "1. Use a database to store the results for use in various programs.\n",
    "2. Use an ipnetwork as key\n",
    "3. Store company name with key\n",
    "4. When a class instance is created, it will load db into dictionary.\n",
    "5. The instance is normally readonly, but can be writeable. That means new addresses\n",
    "will be added if they are not in the database and become permanent parts.\n",
    "\n"
   ]
  },
  {
   "cell_type": "code",
   "execution_count": null,
   "metadata": {
    "code_folding": [
     0
    ]
   },
   "outputs": [],
   "source": [
    "# # Read clean ips and show the risk found for them\n",
    "# soup = api_arin(\"192.121.246.161\")\n",
    "\n",
    "\n",
    "# for i,ip in enumerate(clean_ip.ip.drop_duplicates()[:10]):\n",
    "#     print(f\"{i} {ip=}\")\n",
    "\n",
    "# pp.pprint(soup)\n",
    "\n",
    "# def fetch(ip_string):\n",
    "#     db_filename = \"mywhois\"\n",
    "\n",
    "#     # Open the database and load the current data\n",
    "#     risk = Risk(db_filename)\n",
    "\n",
    "#     return risk.find(ip_string)\n",
    "        \n",
    "# ip_string = \"69.115.64.1\"\n",
    "# print(f\"{fetch(ip_string)=}\")\n",
    "# print(f\"{risk.searchresult}\")\n",
    "\n",
    "# trisk=Risk(\"mywhois\")\n",
    "\n",
    "\n",
    "# trisk.find(\"68.199.192.1\")\n",
    "\n",
    "# trisk.searchresult\n",
    "\n",
    "# # Read the clean set of sample data set\n",
    "# clean_ips = pd.read_csv(\"clean_test_data.csv\")\n",
    "# for i, ip in enumerate(clean_ip.ip.drop_duplicates()):\n",
    "#     arin = trisk.find(ip)\n",
    "#     print(f'{i=} {ip=} ... {arin[\"risk\"]}  {arin[\"score\"]}   {arin[\"organization\"]}')"
   ]
  },
  {
   "cell_type": "code",
   "execution_count": null,
   "metadata": {
    "code_folding": [
     0
    ]
   },
   "outputs": [],
   "source": [
    "# # Tabluate the risks in the current database\n",
    "# import numpy as np\n",
    "# from datetime import datetime\n",
    "\n",
    "# # Code to collect the risk[ip] = {score , risk: , organization:  } \n",
    "# # of the sample set\n",
    "\n",
    "# def get_input(risk, clean_ip):\n",
    "#     db_filename = \"mywhois\"\n",
    "#     sample_filename = \"clean_test_data.csv\"\n",
    "\n",
    "#     # Open the database and load the current data\n",
    "#     risk = mywhois.Risk(db_filename, readonly=False)\n",
    "\n",
    "#     # Read the clean set of sample data set\n",
    "#     clean_ip = pd.read_csv(sample_filename)\n",
    "\n",
    "# get_input(risk, clean_ip)\n",
    "# ips = clean_ip.ip.drop_duplicates()\n",
    "                                  \n",
    "# def get_risks(ips, risk):\n",
    "#     r = {}\n",
    "#     for ip in ips[:1]:\n",
    "#         x = risk.find(ip)\n",
    "#         if x:\n",
    "#             r[\"ip\"] = { \"score\": x[\"score\"], \"risk\": x[\"risk\"], \"organization\": x[\"organization\"] }\n",
    "#         else:\n",
    "#             r[\"ip\"] = np.nan\n",
    "    \n",
    "#     return pd.DataFrame(r)\n",
    "\n",
    "# risks = get_risks(ips, risk)"
   ]
  },
  {
   "cell_type": "code",
   "execution_count": 2,
   "metadata": {
    "code_folding": [],
    "scrolled": false
   },
   "outputs": [
    {
     "name": "stdout",
     "output_type": "stream",
     "text": [
      "n=3497 new=0 old=3498 len(risk.risk)=933\n"
     ]
    }
   ],
   "source": [
    "# Main program to compute risks from an input file of ip addresses\n",
    "import mywhois\n",
    "import pprint\n",
    "import pandas as pd\n",
    "\n",
    "pp = pprint.PrettyPrinter()\n",
    "\n",
    "def main():\n",
    "    # Routine to read a clean set ip addresses from the sample data\n",
    "    # and incorporate them into the risk database\n",
    "\n",
    "    db_filename = \"mywhois\"\n",
    "    sample_filename = \"clean_test_data.csv\"\n",
    "\n",
    "    # Open the database and load the current data\n",
    "    risk = mywhois.Risk(db_filename, readonly=False)\n",
    "\n",
    "    # Read the clean set of sample data set\n",
    "    clean_ip = pd.read_csv(sample_filename)\n",
    "\n",
    "    # range over the unique ip addresses\n",
    "    new = 0\n",
    "    old = 0\n",
    "\n",
    "#     ip_todo = clean_ip.ip.drop_duplicates()[132:133]\n",
    "    ip_todo = clean_ip.ip.drop_duplicates()\n",
    "\n",
    "#     import pdb; pdb.set_trace()\n",
    "\n",
    "    for n, ip in enumerate(ip_todo):\n",
    "#         mywhois.debug.prt(f\"{ip=} is record {n=}\\n\")\n",
    "        before = len(risk.risk)\n",
    "        risk.find(ip)\n",
    "        after  = len(risk.risk)\n",
    "        if before == after:\n",
    "            old += 1\n",
    "        else:\n",
    "            new += after - before\n",
    "\n",
    "    print(f\"{n=} {new=} {old=} {len(risk.risk)=}\")\n",
    "\n",
    "main()"
   ]
  },
  {
   "cell_type": "code",
   "execution_count": null,
   "metadata": {
    "code_folding": []
   },
   "outputs": [],
   "source": [
    "# sample_filename = \"clean_test_data.csv\"\n",
    "\n",
    "# clean_ip = pd.read_csv(sample_filename)\n",
    "\n",
    "# clean_ip.ip.drop_duplicates()[:10]\n"
   ]
  },
  {
   "cell_type": "code",
   "execution_count": null,
   "metadata": {},
   "outputs": [],
   "source": [
    "# import mywhois\n",
    "# import pprint\n",
    "# def main():\n",
    "#     # Open the database and load the current data\n",
    "#     risk = mywhois.Risk(\"mywhois\", readonly=False)\n",
    "#     pp.pprint(risk.risk)\n",
    "# main()\n"
   ]
  },
  {
   "cell_type": "code",
   "execution_count": null,
   "metadata": {},
   "outputs": [],
   "source": []
  }
 ],
 "metadata": {
  "kernelspec": {
   "display_name": "Python [conda env:dmv_test]",
   "language": "python",
   "name": "conda-env-dmv_test-py"
  },
  "language_info": {
   "codemirror_mode": {
    "name": "ipython",
    "version": 3
   },
   "file_extension": ".py",
   "mimetype": "text/x-python",
   "name": "python",
   "nbconvert_exporter": "python",
   "pygments_lexer": "ipython3",
   "version": "3.9.7"
  },
  "varInspector": {
   "cols": {
    "lenName": 16,
    "lenType": 16,
    "lenVar": 40
   },
   "kernels_config": {
    "python": {
     "delete_cmd_postfix": "",
     "delete_cmd_prefix": "del ",
     "library": "var_list.py",
     "varRefreshCmd": "print(var_dic_list())"
    },
    "r": {
     "delete_cmd_postfix": ") ",
     "delete_cmd_prefix": "rm(",
     "library": "var_list.r",
     "varRefreshCmd": "cat(var_dic_list()) "
    }
   },
   "types_to_exclude": [
    "module",
    "function",
    "builtin_function_or_method",
    "instance",
    "_Feature"
   ],
   "window_display": false
  }
 },
 "nbformat": 4,
 "nbformat_minor": 5
}
