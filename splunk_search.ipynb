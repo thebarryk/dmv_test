{
 "cells": [
  {
   "cell_type": "code",
   "execution_count": 1,
   "metadata": {},
   "outputs": [],
   "source": [
    "import urllib.request, urllib.parse, urllib.error\n",
    "import httplib2\n",
    "from xml.dom import minidom\n",
    "\n",
    "import getpass\n"
   ]
  },
  {
   "cell_type": "code",
   "execution_count": 2,
   "metadata": {},
   "outputs": [],
   "source": [
    "def lim(lst, mx=10):\n",
    "    return [x for x in lst][:mx]\n",
    "def prt(events):\n",
    "    lst = []\n",
    "    for result in results.ResultsReader(events):\n",
    "        lst.extend(result.values())\n",
    "    return lst"
   ]
  },
  {
   "cell_type": "code",
   "execution_count": 3,
   "metadata": {},
   "outputs": [
    {
     "name": "stdout",
     "output_type": "stream",
     "text": [
      "········\n"
     ]
    }
   ],
   "source": [
    "# Main program to fetch Splunk sid, sessionKey\n",
    "\n",
    "# from future import standard_library\n",
    "# standard_library.install_aliases()\n",
    "\n",
    "baseurl = \"https://its824pl5spldp.svc.ny.gov:8089\"\n",
    "username = \"bdk01\"\n",
    "password = getpass.getpass()\n",
    "\n",
    "searchQuery = \"search index=main sourcetype=cisco:ios | head 5\"\n",
    "\n",
    "# Authenticate with server.\n",
    "# It is necessary to disable SSL cert validation. Splunk certs are self-signed.\n",
    "# The followng will not work\n",
    "# serverContent = httplib2.Http().request(baseurl + \"/services/auth/login\",\n",
    "\n",
    "serverContent = httplib2.Http(disable_ssl_certificate_validation=True).request(baseurl + \"/services/auth/login\",\n",
    "    \"POST\", headers={}, body=urllib.parse.urlencode({\"username\":username, \"password\":password}))[1]\n",
    "\n",
    "sessionKey = minidom.parseString(serverContent).getElementsByTagName(\"sessionKey\")[0].childNodes[0].nodeValue\n",
    "\n"
   ]
  },
  {
   "cell_type": "code",
   "execution_count": 4,
   "metadata": {},
   "outputs": [
    {
     "name": "stdout",
     "output_type": "stream",
     "text": [
      "sessionKey='iwNk5hoWNa1sryPNaRAq^8xnKXW704dtN5ZDUh4VYJo78Xvjs_QT7IAvWQNc8nL9lcweJxaX0CZ1_8pDFH1jk5sm9BN0sMBrd9_8frfW5_Dv'\n"
     ]
    }
   ],
   "source": [
    "print(f\"{sessionKey=}\")"
   ]
  },
  {
   "cell_type": "code",
   "execution_count": 8,
   "metadata": {},
   "outputs": [
    {
     "name": "stdout",
     "output_type": "stream",
     "text": [
      "········\n",
      "000_eventtypes\n",
      "active_directory\n",
      "alert_logevent\n",
      "alert_test\n",
      "alert_webhook\n",
      "Antivirus\n",
      "appsbrowser\n",
      "aristanetworks\n",
      "base64\n",
      "biztalk\n"
     ]
    }
   ],
   "source": [
    "# Here we are using the splunklib.client to login and show the apps loaded.\n",
    "\n",
    "# My reading says that it should be possible to use environment variables \n",
    "# to store the password so it doesn;t have to be placed in the code. \n",
    "# My attempts in jupyter failed.\n",
    "\n",
    "\n",
    "import splunklib.client as client\n",
    "import sys\n",
    "import os\n",
    "import getpass\n",
    "\n",
    "# sys.path.insert(0, os.path.join(os.path.dirname(__file__), \"..\", \"lib\"))\n",
    "import splunklib.client as client\n",
    "\n",
    "HOST = \"its824pl5spldp.svc.ny.gov\"\n",
    "PORT = 8089\n",
    "USERNAME = \"bdk01\"\n",
    "PASSWORD = getpass.getpass()\n",
    "OWNER = \"bdk01\"\n",
    "APP = \"search\"\n",
    "\n",
    "# Create a Service instance and log in \n",
    "service = client.connect(\n",
    "    host=HOST,\n",
    "    port=PORT,\n",
    "    username=USERNAME,\n",
    "    password=PASSWORD,\n",
    "    owner=OWNER,\n",
    "    app=APP)\n",
    "\n",
    "# Print installed apps to the console to verify login\n",
    "for app in lim(service.apps):\n",
    "    print(app.name)\n"
   ]
  },
  {
   "cell_type": "code",
   "execution_count": 7,
   "metadata": {},
   "outputs": [
    {
     "name": "stdout",
     "output_type": "stream",
     "text": [
      "   savedsearch.name='ADDM AI alert'\n",
      "   savedsearch.name='ADDM FW alert'\n",
      "   savedsearch.name='ADDM Hosts Alert'\n",
      "   savedsearch.name='ADDM RT alert'\n",
      "   savedsearch.name='ADDM SI alert'\n",
      "   savedsearch.name='ADDM-jeff'\n",
      "   savedsearch.name='AIX FS Over 90 Alert'\n",
      "   savedsearch.name='Asset Usability'\n",
      "   savedsearch.name='Assets by Agency'\n",
      "   savedsearch.name='bdk01_test_report'\n"
     ]
    }
   ],
   "source": [
    "# List the saved searches that are available to the current user\n",
    "# All the Reports can be seen because owner and app is specified with login.\n",
    "# On this host the owner has role=admin so all are visible.\n",
    "\n",
    "savedsearches = service.saved_searches\n",
    "\n",
    "for savedsearch in lim(savedsearches):\n",
    "    print(f\"   {savedsearch.name=}\")\n"
   ]
  },
  {
   "cell_type": "code",
   "execution_count": null,
   "metadata": {},
   "outputs": [],
   "source": [
    "# Print the job history of saved searches\n",
    "for savedsearch in service.saved_searches:\n",
    "    if not savedsearch.name == 'License Usage Clone':\n",
    "        continue\n",
    "    print(savedsearch.name + \":\")\n",
    "\n",
    "    history = savedsearch.history()\n",
    "    if len(history) > 0:\n",
    "        for job in history:\n",
    "            print(f\"{job.name=}\")\n",
    "    else: \n",
    "        print(\"No jobs for this search\")\n",
    "    print"
   ]
  },
  {
   "cell_type": "code",
   "execution_count": 9,
   "metadata": {},
   "outputs": [
    {
     "name": "stdout",
     "output_type": "stream",
     "text": [
      "100.0%   0 scanned   0 matched   0 results<results preview='0'/>\n"
     ]
    },
    {
     "data": {
      "text/plain": [
       "1"
      ]
     },
     "execution_count": 9,
     "metadata": {},
     "output_type": "execute_result"
    }
   ],
   "source": [
    "from time import sleep\n",
    "import sys\n",
    "\n",
    "# Retrieve the new search\n",
    "mysavedsearch = service.saved_searches['License Usage Clone']\n",
    "\n",
    "# Run the saved search\n",
    "job = mysavedsearch.dispatch()\n",
    "\n",
    "# Create a small delay to allow time for the update between server and client\n",
    "sleep(2)\n",
    "\n",
    "# Wait for the job to finish--poll for completion and display stats\n",
    "while True:\n",
    "    job.refresh()\n",
    "    stats = {\"isDone\": job[\"isDone\"],\n",
    "             \"doneProgress\": float(job[\"doneProgress\"])*100,\n",
    "              \"scanCount\": int(job[\"scanCount\"]),\n",
    "              \"eventCount\": int(job[\"eventCount\"]),\n",
    "              \"resultCount\": int(job[\"resultCount\"])}\n",
    "    status = (\"\\r%(doneProgress)03.1f%%   %(scanCount)d scanned   \"\n",
    "              \"%(eventCount)d matched   %(resultCount)d results\") % stats\n",
    "\n",
    "    sys.stdout.write(status)\n",
    "    sys.stdout.flush()\n",
    "    if stats[\"isDone\"] == \"1\":\n",
    "        break\n",
    "    sleep(2)\n",
    "\n",
    "# Display the search results now that the job is done\n",
    "jobresults = job.results()\n",
    "\n",
    "while True:\n",
    "    content = jobresults.read(1024)\n",
    "    if len(content) == 0: break\n",
    "    sys.stdout.write(content.decode(encoding='UTF-8'))\n",
    "    sys.stdout.flush()\n",
    "sys.stdout.write(\"\\n\")"
   ]
  },
  {
   "cell_type": "code",
   "execution_count": 10,
   "metadata": {},
   "outputs": [],
   "source": [
    "def prt(events):\n",
    "    lst = []\n",
    "    for result in results.ResultsReader(events):\n",
    "        lst.extend(result.values())\n",
    "    return lst"
   ]
  },
  {
   "cell_type": "code",
   "execution_count": 24,
   "metadata": {
    "scrolled": false
   },
   "outputs": [
    {
     "name": "stdout",
     "output_type": "stream",
     "text": [
      "········\n",
      "status='\\r0.0%   0 scanned   0 matched   0 results'\n",
      "status='\\r100.0%   22815 scanned   22815 matched   0 results'\n",
      "status='\\r100.0%   23830 scanned   23830 matched   1 results'\n",
      "\n",
      "\n",
      "Done!\n",
      "\n",
      "[['ActiveDirectory', 'Perfmon:Available Memory', 'Perfmon:CPU Load', 'Perfmon:Free Disk Space', 'Perfmon:Network Interface', 'cisco:estreamer:log', 'cisco:estreamer:status', 'cisco:ios', 'vmware:appvolumes']]\n",
      "[\"<?xml version='1.0' encoding='UTF-8'?>\\n\", \"<results preview='0'>\\n\", '<meta>\\n', '<fieldOrder>\\n', '<field>values(sourcetype)</field>\\n', '</fieldOrder>\\n', '</meta>\\n', \"\\t<result offset='0'>\\n\", \"\\t\\t<field k='values(sourcetype)'>\\n\", '\\t\\t\\t<value><text>ActiveDirectory</text></value>\\n', '\\t\\t\\t<value><text>Perfmon:Available Memory</text></value>\\n', '\\t\\t\\t<value><text>Perfmon:CPU Load</text></value>\\n', '\\t\\t\\t<value><text>Perfmon:Free Disk Space</text></value>\\n', '\\t\\t\\t<value><text>Perfmon:Network Interface</text></value>\\n', '\\t\\t\\t<value><text>cisco:estreamer:log</text></value>\\n', '\\t\\t\\t<value><text>cisco:estreamer:status</text></value>\\n', '\\t\\t\\t<value><text>cisco:ios</text></value>\\n', '\\t\\t\\t<value><text>vmware:appvolumes</text></value>\\n', '\\t\\t</field>\\n', '\\t</result>\\n', '</results>\\n']\n"
     ]
    },
    {
     "data": {
      "text/plain": [
       "<splunklib.client.Job at 0x7efcbc0bf1c0>"
      ]
     },
     "execution_count": 24,
     "metadata": {},
     "output_type": "execute_result"
    }
   ],
   "source": [
    "# This job makes a real search and outputs the result.\n",
    "# Assume an authenticated session is open.\n",
    "\n",
    "import sys\n",
    "from time import sleep\n",
    "import splunklib.results as results\n",
    "import collections\n",
    "# import ordereddict as odict\n",
    "\n",
    "# ...\n",
    "# \n",
    "# Initialize your service like so\n",
    "import splunklib.client as client\n",
    "\n",
    "HOST = \"its824pl5spldp.svc.ny.gov\"\n",
    "PORT = 8089\n",
    "USERNAME = \"bdk01\"\n",
    "PASSWORD = getpass.getpass()\n",
    "OWNER = \"bdk01\"\n",
    "APP = \"search\"\n",
    "\n",
    "# Create a Service instance and log in \n",
    "service = client.connect(\n",
    "    host=HOST,\n",
    "    port=PORT,\n",
    "    username=USERNAME,\n",
    "    password=PASSWORD,\n",
    "    owner=OWNER,\n",
    "    app=APP)\n",
    "\n",
    "searchquery_normal = \"search index=main | stats values(sourcetype)\"\n",
    "\n",
    "kwargs_normalsearch = {\"earliest_time\": \"-15m\",\n",
    "                       \"latest_time\": \"now\",\n",
    "                       \"search_mode\": \"normal\"}\n",
    "job = service.jobs.create(searchquery_normal, **kwargs_normalsearch)\n",
    "\n",
    "# A normal search returns the job's SID right away, so we need to poll for completion\n",
    "while True:\n",
    "    while not job.is_ready():\n",
    "        pass\n",
    "    stats = {\"isDone\": job[\"isDone\"],\n",
    "             \"doneProgress\": float(job[\"doneProgress\"])*100,\n",
    "              \"scanCount\": int(job[\"scanCount\"]),\n",
    "              \"eventCount\": int(job[\"eventCount\"]),\n",
    "              \"resultCount\": int(job[\"resultCount\"])}\n",
    "\n",
    "    status = (\"\\r%(doneProgress)03.1f%%   %(scanCount)d scanned   \"\n",
    "              \"%(eventCount)d matched   %(resultCount)d results\") % stats\n",
    "\n",
    "    print(f\"{status=}\")\n",
    "    sys.stdout.flush()\n",
    "    if stats[\"isDone\"] == \"1\":\n",
    "        sys.stdout.write(\"\\n\\nDone!\\n\\n\")\n",
    "        break\n",
    "    sleep(2)\n",
    "\n",
    "# Get the results and display them\n",
    "# for result in results.ResultsReader(job.results()):\n",
    "#     print(result)\n",
    "\n",
    "print(prt(job.results()))\n",
    "print([x.decode() for x in list(job.results())])\n",
    "    \n",
    "job.cancel()   \n",
    "# sys.stdout.write('\\n')"
   ]
  },
  {
   "cell_type": "code",
   "execution_count": 30,
   "metadata": {
    "scrolled": false
   },
   "outputs": [
    {
     "name": "stdout",
     "output_type": "stream",
     "text": [
      "········\n",
      "status='\\r0.0%   0 scanned   0 matched   0 results'\n",
      "status='\\r100.0%   23799 scanned   23799 matched   1 results'\n",
      "\n",
      "\n",
      "Done!\n",
      "\n",
      "[OrderedDict([('values(sourcetype)', ['ActiveDirectory', 'Perfmon:Available Memory', 'Perfmon:CPU Load', 'Perfmon:Free Disk Space', 'Perfmon:Network Interface', 'cisco:estreamer:log', 'cisco:estreamer:status', 'cisco:ios', 'git_update_corona', 'vmware:appvolumes'])])]\n"
     ]
    },
    {
     "data": {
      "text/plain": [
       "<splunklib.client.Job at 0x7efcbc3e1a00>"
      ]
     },
     "execution_count": 30,
     "metadata": {},
     "output_type": "execute_result"
    }
   ],
   "source": [
    "# Same as previous job: makes a real search and outputs the result.\n",
    "# Assume an authenticated session is open.\n",
    "\n",
    "# This time try to parse the result with BeautifulSoup\n",
    "\n",
    "import sys\n",
    "from time import sleep\n",
    "import splunklib.results as results\n",
    "import collections\n",
    "# import ordereddict as odict\n",
    "\n",
    "# ...\n",
    "# \n",
    "# Initialize your service like so\n",
    "import splunklib.client as client\n",
    "\n",
    "HOST = \"its824pl5spldp.svc.ny.gov\"\n",
    "PORT = 8089\n",
    "USERNAME = \"bdk01\"\n",
    "PASSWORD = getpass.getpass()\n",
    "OWNER = \"bdk01\"\n",
    "APP = \"search\"\n",
    "\n",
    "# Create a Service instance and log in \n",
    "service = client.connect(\n",
    "    host=HOST,\n",
    "    port=PORT,\n",
    "    username=USERNAME,\n",
    "    password=PASSWORD,\n",
    "    owner=OWNER,\n",
    "    app=APP)\n",
    "\n",
    "searchquery_normal = \"search index=main | stats values(sourcetype)\"\n",
    "\n",
    "kwargs_normalsearch = {\"earliest_time\": \"-15m\",\n",
    "                       \"latest_time\": \"now\",\n",
    "                       \"search_mode\": \"normal\"}\n",
    "job = service.jobs.create(searchquery_normal, **kwargs_normalsearch)\n",
    "\n",
    "# A normal search returns the job's SID right away, so we need to poll for completion\n",
    "while True:\n",
    "    while not job.is_ready():\n",
    "        pass\n",
    "    stats = {\"isDone\": job[\"isDone\"],\n",
    "             \"doneProgress\": float(job[\"doneProgress\"])*100,\n",
    "              \"scanCount\": int(job[\"scanCount\"]),\n",
    "              \"eventCount\": int(job[\"eventCount\"]),\n",
    "              \"resultCount\": int(job[\"resultCount\"])}\n",
    "\n",
    "    status = (\"\\r%(doneProgress)03.1f%%   %(scanCount)d scanned   \"\n",
    "              \"%(eventCount)d matched   %(resultCount)d results\") % stats\n",
    "\n",
    "    print(f\"{status=}\")\n",
    "    sys.stdout.flush()\n",
    "    if stats[\"isDone\"] == \"1\":\n",
    "        sys.stdout.write(\"\\n\\nDone!\\n\\n\")\n",
    "        break\n",
    "    sleep(2)\n",
    "\n",
    "# Get the results and display them\n",
    "# for result in results.ResultsReader(job.results()):\n",
    "#     print(result)\n",
    "\n",
    "print(list(results.ResultsReader(job.results())))\n",
    "\n",
    "# soup = BeautifulSoup(results.ResultsReader(job.results()), \"html.parser\")\n",
    "# print(soup)\n",
    "    \n",
    "job.cancel()   \n",
    "# sys.stdout.write('\\n')"
   ]
  },
  {
   "cell_type": "code",
   "execution_count": 66,
   "metadata": {},
   "outputs": [],
   "source": [
    "# Reference:  https://www.twilio.com/blog/web-scraping-and-parsing-html-in-python-with-beautiful-soup\n",
    "\n",
    "import requests\n",
    "from bs4 import BeautifulSoup\n",
    "import json\n",
    "\n",
    "def find_risk(ip_string):\n",
    "    # Return dict of {\"ip_string\": ? , \"score\": ?, \"risk\": ?}\n",
    "    html_text = \"\"\n",
    "    url = \"https://scamalytics.com/ip/\" + ip_string\n",
    "    with os.popen('curl ' + url) as pipe:\n",
    "        html_text = pipe.read()\n",
    "    soup = BeautifulSoup(html_text, 'lxml')\n",
    "    return json.loads(soup.pre.string)\n",
    "\n",
    "# url = \"https://live.euronext.com/fr/product/equities/FR0000120271-XPAR\"\n",
    "# html_text = requests.get(url, verify=\"/etc/ssl/certs/ca-certificates.crt\").text\n",
    "# html_text = requests.get(url, verify=False).text  # Doesn't work and is dangerous\n",
    "\n",
    "# scamalytics didn't work so we used the curl method\n",
    "   \n"
   ]
  },
  {
   "cell_type": "code",
   "execution_count": 67,
   "metadata": {},
   "outputs": [
    {
     "name": "stderr",
     "output_type": "stream",
     "text": [
      "  % Total    % Received % Xferd  Average Speed   Time    Time     Time  Current\n",
      "                                 Dload  Upload   Total   Spent    Left  Speed\n",
      "  0     0    0     0    0     0      0      0 --:--:-- --:--:-- --:--:--     0"
     ]
    },
    {
     "name": "stdout",
     "output_type": "stream",
     "text": [
      "find_risk('52.252.130.105')={'ip': '52.252.130.105', 'score': '15', 'risk': 'low'}\n"
     ]
    },
    {
     "name": "stderr",
     "output_type": "stream",
     "text": [
      "\r",
      "  0     0    0     0    0     0      0      0 --:--:--  0:00:01 --:--:--     0\r",
      "100 21762    0 21762    0     0  14664      0 --:--:--  0:00:01 --:--:-- 14654\n"
     ]
    }
   ],
   "source": [
    "print(f\"{find_risk('52.252.130.105')=}\")"
   ]
  },
  {
   "cell_type": "code",
   "execution_count": 61,
   "metadata": {},
   "outputs": [
    {
     "name": "stdout",
     "output_type": "stream",
     "text": [
      "{'ip': '52.252.130.105', 'score': '15', 'risk': 'low'}\n"
     ]
    }
   ],
   "source": [
    "import json\n",
    "print(json.loads(risk_json))"
   ]
  },
  {
   "cell_type": "code",
   "execution_count": 68,
   "metadata": {},
   "outputs": [
    {
     "name": "stdout",
     "output_type": "stream",
     "text": [
      "Help on function popen in module os:\n",
      "\n",
      "popen(cmd, mode='r', buffering=-1)\n",
      "    # Supply os.popen()\n",
      "\n"
     ]
    }
   ],
   "source": [
    "help(os.popen)"
   ]
  },
  {
   "cell_type": "code",
   "execution_count": null,
   "metadata": {},
   "outputs": [],
   "source": []
  }
 ],
 "metadata": {
  "kernelspec": {
   "display_name": "Python [conda env:dmv_test]",
   "language": "python",
   "name": "conda-env-dmv_test-py"
  },
  "language_info": {
   "codemirror_mode": {
    "name": "ipython",
    "version": 3
   },
   "file_extension": ".py",
   "mimetype": "text/x-python",
   "name": "python",
   "nbconvert_exporter": "python",
   "pygments_lexer": "ipython3",
   "version": "3.9.7"
  }
 },
 "nbformat": 4,
 "nbformat_minor": 4
}
