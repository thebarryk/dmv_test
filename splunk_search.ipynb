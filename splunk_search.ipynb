{
 "cells": [
  {
   "cell_type": "code",
   "execution_count": 1,
   "metadata": {},
   "outputs": [],
   "source": [
    "import urllib.request, urllib.parse, urllib.error\n",
    "import httplib2\n",
    "from xml.dom import minidom\n",
    "\n",
    "import getpass\n"
   ]
  },
  {
   "cell_type": "code",
   "execution_count": 6,
   "metadata": {},
   "outputs": [],
   "source": [
    "def lim(lst, mx=10):\n",
    "    return [x for x in lst][:mx]\n",
    "def prt(events):\n",
    "    lst = []\n",
    "    for result in results.ResultsReader(events):\n",
    "        lst.extend(result.values())\n",
    "    return lst"
   ]
  },
  {
   "cell_type": "code",
   "execution_count": 3,
   "metadata": {},
   "outputs": [
    {
     "name": "stdout",
     "output_type": "stream",
     "text": [
      "········\n"
     ]
    }
   ],
   "source": [
    "# Main program to fetch Splunk sid, sessionKey\n",
    "\n",
    "# from future import standard_library\n",
    "# standard_library.install_aliases()\n",
    "\n",
    "baseurl = \"https://its824pl5spldp.svc.ny.gov:8089\"\n",
    "username = \"bdk01\"\n",
    "password = getpass.getpass()\n",
    "\n",
    "searchQuery = \"search index=main sourcetype=cisco:ios | head 5\"\n",
    "\n",
    "# Authenticate with server.\n",
    "# It is necessary to disable SSL cert validation. Splunk certs are self-signed.\n",
    "# The followng will not work\n",
    "# serverContent = httplib2.Http().request(baseurl + \"/services/auth/login\",\n",
    "\n",
    "serverContent = httplib2.Http(disable_ssl_certificate_validation=True).request(baseurl + \"/services/auth/login\",\n",
    "    \"POST\", headers={}, body=urllib.parse.urlencode({\"username\":username, \"password\":password}))[1]\n",
    "\n",
    "sessionKey = minidom.parseString(serverContent).getElementsByTagName(\"sessionKey\")[0].childNodes[0].nodeValue\n",
    "\n"
   ]
  },
  {
   "cell_type": "code",
   "execution_count": 4,
   "metadata": {},
   "outputs": [
    {
     "name": "stdout",
     "output_type": "stream",
     "text": [
      "sessionKey='Sv^yXbsWdplEo8TPh9Oi1DEJgO4ksd3VaMmUKM6i4GmA_XTKgphjTtOHQeHQvp^ddpw2sf^Akk148D^ioUguJhMd^phOC^DFoxFG12Wm_o'\n"
     ]
    }
   ],
   "source": [
    "print(f\"{sessionKey=}\")"
   ]
  },
  {
   "cell_type": "code",
   "execution_count": 8,
   "metadata": {},
   "outputs": [
    {
     "name": "stdout",
     "output_type": "stream",
     "text": [
      "········\n",
      "000_eventtypes\n",
      "active_directory\n",
      "alert_logevent\n",
      "alert_test\n",
      "alert_webhook\n",
      "Antivirus\n",
      "appsbrowser\n",
      "aristanetworks\n",
      "base64\n",
      "biztalk\n"
     ]
    }
   ],
   "source": [
    "# Here we are using the splunklib.client to login and show the apps loaded.\n",
    "\n",
    "# My reading says that it should be possible to use environment variables \n",
    "# to store the password so it doesn;t have to be placed in the code. \n",
    "# My attempts in jupyter failed.\n",
    "\n",
    "\n",
    "import splunklib.client as client\n",
    "import sys\n",
    "import os\n",
    "import getpass\n",
    "\n",
    "# sys.path.insert(0, os.path.join(os.path.dirname(__file__), \"..\", \"lib\"))\n",
    "import splunklib.client as client\n",
    "\n",
    "HOST = \"its824pl5spldp.svc.ny.gov\"\n",
    "PORT = 8089\n",
    "USERNAME = \"bdk01\"\n",
    "PASSWORD = getpass.getpass()\n",
    "OWNER = \"bdk01\"\n",
    "APP = \"search\"\n",
    "\n",
    "# Create a Service instance and log in \n",
    "service = client.connect(\n",
    "    host=HOST,\n",
    "    port=PORT,\n",
    "    username=USERNAME,\n",
    "    password=PASSWORD,\n",
    "    owner=OWNER,\n",
    "    app=APP)\n",
    "\n",
    "# Print installed apps to the console to verify login\n",
    "for app in lim(service.apps):\n",
    "    print(app.name)\n"
   ]
  },
  {
   "cell_type": "code",
   "execution_count": 9,
   "metadata": {},
   "outputs": [
    {
     "name": "stdout",
     "output_type": "stream",
     "text": [
      "   savedsearch.name='ADDM AI alert'\n",
      "   savedsearch.name='ADDM FW alert'\n",
      "   savedsearch.name='ADDM Hosts Alert'\n",
      "   savedsearch.name='ADDM RT alert'\n",
      "   savedsearch.name='ADDM SI alert'\n",
      "   savedsearch.name='ADDM-jeff'\n",
      "   savedsearch.name='AIX FS Over 90 Alert'\n",
      "   savedsearch.name='Asset Usability'\n",
      "   savedsearch.name='Assets by Agency'\n",
      "   savedsearch.name='bdk01_test_report'\n"
     ]
    }
   ],
   "source": [
    "# List the saved searches that are available to the current user\n",
    "# All the Reports can be seen because owner and app is specified with login.\n",
    "# On this host the owner has role=admin so all are visible.\n",
    "\n",
    "savedsearches = service.saved_searches\n",
    "\n",
    "for savedsearch in lim(savedsearches):\n",
    "    print(f\"   {savedsearch.name=}\")\n"
   ]
  },
  {
   "cell_type": "code",
   "execution_count": 10,
   "metadata": {},
   "outputs": [
    {
     "name": "stdout",
     "output_type": "stream",
     "text": [
      "License Usage Clone:\n",
      "No jobs for this search\n"
     ]
    }
   ],
   "source": [
    "# Print the job history of saved searches\n",
    "for savedsearch in service.saved_searches:\n",
    "    if not savedsearch.name == 'License Usage Clone':\n",
    "        continue\n",
    "    print(savedsearch.name + \":\")\n",
    "\n",
    "    history = savedsearch.history()\n",
    "    if len(history) > 0:\n",
    "        for job in history:\n",
    "            print(f\"{job.name=}\")\n",
    "    else: \n",
    "        print(\"No jobs for this search\")\n",
    "    print"
   ]
  },
  {
   "cell_type": "code",
   "execution_count": 11,
   "metadata": {},
   "outputs": [
    {
     "name": "stdout",
     "output_type": "stream",
     "text": [
      "100.0%   0 scanned   0 matched   0 results<results preview='0'/>\n"
     ]
    },
    {
     "data": {
      "text/plain": [
       "1"
      ]
     },
     "execution_count": 11,
     "metadata": {},
     "output_type": "execute_result"
    }
   ],
   "source": [
    "from time import sleep\n",
    "import sys\n",
    "\n",
    "# Retrieve the new search\n",
    "mysavedsearch = service.saved_searches['License Usage Clone']\n",
    "\n",
    "# Run the saved search\n",
    "job = mysavedsearch.dispatch()\n",
    "\n",
    "# Create a small delay to allow time for the update between server and client\n",
    "sleep(2)\n",
    "\n",
    "# Wait for the job to finish--poll for completion and display stats\n",
    "while True:\n",
    "    job.refresh()\n",
    "    stats = {\"isDone\": job[\"isDone\"],\n",
    "             \"doneProgress\": float(job[\"doneProgress\"])*100,\n",
    "              \"scanCount\": int(job[\"scanCount\"]),\n",
    "              \"eventCount\": int(job[\"eventCount\"]),\n",
    "              \"resultCount\": int(job[\"resultCount\"])}\n",
    "    status = (\"\\r%(doneProgress)03.1f%%   %(scanCount)d scanned   \"\n",
    "              \"%(eventCount)d matched   %(resultCount)d results\") % stats\n",
    "\n",
    "    sys.stdout.write(status)\n",
    "    sys.stdout.flush()\n",
    "    if stats[\"isDone\"] == \"1\":\n",
    "        break\n",
    "    sleep(2)\n",
    "\n",
    "# Display the search results now that the job is done\n",
    "jobresults = job.results()\n",
    "\n",
    "while True:\n",
    "    content = jobresults.read(1024)\n",
    "    if len(content) == 0: break\n",
    "    sys.stdout.write(content.decode(encoding='UTF-8'))\n",
    "    sys.stdout.flush()\n",
    "sys.stdout.write(\"\\n\")"
   ]
  },
  {
   "cell_type": "code",
   "execution_count": 12,
   "metadata": {},
   "outputs": [],
   "source": [
    "def prt(events):\n",
    "    lst = []\n",
    "    for result in results.ResultsReader(events):\n",
    "        lst.extend(result.values())\n",
    "    return lst"
   ]
  },
  {
   "cell_type": "code",
   "execution_count": 18,
   "metadata": {
    "scrolled": false
   },
   "outputs": [
    {
     "name": "stdout",
     "output_type": "stream",
     "text": [
      "status='\\r0.0%   0 scanned   0 matched   0 results'\n",
      "status='\\r100.0%   23819 scanned   23819 matched   1 results'\n",
      "\n",
      "\n",
      "Done!\n",
      "\n",
      "[['ActiveDirectory', 'Perfmon:Available Memory', 'Perfmon:CPU Load', 'Perfmon:Free Disk Space', 'Perfmon:Network Interface', 'cisco:estreamer:log', 'cisco:estreamer:status', 'cisco:ios', 'git_update_corona', 'vmware:appvolumes']]\n",
      "[\"<?xml version='1.0' encoding='UTF-8'?>\\n\", \"<results preview='0'>\\n\", '<meta>\\n', '<fieldOrder>\\n', '<field>values(sourcetype)</field>\\n', '</fieldOrder>\\n', '</meta>\\n', \"\\t<result offset='0'>\\n\", \"\\t\\t<field k='values(sourcetype)'>\\n\", '\\t\\t\\t<value><text>ActiveDirectory</text></value>\\n', '\\t\\t\\t<value><text>Perfmon:Available Memory</text></value>\\n', '\\t\\t\\t<value><text>Perfmon:CPU Load</text></value>\\n', '\\t\\t\\t<value><text>Perfmon:Free Disk Space</text></value>\\n', '\\t\\t\\t<value><text>Perfmon:Network Interface</text></value>\\n', '\\t\\t\\t<value><text>cisco:estreamer:log</text></value>\\n', '\\t\\t\\t<value><text>cisco:estreamer:status</text></value>\\n', '\\t\\t\\t<value><text>cisco:ios</text></value>\\n', '\\t\\t\\t<value><text>git_update_corona</text></value>\\n', '\\t\\t\\t<value><text>vmware:appvolumes</text></value>\\n', '\\t\\t</field>\\n', '\\t</result>\\n', '</results>\\n']\n"
     ]
    },
    {
     "data": {
      "text/plain": [
       "<splunklib.client.Job at 0x7f79306638e0>"
      ]
     },
     "execution_count": 18,
     "metadata": {},
     "output_type": "execute_result"
    }
   ],
   "source": [
    "# This job makes a real search and outputs the result.\n",
    "# Assume an authenticated session is open.\n",
    "\n",
    "import sys\n",
    "from time import sleep\n",
    "import splunklib.results as results\n",
    "import collections\n",
    "# import ordereddict as odict\n",
    "\n",
    "# ...\n",
    "# \n",
    "# Initialize your service like so\n",
    "# import splunklib.client as client\n",
    "# service = client.connect(username=\"admin\", password=\"yourpassword\")\n",
    "\n",
    "searchquery_normal = \"search index=main | stats values(sourcetype)\"\n",
    "\n",
    "kwargs_normalsearch = {\"earliest_time\": \"-15m\",\n",
    "                       \"latest_time\": \"now\",\n",
    "                       \"search_mode\": \"normal\"}\n",
    "job = service.jobs.create(searchquery_normal, **kwargs_normalsearch)\n",
    "\n",
    "# A normal search returns the job's SID right away, so we need to poll for completion\n",
    "while True:\n",
    "    while not job.is_ready():\n",
    "        pass\n",
    "    stats = {\"isDone\": job[\"isDone\"],\n",
    "             \"doneProgress\": float(job[\"doneProgress\"])*100,\n",
    "              \"scanCount\": int(job[\"scanCount\"]),\n",
    "              \"eventCount\": int(job[\"eventCount\"]),\n",
    "              \"resultCount\": int(job[\"resultCount\"])}\n",
    "\n",
    "    status = (\"\\r%(doneProgress)03.1f%%   %(scanCount)d scanned   \"\n",
    "              \"%(eventCount)d matched   %(resultCount)d results\") % stats\n",
    "\n",
    "    print(f\"{status=}\")\n",
    "    sys.stdout.flush()\n",
    "    if stats[\"isDone\"] == \"1\":\n",
    "        sys.stdout.write(\"\\n\\nDone!\\n\\n\")\n",
    "        break\n",
    "    sleep(2)\n",
    "\n",
    "# Get the results and display them\n",
    "# for result in results.ResultsReader(job.results()):\n",
    "#     print(result)\n",
    "\n",
    "print(prt(job.results()))\n",
    "print([x.decode() for x in list(job.results())])\n",
    "    \n",
    "job.cancel()   \n",
    "# sys.stdout.write('\\n')"
   ]
  },
  {
   "cell_type": "code",
   "execution_count": 46,
   "metadata": {},
   "outputs": [],
   "source": [
    "# Reference:  https://www.twilio.com/blog/web-scraping-and-parsing-html-in-python-with-beautiful-soup\n",
    "\n",
    "import requests\n",
    "from bs4 import BeautifulSoup\n",
    "html_text = \"\"\n",
    "url = \"https://scamalytics.com/ip/52.252.130.105\"\n",
    "\n",
    "# url = \"https://live.euronext.com/fr/product/equities/FR0000120271-XPAR\"\n",
    "# html_text = requests.get(url, verify=\"/etc/ssl/certs/ca-certificates.crt\").text\n",
    "# html_text = requests.get(url, verify=False).text  # Doesn't work and is dangerous\n",
    "\n",
    "# scamalytics didn't work so we used the curl method\n",
    "with os.popen('curl ' + url) as pipe:\n",
    "    html_text = pipe.read()\n",
    "   \n",
    "soup = BeautifulSoup()"
   ]
  },
  {
   "cell_type": "code",
   "execution_count": 45,
   "metadata": {},
   "outputs": [
    {
     "data": {
      "text/plain": [
       "'<!-- init: 3.33 ms --><!-- getNmapResult: 0.24 ms --><!-- getProxies: 4.69 ms --><!-- reverseDNS: 0.14 ms --><!doctype html>\\n<html ⚡>\\n<head>\\n\\n    <meta charset=\"utf-8\">\\n    <title>52.252.130.105 ( Microsoft Corporation ) Fraud Risk</title>\\n\\n    <script async src=\"https://cdn.ampproject.org/v0.js\"></script>\\n    <script async custom-element=\"amp-form\" src=\"https://cdn.ampproject.org/v0/amp-form-0.1.js\"></script>\\n    <script async custom-element=\"amp-analytics\" src=\"https://cdn.ampproject.org/v0/amp-analytics-0.1.js\"></script>\\n\\n    <link rel=\"canonical\" href=\"https://scamalytics.com/ip/52.252.130.105\">\\n    <link rel=\"shortcut icon\" href=\"https://scamalytics.com/wp-content/uploads/2016/06/icon_128.png\" type=\"image/png\">\\n    <link rel=\"icon\" href=\"https://scamalytics.com/wp-content/uploads/2016/06/icon_128.png\" type=\"image/png\">\\n\\n    <meta name=\"viewport\" content=\"width=device-width,minimum-scale=1,initial-scale=1\">\\n\\n    <style amp-boilerplate>body{-webkit-animation:-amp-start 8s steps(1,end) 0s 1 normal both;-moz-animation:-amp-start 8s steps(1,end) 0s 1 normal both;-ms-animation:-amp-start 8s steps(1,end) 0s 1 normal both;animation:-amp-start 8s steps(1,end) 0s 1 normal both}@-webkit-keyframes -amp-start{from{visibility:hidden}to{visibility:visible}}@-moz-keyframes -amp-start{from{visibility:hidden}to{visibility:visible}}@-ms-keyframes -amp-start{from{visibility:hidden}to{visibility:visible}}@-o-keyframes -amp-start{from{visibility:hidden}to{visibility:visible}}@keyframes -amp-start{from{visibility:hidden}to{visibility:visible}}</style><noscript><style amp-boilerplate>body{-webkit-animation:none;-moz-animation:none;-ms-animation:none;animation:none}</style></noscript>\\n\\n    <style amp-custom>\\n        body {\\n            font-family: \"Helvetica Neue\", Helvetica, Arial, sans-serif;\\n            font-size: 16px;\\n            padding: 0;\\n            margin: 0;\\n            line-height: 1.6rem;\\n        }\\n        h1 {\\n            font-family: \"Raleway\", \"Helvetica Neue\", Helvetica, Arial, sans-serif;\\n            color: #3b5998;\\n            font-size: 1.5rem;\\n            font-weight: 400;\\n            padding: 0;\\n            margin: 0 0 1rem 0;\\n        }\\n        h2 {\\n            font-size: 1.6rem;\\n            font-weight: normal;\\n            line-height: 2.0rem;\\n        }\\n        a {\\n            color: #488FD7;\\n            text-decoration: none;\\n        }\\n        a:hover {\\n            color: #4489CD;\\n            text-decoration: underline;\\n        }\\n        .container {\\n            padding: 20px;\\n            margin: auto;\\n            max-width: 1140px;\\n        }\\n        form#ip_search {\\n            display: flex;\\n        }\\n        form#ip_search button {\\n            box-sizing: border-box;\\n            width: 20%;\\n            height: 40px;\\n            background: #3c5a96;\\n            border: none;\\n            cursor: pointer;\\n        }\\n        form#ip_search button:hover {\\n            background: #4f6aa0;\\n        }\\n        form#ip_search input {\\n            box-sizing: border-box;\\n            width: 80%;\\n            height: 40px;\\n            font-size: 20px;\\n            padding: 0 10px;\\n            border: 1px solid #CCCCCC;\\n            border-right: none;\\n        }\\n        table {\\n            border-collapse: collapse;\\n            margin-bottom: 1rem;\\n        }\\n        th, td {\\n            border-bottom: 1px solid #e7e7e7;\\n            padding: 0.5rem;\\n            display: block;\\n            vertical-align: top;\\n        }\\n        th {\\n            text-align: left;\\n            padding-left: 1rem;\\n        }\\n        td {\\n            padding-left: 2rem;\\n        }\\n        td.colspan {\\n            padding-left: 1rem;\\n        }\\n        th.title {\\n            padding-left: 0.5rem;\\n            padding-top: 1.5rem;\\n            font-size: 1.4rem;\\n            font-weight: 200;\\n            border-bottom: 1px solid #000000;\\n            text-align: left;\\n        }\\n        th.title.first {\\n            padding-top: 0.5rem;\\n        }\\n        @media only screen and (min-width: 500px) {\\n            th, td {\\n                display: table-cell;\\n            }\\n            h1 {\\n                font-size: 2.3rem;\\n                font-weight: 200;\\n                margin: 1rem 0 2rem 0;\\n            }\\n        }\\n        .protocol {\\n            display: flex;\\n            align-items: flex-start\\n        }\\n        .protocol>.name {\\n            background:#157ffb;\\n            color: #FFFFFF;\\n            padding: 3px 10px 3px 5px;\\n            border-radius: 0 10px 10px 0;\\n            margin-right: 0.5rem;\\n            font-weight: normal;\\n        }\\n        .protocol>.description {\\n            padding-top: 3px;\\n            font-weight: normal;\\n        }\\n        .protocol_status {\\n            display: flex;\\n            align-items: flex-start\\n        }\\n        .protocol_status>.open {\\n            background: #da3749;\\n            color: #FFFFFF;\\n            padding: 3px 0;\\n            margin-right: 0.5rem;\\n            width: 4rem;\\n            text-align: center;\\n        }\\n\\n        .closed {\\n            background: #BBBBBB;\\n            color: #FFFFFF;\\n            padding: 3px 0;\\n            display: inline-block;\\n            width: 4rem;\\n            text-align: center;\\n        }\\n        .protocol_status>.product {\\n            padding-top: 3px\\n        }\\n\\n        .risk {\\n            color: #FFFFFF;\\n            padding: 3px 0;\\n            width: 3rem;\\n            text-align: center;\\n        }\\n        .risk.yes {\\n            background:#da3749;\\n        }\\n        .risk.no {\\n            background:#30a64a;\\n        }\\n        .risk.na {\\n            background:#333333;\\n        }\\n        .panel_title {\\n            padding: 10px;\\n            border-radius: 5px 5px 0 0;\\n            color: #FFFFFF;\\n            font-size: 1.2rem;\\n        }\\n\\n        .panel_title.score_0_10 {\\n            background-color: #009a60;\\n        }\\n        .panel_title.score_10_20 {\\n            background-color: #4aa84e;\\n        }\\n        .panel_title.score_20_30 {\\n            background-color: #92b73a;\\n        }\\n        .panel_title.score_30_40 {\\n            background-color: #c6bf22;\\n        }\\n        .panel_title.score_40_50 {\\n            background-color: #edbd02;\\n        }\\n        .panel_title.score_50_60 {\\n            background-color: #ffad00;\\n        }\\n        .panel_title.score_60_70 {\\n            background-color: #ff8c00;\\n        }\\n        .panel_title.score_70_80 {\\n            background-color: #fc6114;\\n        }\\n        .panel_title.score_80_90 {\\n            background-color: #f43021;\\n        }\\n        .panel_title.score_90_100 {\\n            background-color: #ed0022;\\n        }\\n\\n        .panel_body {\\n            background: #eeeeee;\\n            padding: 10px;\\n            border-radius: 0 0 5px 5px;\\n            margin-bottom: 1rem;\\n            border-top: #FFFFFF solid 1px;\\n        }\\n        #logo {\\n            border-bottom: 1px solid #e7e7e7;\\n        }\\n        #logo .img_width {\\n            max-width: 394px;\\n        }\\n        #search_form {\\n            background: #e7e7e7;\\n        }\\n        .guage_body {\\n            background-color: #eeeeee;\\n            padding: 0 5px;\\n            border-top: #FFFFFF solid 1px\\n        }\\n\\n        .guage_body>.risk_legend {\\n            display: flex;\\n            justify-content: space-between;\\n            padding: 10px 5px;\\n            color: #666666\\n        }\\n        .guage_body>.bar {\\n            display: flex;\\n            background-color: #FFFFFF;\\n            padding: 5px\\n        }\\n        .guage_body>.score_bar {\\n            display: flex;\\n            justify-content: space-between;\\n            padding: 10px 5px;\\n            align-items: center;\\n            color: #999999\\n        }\\n        .guage_body>.score_bar>.score {\\n            font-size: 20px;\\n            background-color: #FFFFFF;\\n            border-radius: 5px;\\n            padding: 5px;\\n            color: #000000\\n        }\\n        .gauge_item {\\n            flex: 1 1 auto;\\n            height: 30px;\\n            margin-right: 2px;\\n        }\\n\\n        .gauge_item.score_0_10 {\\n            background-color: #009a60;\\n        }\\n        .gauge_item.score_10_20 {\\n            background-color: #4aa84e;\\n        }\\n        .gauge_item.score_20_30 {\\n            background-color: #92b73a;\\n        }\\n        .gauge_item.score_30_40 {\\n            background-color: #c6bf22;\\n        }\\n        .gauge_item.score_40_50 {\\n            background-color: #edbd02;\\n        }\\n        .gauge_item.score_50_60 {\\n            background-color: #ffad00;\\n        }\\n        .gauge_item.score_60_70 {\\n            background-color: #ff8c00;\\n        }\\n        .gauge_item.score_70_80 {\\n            background-color: #fc6114;\\n        }\\n        .gauge_item.score_80_90 {\\n            background-color: #f43021;\\n        }\\n        .gauge_item.score_90_100 {\\n            background-color: #ed0022;\\n        }\\n        .gauge_item.off {\\n            background-color: #EEEEEE;\\n        }\\n\\n        .gauge_item.units {\\n            display: flex;\\n        }\\n        .gauge_item.units_1>.left{\\n            width: 10%\\n        }\\n        .gauge_item.units_1>.right{\\n            width: 90%;\\n            background-color: #EEEEEE;\\n        }\\n        .gauge_item.units_2>.left{\\n            width: 20%\\n        }\\n        .gauge_item.units_2>.right{\\n            width: 80%;\\n            background-color: #EEEEEE;\\n        }\\n        .gauge_item.units_3>.left{\\n            width: 30%\\n        }\\n        .gauge_item.units_3>.right{\\n            width: 70%;\\n            background-color: #EEEEEE;\\n        }\\n        .gauge_item.units_4>.left{\\n            width: 40%\\n        }\\n        .gauge_item.units_4>.right{\\n            width: 60%;\\n            background-color: #EEEEEE;\\n        }\\n        .gauge_item.units_5>.left{\\n            width: 50%\\n        }\\n        .gauge_item.units_5>.right{\\n            width: 50%;\\n            background-color: #EEEEEE;\\n        }\\n        .gauge_item.units_6>.left{\\n            width: 60%\\n        }\\n        .gauge_item.units_6>.right{\\n            width: 40%;\\n            background-color: #EEEEEE;\\n        }\\n        .gauge_item.units_7>.left{\\n            width: 70%\\n        }\\n        .gauge_item.units_7>.right{\\n            width: 30%;\\n            background-color: #EEEEEE;\\n        }\\n        .gauge_item.units_8>.left{\\n            width: 80%\\n        }\\n        .gauge_item.units_8>.right{\\n            width: 20%;\\n            background-color: #EEEEEE;\\n        }\\n        .gauge_item.units_9>.left{\\n            width: 90%\\n        }\\n        .gauge_item.units_9>.right{\\n            width: 10%;\\n            background-color: #EEEEEE;\\n        }\\n        #execution_time {\\n            margin-top: 1rem;\\n            border-top: 1px solid #EEEEEE;\\n            padding-top: 1rem;\\n            text-align: right;\\n            color: #CCCCCC;\\n            font-family: monospace;\\n        }\\n        \\n        /* >>>CSS for nav */\\n        #logo_banner .nav {\\n            border-top: 1px #e7e7e7 solid;\\n            margin-top: 1rem;\\n            padding-top: 1rem;\\n        }\\n        #logo_banner .nav a {\\n            color: #828282;\\n            text-decoration: none;\\n            margin-left: 1rem;\\n        }\\n        #logo_banner .nav a:hover {\\n            color: #828282;\\n            text-decoration: none;\\n        }\\n        @media only screen and (min-width: 600px) {\\n            #logo_banner {\\n                display: flex;\\n                justify-content: space-between;\\n                align-items: center;\\n            }\\n            #logo_banner .img_width {\\n                min-width: 394px;\\n            }\\n            #logo_banner .nav {\\n                border-top: none;\\n                margin-top: 0;\\n                padding-top: 0;\\n            }\\n        }\\n        /* <<<CSS for nav */\\n        /* >>>Fix logo jump */\\n        .responsive-container {\\n            width: 100%;\\n            padding-bottom: 20.325203252%; /* 9/16 = aspect ratio of image */\\n            position: relative;\\n        }\\n\\n        .responsive-container img {\\n            position: absolute;\\n            top: 0;\\n            left: 0;\\n            width: 100%;\\n            height: 100%;\\n        }\\n        /* <<<Fix logo jump */\\n    </style>\\n    </head>\\n\\n<body>\\n\\n<div id=\"logo\">\\n    <div class=\"container\">\\n        <div id=\"logo_banner\">\\n            <div class=\"img_width\"><a href=\"/\"><amp-img src=\"https://scamalytics.com/wp-content/uploads/2016/06/Scamalytics-Logo-No-Strapline-Transparent-738x150.png\" alt=\"Scamalytics Logo\" width=\"738\" height=\"150\" layout=\"responsive\"></amp-img></a></div>\\n            <!--Nav-->\\n            <div class=\"nav\">\\n                <a href=\"https://scamalytics.com/ip/api/pricing\">Pricing</a>\\n                <a href=\"https://scamalytics.com/#contact\">Contact</a>\\n            </div>\\n            <!--/Nav-->\\n        </div>\\n    </div>\\n</div>\\n<div id=\"search_form\">\\n    <div class=\"container\">\\n        <form id=\"ip_search\" action=\"https://scamalytics.com/search\" target=\"_top\" method=\"GET\">\\n            <input type=\"text\" placeholder=\"Enter IP address...\" name=\"ip\" value=\"52.252.130.105\">\\n            <button type=\"submit\"><amp-img src=\"/icon_search.png\" alt=\"Search\" width=\"20\" height=\"20\" layout=\"fixed\"></amp-img></button>\\n        </form>\\n    </div>\\n</div>\\n<div class=\"container\">\\n    <h1>52.252.130.105 Fraud Risk</h1>\\n    <div class=\"panel_title high_risk\" style=\"background-color: #4aa84e\">Low Risk</div>\\n    \\n    <div class=\"guage_body\">\\n        <div class=\"risk_legend\">\\n            <div>&larr;&nbsp;Lowest Risk</div>\\n            <div>Highest Risk&nbsp;&rarr;</div>\\n        </div>\\n        <div class=\"bar\">\\n            \\n            <div class=\"gauge_item score_0_10 \" ></div>\\n            \\n            <div class=\"gauge_item score_10_20 units units_5\" ><div class=\"left\"></div><div class=\"right\"></div></div>\\n            \\n            <div class=\"gauge_item off \" ></div>\\n            \\n            <div class=\"gauge_item off \" ></div>\\n            \\n            <div class=\"gauge_item off \" ></div>\\n            \\n            <div class=\"gauge_item off \" ></div>\\n            \\n            <div class=\"gauge_item off \" ></div>\\n            \\n            <div class=\"gauge_item off \" ></div>\\n            \\n            <div class=\"gauge_item off \" ></div>\\n            \\n            <div class=\"gauge_item off \" style=\"margin-right: 0\"></div>\\n            \\n        </div>\\n        <div class=\"score_bar\">\\n            <div>0</div>\\n            <div class=\"score\">Fraud Score: 15</div>\\n            <div>100</div>\\n        </div>\\n\\n    </div>\\n\\n    <div class=\"panel_body\">IP address \\u200b\\u200b<b>52.252.130.105</b> is operated by \\u200b<b>Microsoft Corporation</b> whose \\u200b\\u200b<b>web traffic</b> we consider to present a potentially <b>low</b>\\u200b fraud risk. Non-web traffic may present a different risk or no risk at all. Scamalytics see low levels of traffic from Microsoft Corporation across our global network, \\u200blittle of which we suspect to be potentially fraudulent. We have no visibility into the web traffic directly from \\u200b52.252.130.105\\u200b, and therefore apply a risk score of \\u200b15\\u200b/100 based on the overall risk from \\u200bMicrosoft Corporation\\u200b’s IP addresses where we do have visibility. 52.252.130.105 is not a standard domestic connection, it is a commercial server which could be proxying traffic from another geographical location. The geographical location of 52.252.130.105 is in the United States, however the geographical location of the user could be anywhere in the world.</div>\\n    <div style=\"border: 1px solid #CCCCCC; border-radius: 5px; padding: 5px; margin: 0 0 1rem 0\">\\n        <div style=\"border-bottom: 1px solid #CCCCCC\"><b>IP Fraud Risk API</b></div>\\n        <pre style=\"margin: 0; text-transform: lowercase;\">\\n{\\n  \"ip\":\"52.252.130.105\",\\n  \"score\":\"15\",\\n  \"risk\":\"low\"\\n}\\n        </pre>\\n        <div style=\"border-top: 1px solid #CCCCCC\"><a href=\"/ip/api/pricing\">Click here</a> for details of our <a href=\"/ip/api/pricing\">free usage tier</a>, <a href=\"/ip/api/pricing\">free trial</a>, and <a href=\"/ip/api/pricing\">pricing information</a>.</div>\\n    </div>\\n\\n    <table>\\n        <tr>\\n            <th class=\"title first\" colspan=\"2\">Operator</th>\\n        </tr>\\n        <tr>\\n            <th>Hostname</th>\\n            <td>n/a</td>\\n        </tr>\\n        <tr>\\n            <th>ASN</th>\\n            <td>8075 - AS8075</td>\\n        </tr>\\n        <tr>\\n            <th>ISP Name</th>\\n            \\n                <td><a href=\"https://scamalytics.com/ip/isp/microsoft-corporation\">Microsoft Corporation</a></td>\\n            \\n            \\n        </tr>\\n        <tr>\\n            <th>Organization Name</th>\\n            <td>Microsoft Corporation</td>\\n        </tr>\\n        <tr>\\n            <th>Connection type</th>\\n            <td>n/a</td>\\n        </tr>\\n        <tr>\\n            <th class=\"title\" colspan=\"2\">Location</th>\\n        </tr>\\n        <tr>\\n            <th>Country Name</th>\\n            <td>United States</td>\\n        </tr>\\n        <tr>\\n            <th>Country Code</th>\\n            <td>US</td>\\n        </tr>\\n        <tr>\\n            <th>Region</th>\\n            <td>Illinois</td>\\n        </tr>\\n        <tr>\\n            <th>City</th>\\n            <td>Chicago</td>\\n        </tr>\\n        <tr>\\n            <th>Postal Code</th>\\n            <td>60616</td>\\n        </tr>\\n        <tr>\\n            <th>Metro Code</th>\\n            <td>n/a</td>\\n        </tr>\\n        <tr>\\n            <th>Area Code</th>\\n            <td>n/a</td>\\n        </tr>\\n        <tr>\\n            <th>Latitude</th>\\n            <td>41.8403</td>\\n        </tr>\\n        <tr>\\n            <th>Longitude</th>\\n            <td>-87.6137</td>\\n        </tr>\\n        \\n        <tr>\\n            <th class=\"title\" colspan=\"2\">Port Scan</th>\\n        </tr>\\n        \\n        <tr>\\n            <th><div class=\"protocol\"><div class=\"name\">HTTP</div><div class=\"description\">80/http</div></div></th>\\n            <td><div class=\"protocol_status\"><div class=\"closed\">Closed</div><div class=\"product\"></div></div></td>\\n        </tr>\\n        \\n        <tr>\\n            <th><div class=\"protocol\"><div class=\"name\">SSL</div><div class=\"description\">443/ssl/http</div></div></th>\\n            <td><div class=\"protocol_status\"><div class=\"closed\">Closed</div><div class=\"product\"></div></div></td>\\n        </tr>\\n        \\n        <tr>\\n            <th><div class=\"protocol\"><div class=\"name\">HTTP-PROXY</div><div class=\"description\">8080/http-proxy</div></div></th>\\n            <td><div class=\"protocol_status\"><div class=\"closed\">Closed</div><div class=\"product\"></div></div></td>\\n        </tr>\\n        \\n        <tr>\\n            <th><div class=\"protocol\"><div class=\"name\">OPSMESSAGING</div><div class=\"description\">8090/opsmessaging</div></div></th>\\n            <td><div class=\"protocol_status\"><div class=\"closed\">Closed</div><div class=\"product\"></div></div></td>\\n        </tr>\\n        \\n        <tr>\\n            <th><div class=\"protocol\"><div class=\"name\">TOR-ORPORT</div><div class=\"description\">9001/tor-orport</div></div></th>\\n            <td><div class=\"protocol_status\"><div class=\"closed\">Closed</div><div class=\"product\"></div></div></td>\\n        </tr>\\n        \\n        <tr>\\n            <th><div class=\"protocol\"><div class=\"name\">TCP</div><div class=\"description\">9030/tcp/udp</div></div></th>\\n            <td><div class=\"protocol_status\"><div class=\"closed\">Closed</div><div class=\"product\"></div></div></td>\\n        </tr>\\n        \\n        <tr>\\n            <th><div class=\"protocol\"><div class=\"name\">SSH</div><div class=\"description\">22/ssh</div></div></th>\\n            <td><div class=\"protocol_status\"><div class=\"closed\">Closed</div><div class=\"product\"></div></div></td>\\n        </tr>\\n        \\n        \\n        \\n        <tr>\\n            <th class=\"title\" colspan=\"2\">Proxies</th>\\n        </tr>\\n        <tr>\\n            <th>Anonymizing VPN</th>\\n            <td><div class=\"risk no\">No</div></td>\\n        </tr>\\n        <tr>\\n            <th>Tor Exit Node</th>\\n            <td><div class=\"risk no\">No</div></td>\\n        </tr>\\n        <tr>\\n            <th>Server</th>\\n            <td><div class=\"risk yes\">Yes</div></td>\\n        </tr>\\n        <tr>\\n            <th>Public Proxy</th>\\n            <td><div class=\"risk no\">No</div></td>\\n        </tr>\\n        <tr>\\n            <th>Web Proxy</th>\\n            <td><div class=\"risk no\">No</div></td>\\n        </tr>\\n        <tr>\\n            <th>Search Engine Robot</th>\\n            <td><div class=\"risk no\">No</div></td>\\n        </tr>\\n        <tr>\\n            <th class=\"title\" colspan=\"2\">Domain Names</th>\\n        </tr>\\n        \\n        <tr>\\n            <td colspan=\"2\" class=\"colspan\">n/a</td>\\n        </tr>\\n        \\n    </table>\\n    <p>IP Address data partner <a href=\"https://db-ip.com/?refid=sca\">DB-IP.com</a>:</p>\\n    <a href=\"https://db-ip.com/?refid=sca\"><amp-img src=\"/db-ip.png\" alt=\"DB-IP\" width=\"160\" height=\"100\" layout=\"fixed\"></amp-img></a>\\n    <p>Proxy data sponsored by IP2Proxy:</p>\\n    <a href=\"https://www.ip2proxy.com\"><amp-img src=\"/ip2proxy_header.png\" alt=\"IP2Proxy\" width=\"250\" height=\"25\" layout=\"fixed\"></amp-img></a>\\n    <p><b>IMPORTANT:</b> Scamalytics Ltd operate a fraud-detection network with visibility into many millions of internet users per month. We do not have visibility into the entire internet. The statements on this page represent our opinion based on the limited information we have available to us, and specifically only cover web connections made by internet users to websites and applications, not other connections such as server to server connections.</p>\\n</div>\\n<amp-analytics type=\"gtag\" data-credentials=\"include\">\\n    <script type=\"application/json\">\\n        {\\n            \"vars\" : {\\n                \"gtag_id\": \"UA-46961955-1\",\\n                \"config\" : {\\n                    \"UA-46961955-1\": { \"groups\": \"default\" }\\n                }\\n            }\\n        }\\n    </script>\\n</amp-analytics>\\n</body>\\n</html>\\n'"
      ]
     },
     "execution_count": 45,
     "metadata": {},
     "output_type": "execute_result"
    }
   ],
   "source": [
    "lines"
   ]
  },
  {
   "cell_type": "code",
   "execution_count": null,
   "metadata": {},
   "outputs": [],
   "source": []
  }
 ],
 "metadata": {
  "kernelspec": {
   "display_name": "Python [conda env:dmv_test]",
   "language": "python",
   "name": "conda-env-dmv_test-py"
  },
  "language_info": {
   "codemirror_mode": {
    "name": "ipython",
    "version": 3
   },
   "file_extension": ".py",
   "mimetype": "text/x-python",
   "name": "python",
   "nbconvert_exporter": "python",
   "pygments_lexer": "ipython3",
   "version": "3.9.7"
  }
 },
 "nbformat": 4,
 "nbformat_minor": 4
}
