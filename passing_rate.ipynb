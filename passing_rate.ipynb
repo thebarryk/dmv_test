{
 "cells": [
  {
   "cell_type": "code",
   "execution_count": 1,
   "metadata": {},
   "outputs": [
    {
     "name": "stdout",
     "output_type": "stream",
     "text": [
      "Original length of sample data is 4561\n",
      "110 tests with Result, IPAddress, TotalScore = NaN dropped\n",
      "Extra ip address dropped in 36 tests\n"
     ]
    },
    {
     "data": {
      "image/png": "[encoded data removed]",
      "text/plain": [
       "<Figure size 720x360 with 1 Axes>"
      ]
     },
     "metadata": {
      "needs_background": "light"
     },
     "output_type": "display_data"
    }
   ],
   "source": [
    "# Show variation of success vs time spent taking the driver's test.\n",
    "# The success rate is averaged over bins of time taken to do the test.\n",
    "# The bins are calculated by dividing the longest duration by some integer.\n",
    "# See dmv_test/passing_rate.py\n",
    "\n",
    "import dmv_test_input\n",
    "import matplotlib.pyplot as plt\n",
    "import pandas as pd\n",
    "import numpy as np\n",
    "import seaborn as sns\n",
    "import mplcursors\n",
    "\n",
    "def passing_rate(df, limits):\n",
    "    # passing_rate: DataFrame with columns duration and rate of passed tests \n",
    "    # input:\n",
    "    #    df ...... dmv dataframe with columns duration and Result\n",
    "    #    limits .. list of (upper, lower) bounds of duration intervals as produced \n",
    "    #              by function duration_intervals\n",
    "    # DataFrame:\n",
    "    #    duration ... average of the upper and lower bounds of each interval\n",
    "    #    rate ....... fraction of tests passed over total tests taken during the duration period\n",
    "    pf = []\n",
    "    for lim in limits:\n",
    "        np = df[(df.duration>=lim[0]) & (df.duration<lim[1]) & (df.Result==\"P\")][\"duration\"].count()\n",
    "        nf = df[(df.duration>=lim[0]) & (df.duration<lim[1]) & (df.Result!=\"P\")][\"duration\"].count()\n",
    "        duration = 0.5*(lim[0] + lim[1])\n",
    "        try:\n",
    "            rate = float(np)/( float(np) + float(nf) )\n",
    "        except:\n",
    "            rate = 0\n",
    "        pf.append( (duration, rate) )\n",
    "    return pd.DataFrame({\n",
    "        \"duration\": [x[0] for x in pf],\n",
    "        \"rate\":     [x[1] for x in pf]\n",
    "    })\n",
    "\n",
    "def duration_intervals(lo=5., hi=100., inc=5.):\n",
    "    r = np.arange(lo, hi+0.01*(hi-lo)/inc, inc)\n",
    "    return [ (r[i], r[i+1]) for i in range(len(r)-1) ] \n",
    "\n",
    "def plot_spearman(df):\n",
    "    fig, ax = plt.subplots(figsize=(10, 5))\n",
    "    plt.plot(df.duration, df.rate, \"o\")\n",
    "    mplcursors.cursor(hover=True)\n",
    "    ax.set_title(\"Passing Rate vs Duration (min)\")\n",
    "    ax.set_xlabel(\"Duration (min)\")\n",
    "    ax.set_ylabel(\"Passing Rate\")\n",
    "    plt.grid(visible=True)\n",
    "    plt.show() \n",
    "\n",
    "def main():\n",
    "    df, risk = dmv_test_input.dmv_risk_input()\n",
    "\n",
    "    limits = duration_intervals(lo=2.8, hi=40., inc=0.5)\n",
    "    pf = passing_rate(df, limits)\n",
    "\n",
    "    plot_spearman(pf)\n",
    "\n",
    "if __name__ == '__main__':\n",
    "    main()"
   ]
  },
  {
   "cell_type": "code",
   "execution_count": null,
   "metadata": {},
   "outputs": [],
   "source": []
  },
  {
   "cell_type": "code",
   "execution_count": null,
   "metadata": {},
   "outputs": [],
   "source": []
  }
 ],
 "metadata": {
  "kernelspec": {
   "display_name": "Python [conda env:dmv_test]",
   "language": "python",
   "name": "conda-env-dmv_test-py"
  },
  "language_info": {
   "codemirror_mode": {
    "name": "ipython",
    "version": 3
   },
   "file_extension": ".py",
   "mimetype": "text/x-python",
   "name": "python",
   "nbconvert_exporter": "python",
   "pygments_lexer": "ipython3",
   "version": "3.9.7"
  },
  "varInspector": {
   "cols": {
    "lenName": 16,
    "lenType": 16,
    "lenVar": 40
   },
   "kernels_config": {
    "python": {
     "delete_cmd_postfix": "",
     "delete_cmd_prefix": "del ",
     "library": "var_list.py",
     "varRefreshCmd": "print(var_dic_list())"
    },
    "r": {
     "delete_cmd_postfix": ") ",
     "delete_cmd_prefix": "rm(",
     "library": "var_list.r",
     "varRefreshCmd": "cat(var_dic_list()) "
    }
   },
   "types_to_exclude": [
    "module",
    "function",
    "builtin_function_or_method",
    "instance",
    "_Feature"
   ],
   "window_display": false
  }
 },
 "nbformat": 4,
 "nbformat_minor": 4
}
