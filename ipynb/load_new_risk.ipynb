{
 "cells": [
  {
   "cell_type": "code",
   "execution_count": 1,
   "metadata": {
    "code_folding": []
   },
   "outputs": [],
   "source": [
    "# Output ip addresses from splunk search that are not in the risk database\n",
    "\n",
    "import pandas as pd\n",
    "import mywhois\n",
    "import dmv_test_input as dti"
   ]
  },
  {
   "cell_type": "code",
   "execution_count": 2,
   "metadata": {
    "code_folding": []
   },
   "outputs": [],
   "source": [
    "class NewIp():\n",
    "    def __init__(self, case=2, save=False):\n",
    "        self.df, self.risk = dti.dmv_risk_input(case=case, save=save)\n",
    "        self.num_missing = len(self.df.ip[self.df.risk==\"Unknown\"])\n",
    "        self.missing_ips = list(set(self.df.ip[self.df.risk==\"Unknown\"]))\n",
    "        self.num_unique = len(self.missing_ips)\n",
    "        self.num_risk = len(self.risk.risk)\n",
    "        return\n",
    "\n",
    "def main():\n",
    "    newip = NewIp()\n",
    "    \n",
    "    print(f'Number of ipaddresses not in risk is {newip.num_missing}')\n",
    "    print(f'Number of unique ip addresses not in risk is {newip.num_unique}')\n",
    "    print(f'Number of ip addresses currently in risk is {newip.num_risk}')\n",
    "\n",
    "    msgrate = 2\n",
    "\n",
    "    count_failed = 0\n",
    "    count_added  = 0\n",
    "\n",
    "    print()    # Create a space for the running report\n",
    "    \n",
    "    newip.risk.set_readonly(readonly=False)\n",
    "    for n, ip in enumerate(newip.missing_ips):\n",
    "\n",
    "        newips = newip.risk.find(ip)\n",
    "\n",
    "        if newips is None:\n",
    "            count_failed += 1\n",
    "\n",
    "        else:\n",
    "            count_added  += len(newips)\n",
    "            \n",
    "            if not count_added%msgrate:\n",
    "                print(f\"{80*' '}\", end=\"\\r\")\n",
    "                print(f\"Added ip {count_added} {n/newip.num_unique:.0%}\", end=\"\\r\")\n",
    "\n",
    "    print(f\"\\n{count_failed=}\")\n",
    "    print(f\"{count_added=}\")\n",
    "    print(f\"Risk now has {len(newip.risk.risk)} ips in database\")\n",
    "    print(f\"It should be {newip.num_risk + count_added}.\")\n",
    "  \n",
    "    return newip.df, newip.risk, newip.missing_ips"
   ]
  },
  {
   "cell_type": "code",
   "execution_count": 3,
   "metadata": {},
   "outputs": [
    {
     "name": "stdout",
     "output_type": "stream",
     "text": [
      "Have you made a backup of the risk database? (yes/no):  yes\n",
      "Original length of sample data is 179142\n",
      "2862 tests with Result, IPAddress, TotalScore = NaN dropped\n"
     ]
    },
    {
     "name": "stderr",
     "output_type": "stream",
     "text": [
      "Risk.find: Could not find IPv4Address for ip_string='2001'\n",
      "Risk.find: Could not find IPv4Address for ip_string='2001'\n",
      "Risk.find: Could not find IPv4Address for ip_string='2001'\n",
      "Risk.find: Could not find IPv4Address for ip_string='2001'\n",
      "Risk.find: Could not find IPv4Address for ip_string='2001'\n",
      "Risk.find: Could not find IPv4Address for ip_string='2001'\n"
     ]
    },
    {
     "name": "stdout",
     "output_type": "stream",
     "text": [
      "Extra ip address dropped in 1183 tests\n",
      "Number of ipaddresses not in risk is 118\n",
      "Number of unique ip addresses not in risk is 88\n",
      "Number of ip addresses currently in risk is 2238\n",
      "\n",
      "Added ip 14 11%                                                                 \r"
     ]
    },
    {
     "name": "stderr",
     "output_type": "stream",
     "text": [
      "Error in parse_arin(ip_string='10.87.57.250'\n",
      "Risk.Find: No arin results for ip_string='10.87.57.250'\n"
     ]
    },
    {
     "name": "stdout",
     "output_type": "stream",
     "text": [
      "Added ip 32 19%                                                                 \r"
     ]
    },
    {
     "name": "stderr",
     "output_type": "stream",
     "text": [
      "Error in parse_arin(ip_string='10.87.114.245'\n",
      "Risk.Find: No arin results for ip_string='10.87.114.245'\n"
     ]
    },
    {
     "name": "stdout",
     "output_type": "stream",
     "text": [
      "Added ip 38 27%                                                                 \r"
     ]
    },
    {
     "name": "stderr",
     "output_type": "stream",
     "text": [
      "Error in parse_arin(ip_string='10.56.99.122'\n",
      "Risk.Find: No arin results for ip_string='10.56.99.122'\n"
     ]
    },
    {
     "name": "stdout",
     "output_type": "stream",
     "text": [
      "Added ip 58 51%                                                                 \r"
     ]
    },
    {
     "name": "stderr",
     "output_type": "stream",
     "text": [
      "Error in parse_arin(ip_string='10.87.61.182'\n",
      "Risk.Find: No arin results for ip_string='10.87.61.182'\n"
     ]
    },
    {
     "name": "stdout",
     "output_type": "stream",
     "text": [
      "Added ip 70 59%                                                                 \r"
     ]
    },
    {
     "name": "stderr",
     "output_type": "stream",
     "text": [
      "Error in parse_arin(ip_string='10.239.180.45'\n",
      "Risk.Find: No arin results for ip_string='10.239.180.45'\n"
     ]
    },
    {
     "name": "stdout",
     "output_type": "stream",
     "text": [
      "                                                                                \r",
      "Added ip 74 64%\r"
     ]
    },
    {
     "name": "stderr",
     "output_type": "stream",
     "text": [
      "Error in parse_arin(ip_string='10.10.6.233'\n",
      "Risk.Find: No arin results for ip_string='10.10.6.233'\n"
     ]
    },
    {
     "name": "stdout",
     "output_type": "stream",
     "text": [
      "Added ip 104 72%                                                                \r"
     ]
    },
    {
     "name": "stderr",
     "output_type": "stream",
     "text": [
      "Error in parse_arin(ip_string='10.20.90.171'\n",
      "Risk.Find: No arin results for ip_string='10.20.90.171'\n",
      "Error in parse_arin(ip_string='10.30.107.46'\n",
      "Risk.Find: No arin results for ip_string='10.30.107.46'\n"
     ]
    },
    {
     "name": "stdout",
     "output_type": "stream",
     "text": [
      "Added ip 154 90%                                                                \r"
     ]
    },
    {
     "name": "stderr",
     "output_type": "stream",
     "text": [
      "Risk.find: Could not find IPv4Address for ip_string='2001'\n"
     ]
    },
    {
     "name": "stdout",
     "output_type": "stream",
     "text": [
      "Added ip 174 98%                                                                \n",
      "count_failed=9\n",
      "count_added=175\n",
      "Risk now has 2291 ips in database\n",
      "It should be 2413.\n"
     ]
    }
   ],
   "source": [
    "ans = input(\"Have you made a backup of the risk database? (yes/no):  \")\n",
    "if ans == \"yes\":\n",
    "    df, risk, missing_ips = main()\n",
    "else:\n",
    "    print(\"Make sure you do.\")"
   ]
  },
  {
   "cell_type": "code",
   "execution_count": null,
   "metadata": {},
   "outputs": [],
   "source": []
  }
 ],
 "metadata": {
  "kernelspec": {
   "display_name": "Python [conda env:dmv_test]",
   "language": "python",
   "name": "conda-env-dmv_test-py"
  },
  "language_info": {
   "codemirror_mode": {
    "name": "ipython",
    "version": 3
   },
   "file_extension": ".py",
   "mimetype": "text/x-python",
   "name": "python",
   "nbconvert_exporter": "python",
   "pygments_lexer": "ipython3",
   "version": "3.9.7"
  },
  "varInspector": {
   "cols": {
    "lenName": 16,
    "lenType": 16,
    "lenVar": 40
   },
   "kernels_config": {
    "python": {
     "delete_cmd_postfix": "",
     "delete_cmd_prefix": "del ",
     "library": "var_list.py",
     "varRefreshCmd": "print(var_dic_list())"
    },
    "r": {
     "delete_cmd_postfix": ") ",
     "delete_cmd_prefix": "rm(",
     "library": "var_list.r",
     "varRefreshCmd": "cat(var_dic_list()) "
    }
   },
   "types_to_exclude": [
    "module",
    "function",
    "builtin_function_or_method",
    "instance",
    "_Feature"
   ],
   "window_display": false
  }
 },
 "nbformat": 4,
 "nbformat_minor": 4
}
