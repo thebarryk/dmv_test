{
 "cells": [
  {
   "cell_type": "code",
   "execution_count": 1,
   "metadata": {},
   "outputs": [],
   "source": [
    "%matplotlib notebook\n",
    "# Continue to examine affect of ip address risk on passing rate.\n",
    "# First, focus on period before Oct 27 when it was [72-80%]\n",
    "# Second, show other periods\n",
    "# Third, find the outliers for each week\n",
    "import numpy as np\n",
    "import matplotlib.pyplot as plt\n",
    "import pandas as pd\n",
    "import seaborn as sns\n",
    "import re\n",
    "import sys\n",
    "from scipy.stats.mstats import winsorize\n",
    "import piso                       # Provide methods for intervals\n",
    "import mywhois\n",
    "\n",
    "import dmv_test_input as dti      # Local l"
   ]
  },
  {
   "cell_type": "code",
   "execution_count": 2,
   "metadata": {},
   "outputs": [
    {
     "name": "stdout",
     "output_type": "stream",
     "text": [
      "Original length of sample data is 179142\n",
      "2862 tests with Result, IPAddress, TotalScore = NaN dropped\n",
      "Extra ip address dropped in 1183 tests\n"
     ]
    },
    {
     "name": "stderr",
     "output_type": "stream",
     "text": [
      "Risk.find: Could not find IPv4Address for ip_string='2001'\n",
      "Risk.find: Could not find IPv4Address for ip_string='2001'\n",
      "Risk.find: Could not find IPv4Address for ip_string='2001'\n",
      "Risk.find: Could not find IPv4Address for ip_string='2001'\n",
      "Risk.find: Could not find IPv4Address for ip_string='2001'\n",
      "Risk.find: Could not find IPv4Address for ip_string='2001'\n"
     ]
    }
   ],
   "source": [
    "# Intitalize data and parameters\n",
    "\n",
    "def read_data():\n",
    "    # Read and cleanse data from akts log and risk database\n",
    "    df, risk = dti.dmv_risk_input(case=2, save=False)\n",
    "    \n",
    "    # Time in minutes. \n",
    "    # elapsed time from start to end of test. Sometimes they are out of order.\n",
    "    df[\"elapsed\"] = abs(df['TestEndDateTime'] - df['TestStartDateTime']).dt.total_seconds()/60.   \n",
    "    df[\"passed\"]  = (df.Result==\"P\")\n",
    "    \n",
    "    # Drop negative duration since they must be in error\n",
    "    # Drop long durations because the chance of error is high\n",
    "    df = df[ (df.duration>0) & (df.duration<120) & (df.elapsed<120)].reset_index()\n",
    "       \n",
    "    return df, risk\n",
    "\n",
    "df, risk = read_data()\n",
    "\n",
    "# Drop rows in akts where ip has undefined risk<0. They are probably 10. or 192.. nets\n",
    "df.drop(df[df.score < 0].index, inplace=True)\n",
    "\n",
    "CHANGEPT = 14.5                   # The passing rate changes at the changept\n",
    "RATE = 0.67                       # Passing rate reaches steady value\n",
    "SBIN, EBIN, INC = (5, 100, 5)     # Define bins for risk score\n",
    "EPSILON = sys.float_info.epsilon  # Smallest float\n"
   ]
  },
  {
   "cell_type": "code",
   "execution_count": 3,
   "metadata": {},
   "outputs": [],
   "source": [
    "# # Here's what the risk object looks like\n",
    "# for i, k in enumerate(risk.risk):\n",
    "#     print(f'CIDR--> {k}')\n",
    "#     if i>0: break\n",
    "#     for j, k1 in enumerate(risk.risk[k]):\n",
    "#         if k1=='risk_comment': continue\n",
    "#         print(f'{k1:<12} {risk.risk[k][k1]}')\n",
    "#     print()\n",
    "\n"
   ]
  },
  {
   "cell_type": "code",
   "execution_count": 4,
   "metadata": {},
   "outputs": [],
   "source": [
    "def risk_toframe(risk):\n",
    "    # Convert risk dict to dataframe\n",
    "    tlist =[]\n",
    "    for cidr in risk.risk:\n",
    "        tmp = risk.risk[cidr]\n",
    "        tmp['cidr'] = cidr\n",
    "        tlist.append(tmp)\n",
    "    return pd.DataFrame(tlist)\n",
    "\n",
    "original = risk_toframe(risk)"
   ]
  },
  {
   "cell_type": "code",
   "execution_count": 5,
   "metadata": {},
   "outputs": [],
   "source": [
    "tmp = original.copy()\n",
    "tmp.head()\n",
    "tmp = tmp.drop(columns=['risk_comment', 'timestamp', 'address'])"
   ]
  },
  {
   "cell_type": "code",
   "execution_count": 13,
   "metadata": {},
   "outputs": [
    {
     "name": "stdout",
     "output_type": "stream",
     "text": [
      "ip? 216.151.180.112\n"
     ]
    },
    {
     "data": {
      "text/html": [
       "<div>\n",
       "<style scoped>\n",
       "    .dataframe tbody tr th:only-of-type {\n",
       "        vertical-align: middle;\n",
       "    }\n",
       "\n",
       "    .dataframe tbody tr th {\n",
       "        vertical-align: top;\n",
       "    }\n",
       "\n",
       "    .dataframe thead th {\n",
       "        text-align: right;\n",
       "    }\n",
       "</style>\n",
       "<table border=\"1\" class=\"dataframe\">\n",
       "  <thead>\n",
       "    <tr style=\"text-align: right;\">\n",
       "      <th></th>\n",
       "      <th>ip</th>\n",
       "      <th>score</th>\n",
       "      <th>risk</th>\n",
       "      <th>postalcode</th>\n",
       "      <th>state</th>\n",
       "      <th>country</th>\n",
       "      <th>countrycode</th>\n",
       "      <th>organization</th>\n",
       "      <th>city</th>\n",
       "      <th>handle</th>\n",
       "      <th>cidr</th>\n",
       "    </tr>\n",
       "  </thead>\n",
       "  <tbody>\n",
       "  </tbody>\n",
       "</table>\n",
       "</div>"
      ],
      "text/plain": [
       "Empty DataFrame\n",
       "Columns: [ip, score, risk, postalcode, state, country, countrycode, organization, city, handle, cidr]\n",
       "Index: []"
      ]
     },
     "metadata": {},
     "output_type": "display_data"
    },
    {
     "name": "stdout",
     "output_type": "stream",
     "text": [
      "ip? \n",
      "Done!\n"
     ]
    }
   ],
   "source": [
    "while True:\n",
    "    ip = input('ip? ')\n",
    "    if len(ip)==0:\n",
    "        break\n",
    "    t = risk.find(ip)\n",
    "    if t is None:\n",
    "        print('Not found')\n",
    "    else:\n",
    "        display(tmp[tmp.ip==ip])\n",
    "print('Done!')              \n",
    "\n",
    "        "
   ]
  },
  {
   "cell_type": "code",
   "execution_count": 14,
   "metadata": {},
   "outputs": [
    {
     "data": {
      "text/html": [
       "<div>\n",
       "<style scoped>\n",
       "    .dataframe tbody tr th:only-of-type {\n",
       "        vertical-align: middle;\n",
       "    }\n",
       "\n",
       "    .dataframe tbody tr th {\n",
       "        vertical-align: top;\n",
       "    }\n",
       "\n",
       "    .dataframe thead th {\n",
       "        text-align: right;\n",
       "    }\n",
       "</style>\n",
       "<table border=\"1\" class=\"dataframe\">\n",
       "  <thead>\n",
       "    <tr style=\"text-align: right;\">\n",
       "      <th></th>\n",
       "      <th>ip</th>\n",
       "      <th>score</th>\n",
       "      <th>risk</th>\n",
       "      <th>postalcode</th>\n",
       "      <th>state</th>\n",
       "      <th>country</th>\n",
       "      <th>countrycode</th>\n",
       "      <th>organization</th>\n",
       "      <th>city</th>\n",
       "      <th>handle</th>\n",
       "      <th>cidr</th>\n",
       "    </tr>\n",
       "  </thead>\n",
       "  <tbody>\n",
       "  </tbody>\n",
       "</table>\n",
       "</div>"
      ],
      "text/plain": [
       "Empty DataFrame\n",
       "Columns: [ip, score, risk, postalcode, state, country, countrycode, organization, city, handle, cidr]\n",
       "Index: []"
      ]
     },
     "execution_count": 14,
     "metadata": {},
     "output_type": "execute_result"
    }
   ],
   "source": [
    "tmp[tmp.ip=='216.151.180.112']"
   ]
  },
  {
   "cell_type": "code",
   "execution_count": 15,
   "metadata": {},
   "outputs": [
    {
     "data": {
      "text/plain": [
       "{'ip': '216.151.180.64',\n",
       " 'score': '100',\n",
       " 'risk': 'very high',\n",
       " 'risk_comment': 'We consider web traffic from IP address 216.151.180.64 to present a potentially very high fraud risk. This IP address is operated by Netprotect whose web traffic we consider to present a potentially high fraud risk, and is owned by Highwinds Network Group, Inc. whose web traffic we also consider to present a potentially high fraud risk. In each of these cases, non-web traffic may present a different risk or no risk at all. Scamalytics see medium levels of web traffic from this IP address across our global network, almost all of which we suspect to be potentially fraudulent. Considering only the web traffic where we have visibility, we apply a risk score of 100 /100 to 216.151.180.64 , which reflects the proportion of this traffic which we suspect to be potentially fraudulent. If you see web traffic from this IP address there is potentially a very high risk that it is criminals engaged in fraudulent activity. Other types of traffic may present a different risk or no risk. The device on 216.151.180.64 is operating an anonymising VPN, which could be proxying traffic from another geographical location. The geographical location of 216.151.180.64 is in the United States, however the geographical location of the user could be anywhere in the world.',\n",
       " 'address': ['60 Hudson street'],\n",
       " 'postalcode': '10013',\n",
       " 'state': 'NY',\n",
       " 'country': 'United States',\n",
       " 'countrycode': 'US',\n",
       " 'organization': 'Netprotect',\n",
       " 'city': 'Manhattan',\n",
       " 'handle': 'C08116694',\n",
       " 'timestamp': '01:28:2022 07:33:31',\n",
       " 'cidr': IPv4Network('216.151.180.0/24')}"
      ]
     },
     "execution_count": 15,
     "metadata": {},
     "output_type": "execute_result"
    }
   ],
   "source": [
    "risk.find('216.151.180.112')\n"
   ]
  },
  {
   "cell_type": "code",
   "execution_count": 41,
   "metadata": {
    "code_folding": []
   },
   "outputs": [
    {
     "name": "stdout",
     "output_type": "stream",
     "text": [
      "ip? 216.73.160.176\n"
     ]
    },
    {
     "data": {
      "text/plain": [
       "{'216.73.160.0/23': {'ip': '216.73.160.176',\n",
       "  'score': '100',\n",
       "  'risk': 'very high',\n",
       "  'address': ['60 Hudson St'],\n",
       "  'postalcode': '10013',\n",
       "  'state': 'NY',\n",
       "  'country': 'United States',\n",
       "  'countrycode': 'US',\n",
       "  'organization': 'Bandito Networks',\n",
       "  'city': 'New York',\n",
       "  'handle': 'C08103672',\n",
       "  'timestamp': '03:17:2022 14:14:13'}}"
      ]
     },
     "metadata": {},
     "output_type": "display_data"
    },
    {
     "name": "stdout",
     "output_type": "stream",
     "text": [
      "ip? \n",
      "Done!\n"
     ]
    }
   ],
   "source": [
    "def get(ip):\n",
    "#     import pdb; pdb.set_trace()\n",
    "    t = mywhois.get_arin(ip)\n",
    "    return t\n",
    "\n",
    "while True:\n",
    "    ip = input('ip? ')\n",
    "    if len(ip)==0:\n",
    "        break\n",
    "    t = get(ip)\n",
    "    if t is None:\n",
    "        print('Not found')\n",
    "    else:\n",
    "        t[list(t.keys())[0]].pop('risk_comment')\n",
    "#         display(t[list(t.keys())[0]])\n",
    "        display(t)\n",
    "print('Done!')              \n",
    "\n"
   ]
  },
  {
   "cell_type": "code",
   "execution_count": 10,
   "metadata": {},
   "outputs": [],
   "source": [
    "a={'a':5, 'b':6}\n"
   ]
  },
  {
   "cell_type": "code",
   "execution_count": 25,
   "metadata": {},
   "outputs": [
    {
     "name": "stdout",
     "output_type": "stream",
     "text": [
      "6\n"
     ]
    }
   ],
   "source": [
    "print(a.pop('b'))"
   ]
  },
  {
   "cell_type": "code",
   "execution_count": 29,
   "metadata": {},
   "outputs": [
    {
     "ename": "TypeError",
     "evalue": "'builtin_function_or_method' object is not subscriptable",
     "output_type": "error",
     "traceback": [
      "\u001b[0;31m---------------------------------------------------------------------------\u001b[0m",
      "\u001b[0;31mTypeError\u001b[0m                                 Traceback (most recent call last)",
      "\u001b[0;32m/tmp/ipykernel_1722/899308591.py\u001b[0m in \u001b[0;36m<module>\u001b[0;34m\u001b[0m\n\u001b[0;32m----> 1\u001b[0;31m \u001b[0mt\u001b[0m\u001b[0;34m[\u001b[0m\u001b[0mlist\u001b[0m\u001b[0;34m(\u001b[0m\u001b[0mt\u001b[0m\u001b[0;34m.\u001b[0m\u001b[0mkeys\u001b[0m\u001b[0;34m(\u001b[0m\u001b[0;34m)\u001b[0m\u001b[0;34m)\u001b[0m\u001b[0;34m[\u001b[0m\u001b[0;36m0\u001b[0m\u001b[0;34m]\u001b[0m\u001b[0;34m]\u001b[0m\u001b[0;34m.\u001b[0m\u001b[0mpop\u001b[0m\u001b[0;34m[\u001b[0m\u001b[0;34m'risk_comment'\u001b[0m\u001b[0;34m]\u001b[0m\u001b[0;34m\u001b[0m\u001b[0;34m\u001b[0m\u001b[0m\n\u001b[0m\u001b[1;32m      2\u001b[0m \u001b[0;34m\u001b[0m\u001b[0m\n\u001b[1;32m      3\u001b[0m \u001b[0;34m\u001b[0m\u001b[0m\n",
      "\u001b[0;31mTypeError\u001b[0m: 'builtin_function_or_method' object is not subscriptable"
     ]
    }
   ],
   "source": [
    "t[list(t.keys())[0]].pop['risk_comment']\n",
    "\n",
    "\n"
   ]
  },
  {
   "cell_type": "code",
   "execution_count": 35,
   "metadata": {},
   "outputs": [
    {
     "data": {
      "text/plain": [
       "\"IP address 192.142.128.165 is operated by LogicWeb Inc. whose web traffic we consider to present a potentially high fraud risk. This IP address is owned by M247 Ltd whose web traffic we also consider to present a potentially high fraud risk. In both cases, non-web traffic may present a different risk or no risk at all. Scamalytics see medium levels of traffic from LogicWeb Inc. across our global network, some of which we suspect to be potentially fraudulent. We have no visibility into the web traffic directly from 192.142.128.165 , and therefore apply a risk score of 63 /100 based on the overall risk from LogicWeb Inc. 's IP addresses where we do have visibility. If you see web traffic from this IP address there is potentially a high risk that it is criminals engaged in fraudulent activity. Other types of traffic may present a different risk or no risk. 192.142.128.165 is not a standard domestic connection, it is a commercial server which could be proxying traffic from another geographical location. The geographical location of 192.142.128.165 is in the United States, however the geographical location of the user could be anywhere in the world.\""
      ]
     },
     "execution_count": 35,
     "metadata": {},
     "output_type": "execute_result"
    }
   ],
   "source": [
    "t[list(t.keys())[0]].pop('risk_comment')\n"
   ]
  },
  {
   "cell_type": "code",
   "execution_count": 5,
   "metadata": {},
   "outputs": [
    {
     "name": "stdout",
     "output_type": "stream",
     "text": [
      "1\n",
      "2\n",
      "3\n",
      "3\n"
     ]
    }
   ],
   "source": [
    "x=[1,2,3]\n",
    "for t in x:\n",
    "    if t==3:\n",
    "        if not 4 in x:\n",
    "#             x.append(4)\n",
    "            x.insert(0,4)\n",
    "    print(t)\n"
   ]
  },
  {
   "cell_type": "code",
   "execution_count": 6,
   "metadata": {},
   "outputs": [
    {
     "data": {
      "text/plain": [
       "[4, 1, 2, 3]"
      ]
     },
     "execution_count": 6,
     "metadata": {},
     "output_type": "execute_result"
    }
   ],
   "source": [
    "x\n"
   ]
  },
  {
   "cell_type": "code",
   "execution_count": null,
   "metadata": {},
   "outputs": [],
   "source": []
  }
 ],
 "metadata": {
  "kernelspec": {
   "display_name": "Python [conda env:dmv_test]",
   "language": "python",
   "name": "conda-env-dmv_test-py"
  },
  "language_info": {
   "codemirror_mode": {
    "name": "ipython",
    "version": 3
   },
   "file_extension": ".py",
   "mimetype": "text/x-python",
   "name": "python",
   "nbconvert_exporter": "python",
   "pygments_lexer": "ipython3",
   "version": "3.9.7"
  },
  "varInspector": {
   "cols": {
    "lenName": 16,
    "lenType": 16,
    "lenVar": 40
   },
   "kernels_config": {
    "python": {
     "delete_cmd_postfix": "",
     "delete_cmd_prefix": "del ",
     "library": "var_list.py",
     "varRefreshCmd": "print(var_dic_list())"
    },
    "r": {
     "delete_cmd_postfix": ") ",
     "delete_cmd_prefix": "rm(",
     "library": "var_list.r",
     "varRefreshCmd": "cat(var_dic_list()) "
    }
   },
   "types_to_exclude": [
    "module",
    "function",
    "builtin_function_or_method",
    "instance",
    "_Feature"
   ],
   "window_display": false
  }
 },
 "nbformat": 4,
 "nbformat_minor": 4
}
