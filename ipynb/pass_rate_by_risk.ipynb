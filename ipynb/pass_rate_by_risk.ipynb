{
 "cells": [
  {
   "cell_type": "code",
   "execution_count": 1,
   "metadata": {},
   "outputs": [],
   "source": [
    "import numpy as np\n",
    "import matplotlib.pyplot as plt\n",
    "import pandas as pd\n",
    "import seaborn as sns\n",
    "import re\n",
    "import sys\n",
    "import piso                       # Provide methods for intervals\n",
    "\n",
    "import dmv_test_input as dti      # Local library to read and prep data "
   ]
  },
  {
   "cell_type": "code",
   "execution_count": 2,
   "metadata": {},
   "outputs": [
    {
     "name": "stdout",
     "output_type": "stream",
     "text": [
      "Original length of sample data is 152519\n",
      "2415 tests with Result, IPAddress, TotalScore = NaN dropped\n",
      "Extra ip address dropped in 1056 tests\n"
     ]
    },
    {
     "name": "stderr",
     "output_type": "stream",
     "text": [
      "Risk.find: Could not find IPv4Address for ip_string='2001'\n",
      "Risk.find: Could not find IPv4Address for ip_string='2001'\n",
      "Risk.find: Could not find IPv4Address for ip_string='2001'\n",
      "Risk.find: Could not find IPv4Address for ip_string='2001'\n"
     ]
    }
   ],
   "source": [
    "# Intitalize data and parameters\n",
    "\n",
    "def read_data():\n",
    "    # Read and cleanse data from akts log and risk database\n",
    "    df, risk = dti.dmv_risk_input(case=2, save=False)\n",
    "    \n",
    "    # Time in minutes. \n",
    "    # elapsed time from start to end of test. Sometimes they are out of order.\n",
    "    df[\"elapsed\"] = abs(df['TestEndDateTime'] - df['TestStartDateTime']).dt.total_seconds()/60.\n",
    "    \n",
    "    df[\"passed\"]  = (df.Result==\"P\")\n",
    "    \n",
    "    # Drop negative duration since they must be in error\n",
    "    # Drop long durations because the chance of error is high\n",
    "    df = df[ (df.duration>0) & (df.duration<120) & (df.elapsed<120)].reset_index()\n",
    "                       \n",
    "    return df, risk\n",
    "\n",
    "df, risk = read_data()\n",
    "\n",
    "changept = 14.5                   # The passing rate changes at the changept\n",
    "sbin, ebin, inc = (10, 100, 5)\n",
    "\n"
   ]
  },
  {
   "cell_type": "code",
   "execution_count": 3,
   "metadata": {},
   "outputs": [],
   "source": [
    "# Drop rows in akts where ip has undefined risk<0. They are probably 10. or 192.. nets\n",
    "df.drop(df[df.score < 0].index, inplace=True)\n"
   ]
  },
  {
   "cell_type": "code",
   "execution_count": 4,
   "metadata": {},
   "outputs": [
    {
     "name": "stdout",
     "output_type": "stream",
     "text": [
      "ip           2.57.169.44\n",
      "score        67\n",
      "risk         high\n",
      "address      ['P.O. Box 10096']\n",
      "postalcode   1001EB\n",
      "state        nan\n",
      "country      Netherlands\n",
      "countrycode  NL\n",
      "organization RIPE Network Coordination Centre\n",
      "city         Amsterdam\n",
      "handle       RIPE\n",
      "timestamp    01:28:2022 07:40:35\n",
      "\n"
     ]
    }
   ],
   "source": [
    "# Here's what the risk object looks like\n",
    "for i, k in enumerate(risk.risk):\n",
    "    if i>0: break\n",
    "    for j, k1 in enumerate(risk.risk[k]):\n",
    "        if k1=='risk_comment': continue\n",
    "        print(f'{k1:<12} {risk.risk[k][k1]}')\n",
    "    print()\n"
   ]
  },
  {
   "cell_type": "code",
   "execution_count": 5,
   "metadata": {},
   "outputs": [],
   "source": [
    "col = ['TestStartDateTime', 'TestEndDateTime', 'TotalScore', 'TotalTimeSpent', \n",
    "       'Email', 'ip', 'duration', 'risk', 'score', 'passed']\n"
   ]
  },
  {
   "cell_type": "code",
   "execution_count": 6,
   "metadata": {},
   "outputs": [],
   "source": [
    "# A standard form of the Interval object\n",
    "# dob=lambda s,e,inc:[pd.Interval(i,i+inc,closed='left') if i<e-inc else pd.Interval(i,i+inc,closed='both') for i in range(s,e,inc)]\n",
    "# bins = dob(0, 100, 10)"
   ]
  },
  {
   "cell_type": "code",
   "execution_count": 7,
   "metadata": {},
   "outputs": [
    {
     "name": "stdout",
     "output_type": "stream",
     "text": [
      "The risk score is binned using sbin, ebin, inc=(10, 100, 5)\n",
      "\n",
      "bins=IntervalIndex([(-2.220446049250313e-16, 5.0], (5.0, 10.0], (10.0, 15.0], (15.0, 20.0], (20.0, 25.0] ... (75.0, 80.0], (80.0, 85.0], (85.0, 90.0], (90.0, 95.0], (95.0, 100.0]], dtype='interval[float64, right]')\n"
     ]
    }
   ],
   "source": [
    "# Generate bins from 0 to 100 by 10 for find passing rate vs risk\n",
    "\n",
    "# For lookup (see below) to work all intervals have be closed='right' (,]. To include 0 in the 1st\n",
    "# bin, a value <0 has to be used. -np.inf is one choice. It may be difficult to plot. Another\n",
    "# choice is import sys; epsilon=sys.float_info.epsilon. Rounding should let plots work.\n",
    "\n",
    "# bins = pd.IntervalIndex.from_breaks([-np.inf] + list(np.arange(sbin, ebin+inc, inc)))\n",
    "\n",
    "# Alternative:\n",
    "epsilon = sys.float_info.epsilon\n",
    "bins = pd.IntervalIndex.from_breaks([-epsilon] + list(np.arange(inc, ebin+inc, inc)))\n",
    "print(f'The risk score is binned using {sbin, ebin, inc=}\\n\\n{bins=}')"
   ]
  },
  {
   "cell_type": "code",
   "execution_count": 8,
   "metadata": {
    "code_folding": []
   },
   "outputs": [
    {
     "data": {
      "text/html": [
       "<div>\n",
       "<style scoped>\n",
       "    .dataframe tbody tr th:only-of-type {\n",
       "        vertical-align: middle;\n",
       "    }\n",
       "\n",
       "    .dataframe tbody tr th {\n",
       "        vertical-align: top;\n",
       "    }\n",
       "\n",
       "    .dataframe thead th {\n",
       "        text-align: right;\n",
       "    }\n",
       "</style>\n",
       "<table border=\"1\" class=\"dataframe\">\n",
       "  <thead>\n",
       "    <tr style=\"text-align: right;\">\n",
       "      <th></th>\n",
       "      <th>threshold</th>\n",
       "      <th>bin</th>\n",
       "    </tr>\n",
       "  </thead>\n",
       "  <tbody>\n",
       "    <tr>\n",
       "      <th>(-2.220446049250313e-16, 5.0]</th>\n",
       "      <td>-2.220446e-16</td>\n",
       "      <td>0</td>\n",
       "    </tr>\n",
       "    <tr>\n",
       "      <th>(5.0, 10.0]</th>\n",
       "      <td>5.000000e+00</td>\n",
       "      <td>1</td>\n",
       "    </tr>\n",
       "    <tr>\n",
       "      <th>(10.0, 15.0]</th>\n",
       "      <td>1.000000e+01</td>\n",
       "      <td>2</td>\n",
       "    </tr>\n",
       "    <tr>\n",
       "      <th>(15.0, 20.0]</th>\n",
       "      <td>1.500000e+01</td>\n",
       "      <td>3</td>\n",
       "    </tr>\n",
       "    <tr>\n",
       "      <th>(20.0, 25.0]</th>\n",
       "      <td>2.000000e+01</td>\n",
       "      <td>4</td>\n",
       "    </tr>\n",
       "    <tr>\n",
       "      <th>(25.0, 30.0]</th>\n",
       "      <td>2.500000e+01</td>\n",
       "      <td>5</td>\n",
       "    </tr>\n",
       "    <tr>\n",
       "      <th>(30.0, 35.0]</th>\n",
       "      <td>3.000000e+01</td>\n",
       "      <td>6</td>\n",
       "    </tr>\n",
       "    <tr>\n",
       "      <th>(35.0, 40.0]</th>\n",
       "      <td>3.500000e+01</td>\n",
       "      <td>7</td>\n",
       "    </tr>\n",
       "    <tr>\n",
       "      <th>(40.0, 45.0]</th>\n",
       "      <td>4.000000e+01</td>\n",
       "      <td>8</td>\n",
       "    </tr>\n",
       "    <tr>\n",
       "      <th>(45.0, 50.0]</th>\n",
       "      <td>4.500000e+01</td>\n",
       "      <td>9</td>\n",
       "    </tr>\n",
       "    <tr>\n",
       "      <th>(50.0, 55.0]</th>\n",
       "      <td>5.000000e+01</td>\n",
       "      <td>10</td>\n",
       "    </tr>\n",
       "    <tr>\n",
       "      <th>(55.0, 60.0]</th>\n",
       "      <td>5.500000e+01</td>\n",
       "      <td>11</td>\n",
       "    </tr>\n",
       "    <tr>\n",
       "      <th>(60.0, 65.0]</th>\n",
       "      <td>6.000000e+01</td>\n",
       "      <td>12</td>\n",
       "    </tr>\n",
       "    <tr>\n",
       "      <th>(65.0, 70.0]</th>\n",
       "      <td>6.500000e+01</td>\n",
       "      <td>13</td>\n",
       "    </tr>\n",
       "    <tr>\n",
       "      <th>(70.0, 75.0]</th>\n",
       "      <td>7.000000e+01</td>\n",
       "      <td>14</td>\n",
       "    </tr>\n",
       "    <tr>\n",
       "      <th>(75.0, 80.0]</th>\n",
       "      <td>7.500000e+01</td>\n",
       "      <td>15</td>\n",
       "    </tr>\n",
       "    <tr>\n",
       "      <th>(80.0, 85.0]</th>\n",
       "      <td>8.000000e+01</td>\n",
       "      <td>16</td>\n",
       "    </tr>\n",
       "    <tr>\n",
       "      <th>(85.0, 90.0]</th>\n",
       "      <td>8.500000e+01</td>\n",
       "      <td>17</td>\n",
       "    </tr>\n",
       "    <tr>\n",
       "      <th>(90.0, 95.0]</th>\n",
       "      <td>9.000000e+01</td>\n",
       "      <td>18</td>\n",
       "    </tr>\n",
       "    <tr>\n",
       "      <th>(95.0, 100.0]</th>\n",
       "      <td>9.500000e+01</td>\n",
       "      <td>19</td>\n",
       "    </tr>\n",
       "  </tbody>\n",
       "</table>\n",
       "</div>"
      ],
      "text/plain": [
       "                                  threshold  bin\n",
       "(-2.220446049250313e-16, 5.0] -2.220446e-16    0\n",
       "(5.0, 10.0]                    5.000000e+00    1\n",
       "(10.0, 15.0]                   1.000000e+01    2\n",
       "(15.0, 20.0]                   1.500000e+01    3\n",
       "(20.0, 25.0]                   2.000000e+01    4\n",
       "(25.0, 30.0]                   2.500000e+01    5\n",
       "(30.0, 35.0]                   3.000000e+01    6\n",
       "(35.0, 40.0]                   3.500000e+01    7\n",
       "(40.0, 45.0]                   4.000000e+01    8\n",
       "(45.0, 50.0]                   4.500000e+01    9\n",
       "(50.0, 55.0]                   5.000000e+01   10\n",
       "(55.0, 60.0]                   5.500000e+01   11\n",
       "(60.0, 65.0]                   6.000000e+01   12\n",
       "(65.0, 70.0]                   6.500000e+01   13\n",
       "(70.0, 75.0]                   7.000000e+01   14\n",
       "(75.0, 80.0]                   7.500000e+01   15\n",
       "(80.0, 85.0]                   8.000000e+01   16\n",
       "(85.0, 90.0]                   8.500000e+01   17\n",
       "(90.0, 95.0]                   9.000000e+01   18\n",
       "(95.0, 100.0]                  9.500000e+01   19"
      ]
     },
     "execution_count": 8,
     "metadata": {},
     "output_type": "execute_result"
    }
   ],
   "source": [
    "# Construct dataframe for the risk score rates. It can be used to perform the lookup.\n",
    "rf = pd.DataFrame({'threshold':bins.left, 'bin': list(range(0,20))}, index=bins)\n",
    "rf"
   ]
  },
  {
   "cell_type": "code",
   "execution_count": 9,
   "metadata": {},
   "outputs": [
    {
     "name": "stdout",
     "output_type": "stream",
     "text": [
      "0    0\n",
      "Name: bin, dtype: int64\n",
      "70    13\n",
      "Name: bin, dtype: int64\n",
      "75    14\n",
      "Name: bin, dtype: int64\n",
      "100    19\n",
      "Name: bin, dtype: int64\n"
     ]
    }
   ],
   "source": [
    "# Check that the lookup is working\n",
    "print(f'{piso.lookup(rf, 0).bin!r}')\n",
    "print(f'{piso.lookup(rf, 70).bin!r}')\n",
    "print(f'{piso.lookup(rf, 75).bin!r}')\n",
    "print(f'{piso.lookup(rf, 100).bin!r}')\n"
   ]
  },
  {
   "cell_type": "code",
   "execution_count": 10,
   "metadata": {},
   "outputs": [],
   "source": [
    "# Identify the bin for each event. bin # is calulated from inc. Lower bound is 0.\n",
    "# epsilon is used so lower edge is not included in interval.\n",
    "# Factor 100 used after tests to make sure same results were obtained.\n",
    "fbin = lambda x: int((x-100*epsilon)/inc)\n",
    "df['bin'] = df.score.apply(fbin)\n",
    "\n",
    "# Tried piso intervals. It took too long\n",
    "# df['bin'] = df.score.apply(lambda x: piso.lookup(rf, x).bin[x])\n"
   ]
  },
  {
   "cell_type": "code",
   "execution_count": 11,
   "metadata": {},
   "outputs": [],
   "source": [
    "def find_rate(df):\n",
    "    # Count # passed and # failed for each (bin, passed.value)\n",
    "    dr = df.groupby(['bin','passed'])['passed'].count().to_frame(name='count')\n",
    "\n",
    "    # Reshape the dataframe fromwide to narrow. \n",
    "    # The # passed and failed will be in same record so rate can be calculated/\n",
    "    dr = dr.pivot_table(index=['bin'], columns='passed', values='count')\n",
    "\n",
    "    # Change the column names. True and False do not work\n",
    "    dr.columns=['p', 'f']\n",
    "\n",
    "    # Calculate the passing rate in each bin\n",
    "    dr['t'] = dr.p + dr.f\n",
    "    frate = lambda x: x.p/x.t if x.t > 0 else np.nan \n",
    "    dr['rate'] = dr.apply(frate, axis=1)\n",
    "\n",
    "    # Join the bin intervals by bin\n",
    "    dr = dr.merge(rf, left_on='bin', right_on='bin', how='inner')\n",
    "\n",
    "    # Cum\n",
    "    dr['cumpass'] = dr.p.cumsum()\n",
    "    dr['cumfail'] = dr.f.cumsum()\n",
    "    dr['cumcount'] = dr.t.cumsum()\n",
    "    \n",
    "    return dr\n",
    "\n",
    "dr = find_rate(df)\n"
   ]
  },
  {
   "cell_type": "code",
   "execution_count": 12,
   "metadata": {
    "scrolled": false
   },
   "outputs": [
    {
     "data": {
      "image/png": "[encoded data removed]",
      "text/plain": [
       "<Figure size 576x288 with 1 Axes>"
      ]
     },
     "metadata": {
      "needs_background": "light"
     },
     "output_type": "display_data"
    },
    {
     "data": {
      "image/png": "[encoded data removed]",
      "text/plain": [
       "<Figure size 576x288 with 1 Axes>"
      ]
     },
     "metadata": {
      "needs_background": "light"
     },
     "output_type": "display_data"
    }
   ],
   "source": [
    "def plot_rate_vs_risk_score(dr):\n",
    "    fig, ax = plt.subplots(figsize=(8, 4))\n",
    "    plt.plot(dr.threshold, dr.rate, drawstyle='steps')\n",
    "    \n",
    "    ax.set_title(f'Passing Rate vs Risk Score')\n",
    "    ax.set_xlabel(f'Internet Risk Score for IP')\n",
    "    ax.set_ylabel(f'Passing Rate')\n",
    "    ax.grid(visible=True)\n",
    "    plt.show()\n",
    "    \n",
    "def plot_cum_vs_risk_score(dr):\n",
    "    fig, ax = plt.subplots(figsize=(8, 4))\n",
    "    plt.stackplot(dr.threshold, dr.cumpass, dr.cumfail, step='pre', labels=['Pass', 'Fail'], alpha=.4, edgecolor='black')\n",
    "#     plt.plot(dr.threshold, dr.cumfail, drawstyle='steps', label='Fail')\n",
    "#     plt.plot(dr.threshold, dr.cumcount, drawstyle='steps', label='Total')\n",
    "    \n",
    "    ax.set_title(f'Stacked Cumulative Tests vs Risk Score')\n",
    "    ax.set_xlabel(f'Internet Risk Score for IP')\n",
    "    ax.set_ylabel(f'Cumulative # of Tests')\n",
    "    ax.grid(visible=True)\n",
    "    plt.legend()\n",
    "    plt.show()\n",
    "    \n",
    "plot_rate_vs_risk_score(dr)\n",
    "plot_cum_vs_risk_score(dr)\n"
   ]
  },
  {
   "cell_type": "code",
   "execution_count": 13,
   "metadata": {},
   "outputs": [
    {
     "data": {
      "text/plain": [
       "(148204, 30)"
      ]
     },
     "execution_count": 13,
     "metadata": {},
     "output_type": "execute_result"
    }
   ],
   "source": [
    "df.shape"
   ]
  },
  {
   "cell_type": "code",
   "execution_count": 14,
   "metadata": {},
   "outputs": [
    {
     "data": {
      "text/plain": [
       "(30548, 31)"
      ]
     },
     "execution_count": 14,
     "metadata": {},
     "output_type": "execute_result"
    }
   ],
   "source": [
    "# Let's see if the effect of risk is different for tests that occur becharge changept\n",
    "changept = 14.5\n",
    "# Select data for duration < changept\n",
    "df1 = df.drop(df[df.duration > changept].index).reset_index()\n",
    "df1.shape"
   ]
  },
  {
   "cell_type": "code",
   "execution_count": 15,
   "metadata": {},
   "outputs": [
    {
     "data": {
      "image/png": "[encoded data removed]",
      "text/plain": [
       "<Figure size 576x288 with 1 Axes>"
      ]
     },
     "metadata": {
      "needs_background": "light"
     },
     "output_type": "display_data"
    },
    {
     "data": {
      "image/png": "[encoded data removed]",
      "text/plain": [
       "<Figure size 576x288 with 1 Axes>"
      ]
     },
     "metadata": {
      "needs_background": "light"
     },
     "output_type": "display_data"
    }
   ],
   "source": [
    "def plot_rates1(df1):\n",
    "    dr1 = find_rate(df1)\n",
    "    plot_rate_vs_risk_score(dr1)\n",
    "    plot_cum_vs_risk_score(dr1)\n",
    "plot_rates1(df1)"
   ]
  },
  {
   "cell_type": "code",
   "execution_count": 16,
   "metadata": {},
   "outputs": [],
   "source": [
    "df2 = df.drop(df[df.duration <= changept].index).reset_index()"
   ]
  },
  {
   "cell_type": "code",
   "execution_count": 17,
   "metadata": {},
   "outputs": [
    {
     "data": {
      "image/png": "[encoded data removed]",
      "text/plain": [
       "<Figure size 576x288 with 1 Axes>"
      ]
     },
     "metadata": {
      "needs_background": "light"
     },
     "output_type": "display_data"
    },
    {
     "data": {
      "image/png": "[encoded data removed]",
      "text/plain": [
       "<Figure size 576x288 with 1 Axes>"
      ]
     },
     "metadata": {
      "needs_background": "light"
     },
     "output_type": "display_data"
    }
   ],
   "source": [
    "plot_rates1(df2)"
   ]
  },
  {
   "cell_type": "code",
   "execution_count": 23,
   "metadata": {},
   "outputs": [
    {
     "data": {
      "text/plain": [
       "(array([   790,    843,   1726, ..., 147709, 147864, 148174]),)"
      ]
     },
     "execution_count": 23,
     "metadata": {},
     "output_type": "execute_result"
    }
   ],
   "source": [
    "np.where(df.IPAddress.str.contains(',') == True)"
   ]
  },
  {
   "cell_type": "code",
   "execution_count": 22,
   "metadata": {},
   "outputs": [
    {
     "data": {
      "text/plain": [
       "Index(['index', 'TestAttemptId', 'ExamineeId', 'TestId', 'LocaleId',\n",
       "       'TestRegistrationDate', 'TestStartDateTime', 'TestEndDateTime',\n",
       "       'TotalScore', 'Result', 'TotalQuestions', 'TotalQuestionsCorrect',\n",
       "       'TotalQuestionsIncorrect', 'TotalTimeSpent', 'LastAnswerDate',\n",
       "       'IPAddress', 'CreateDate', 'UpdateDate', 'LastLoginDate',\n",
       "       'FailedAttemptCount', 'MailingAddressId', 'Email', 'ip', 'duration',\n",
       "       'multiple_ip', 'risk', 'score', 'elapsed', 'passed', 'bin'],\n",
       "      dtype='object')"
      ]
     },
     "execution_count": 22,
     "metadata": {},
     "output_type": "execute_result"
    }
   ],
   "source": [
    "df.columns"
   ]
  },
  {
   "cell_type": "code",
   "execution_count": null,
   "metadata": {},
   "outputs": [],
   "source": []
  }
 ],
 "metadata": {
  "kernelspec": {
   "display_name": "Python [conda env:dmv_test]",
   "language": "python",
   "name": "conda-env-dmv_test-py"
  },
  "language_info": {
   "codemirror_mode": {
    "name": "ipython",
    "version": 3
   },
   "file_extension": ".py",
   "mimetype": "text/x-python",
   "name": "python",
   "nbconvert_exporter": "python",
   "pygments_lexer": "ipython3",
   "version": "3.9.7"
  },
  "varInspector": {
   "cols": {
    "lenName": 16,
    "lenType": 16,
    "lenVar": 40
   },
   "kernels_config": {
    "python": {
     "delete_cmd_postfix": "",
     "delete_cmd_prefix": "del ",
     "library": "var_list.py",
     "varRefreshCmd": "print(var_dic_list())"
    },
    "r": {
     "delete_cmd_postfix": ") ",
     "delete_cmd_prefix": "rm(",
     "library": "var_list.r",
     "varRefreshCmd": "cat(var_dic_list()) "
    }
   },
   "types_to_exclude": [
    "module",
    "function",
    "builtin_function_or_method",
    "instance",
    "_Feature"
   ],
   "window_display": false
  }
 },
 "nbformat": 4,
 "nbformat_minor": 4
}
