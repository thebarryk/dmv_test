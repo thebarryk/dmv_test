{
 "cells": [
  {
   "cell_type": "code",
   "execution_count": 1,
   "metadata": {
    "code_folding": []
   },
   "outputs": [
    {
     "name": "stdout",
     "output_type": "stream",
     "text": [
      "> 01/21/2022 08:19\n",
      "> passing_rate,py\n",
      "\u001b[0;31mAdded grid to graph.\n",
      "\u001b[0;0m\n",
      "> 01/20/2022 13:31\n",
      "> passing_rate,py\n",
      "\u001b[0;31mSetup so that main program is not run when import'd.\n",
      "    - Use if __main__ == 'main': main()\n",
      "    - Thus if imported its functions will be available but main program\n",
      "      will not be run.\n",
      "\u001b[0;0m\n",
      "> 01/20/2022 07:30\n",
      "> passing_rate,py\n",
      "\u001b[0;31mMatched duration range with correlations. Showed grid.\n",
      "    - The correlation plots, pearson_correlation_by_duration.py\n",
      "      and spearman_correlation_by_duration.py, show duration for\n",
      "      [0,40].\n",
      "    - Showed on grid with plt.grid(visible=True)\n",
      "\u001b[0;0m\n",
      "> 01/19/2022 12:45\n",
      "> passing_rate,py\n",
      "\u001b[0;31mRefactored, more like MS guidelines.\n",
      "    - main program put into function, main()\n",
      "    - graph plotting put into functin plot_spearman\n",
      "    - File /downloaded (exported) from passing_fraction.ipynb\n",
      "    - MS Guide: https://docs.microsoft.com/en-us/azure/machine-learning/tutorial-convert-ml-experiment-to-production\n",
      "    - For converting ML experiment from development notebooks\n",
      "      to production python\n",
      "\u001b[0;0m\n",
      "> 01/19/2022 07:09\n",
      "> passing_rate,py\n",
      "\u001b[0;31mRefactored to use dmv_test_input to read test data and risk.\n",
      "    - complete list of modules that need to be imported\n",
      "    - make sure to use module name when referencing one of its functions\n",
      "    - Use passing_fraction.ipynb for development and seeing plots\n",
      "\u001b[0;0m\n",
      "> 01/18/2022 14:38\n",
      "> passing_rate,py\n",
      "\u001b[0;31mShow variation of success vs time spent taking the driver's test.\n",
      "    - duration_intervals(lo, hi, inc) returns a range of intervals\n",
      "      [dmin(i), dmin(i+1)) as a list of tuples\n",
      "    - passing_fraction(df, limits) calculates the average fraction of\n",
      "      tests passed in each interval as a\n",
      "      result = DataFrame[[\"duration\", \"fraction\"]]\n",
      "      o df is the DataFrame of dmv_test data received from dmv\n",
      "      o limits if list of tuples produced by duration_intervals\n",
      "      o result.duration is the average of the interval range\n",
      "      o result.fraction is the fraction that passed in the interval\n",
      "        : =0 if nor tests in an interval\n",
      "    - Vary the limits by altering the parameters to duration_interval\n",
      "    - Program draws a chart that can only be seen in jupyter\n",
      "    - See duration_quartiles.ipynb.\n",
      "    - Requires separate input of data.\n",
      "\u001b[0;0m\n"
     ]
    }
   ],
   "source": [
    "# %%python - passing_fraction.py passing_rate,py\n",
    "# usage: git_history.py [-h] file new_name .. Output git history of file.\n",
    "# Useful to update the comments when a file has been renamed.\n",
    "# The name of the file will be replaced by new_name.\n",
    "\n",
    "import sys, os, re, argparse\n",
    "from datetime import datetime\n",
    "\n",
    "def colors(choice='NC'):\n",
    "    colors = {'RED' : '\\033[0;31m',\n",
    "              'NC'  : '\\033[0;0m'\n",
    "             }\n",
    "    return colors[choice] if choice in colors else colors[\"NC\"]\n",
    "\n",
    "def git_history():\n",
    "    cmd = f\"git log\"\n",
    "    lines = os.popen(cmd).read()\n",
    "\n",
    "    # Pattern will find the full message for a commit.\n",
    "    # The commit must have started the comments with the name of the file.\n",
    "    paragraphs_pattern = re.compile(r\"Date:\\s*(?P<date>.*)\\s*(?P<program>.*)\\s*(?P<description>(?:.+\\n)*)\")\n",
    "    \n",
    "    paragraphs = paragraphs_pattern.findall(lines)\n",
    "\n",
    "    for day, program, description in paragraphs:\n",
    "        day = datetime.strptime(day, \"%a %b %d %H:%M:%S %Y %z\")\n",
    "        \n",
    "        # Output history changing the name of the file.\n",
    "        if re.search(opt.file, program):\n",
    "            print(f'> {day:%m/%d/%Y %H:%M}\\n> {opt.new_name}\\n{colors(\"RED\")}{description}{colors()}')\n",
    "\n",
    "def main():\n",
    "    return git_history()\n",
    "\n",
    "# Define the programs cli parameters\n",
    "p = argparse.ArgumentParser(description='''Get full git history of file''')\n",
    "p.add_argument(\"file\", help=\"File to list\")\n",
    "p.add_argument(\"new_name\", help=\"New name for the file\")\n",
    "opt = p.parse_args()\n",
    "\n",
    "ps = main()"
   ]
  },
  {
   "cell_type": "code",
   "execution_count": null,
   "metadata": {},
   "outputs": [],
   "source": []
  },
  {
   "cell_type": "code",
   "execution_count": null,
   "metadata": {},
   "outputs": [],
   "source": []
  }
 ],
 "metadata": {
  "kernelspec": {
   "display_name": "Python [conda env:dmv_test]",
   "language": "python",
   "name": "conda-env-dmv_test-py"
  },
  "language_info": {
   "codemirror_mode": {
    "name": "ipython",
    "version": 3
   },
   "file_extension": ".py",
   "mimetype": "text/x-python",
   "name": "python",
   "nbconvert_exporter": "python",
   "pygments_lexer": "ipython3",
   "version": "3.9.7"
  },
  "varInspector": {
   "cols": {
    "lenName": 16,
    "lenType": 16,
    "lenVar": 40
   },
   "kernels_config": {
    "python": {
     "delete_cmd_postfix": "",
     "delete_cmd_prefix": "del ",
     "library": "var_list.py",
     "varRefreshCmd": "print(var_dic_list())"
    },
    "r": {
     "delete_cmd_postfix": ") ",
     "delete_cmd_prefix": "rm(",
     "library": "var_list.r",
     "varRefreshCmd": "cat(var_dic_list()) "
    }
   },
   "types_to_exclude": [
    "module",
    "function",
    "builtin_function_or_method",
    "instance",
    "_Feature"
   ],
   "window_display": false
  }
 },
 "nbformat": 4,
 "nbformat_minor": 4
}
