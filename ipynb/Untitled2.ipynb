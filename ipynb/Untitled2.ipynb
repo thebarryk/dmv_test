{
 "cells": [
  {
   "cell_type": "code",
   "execution_count": 4,
   "metadata": {},
   "outputs": [],
   "source": [
    "''' Fetch the complete record from arin restful api\n",
    "    Ref: https://www.arin.net/resources/registry/whois/rws/api/#networks-and-asns\n",
    "    ip ... make request by ip address as a string\n",
    "    pft .. get full record\n",
    "'''\n",
    "def get_arin(ip_string):\n",
    "    '''Return dict for the net_address that contains this ip_string\n",
    "        {\"cidr\": ?,\n",
    "         {\"organization\": ? ,\n",
    "          \"handle\": ? ,\n",
    "          \"asn\": ?,\n",
    "          \"city\": ? ,\n",
    "          \"address\" : ? ,\n",
    "          \"postalcode\": ? ,\n",
    "          \"countrycode\": ? ,\n",
    "          \"state\": ? ,\n",
    "          \"country\": ? ,\n",
    "         }\n",
    "    '''\n",
    "    \n",
    "    fillna = lambda x: \"\" if not x else x.string if not isinstance(x, str) else x\n",
    "    \n",
    "    url       = \"http://whois.arin.net/rest/ip/\" + ip_string + \"/pft\"\n",
    "    html_text = \"\"\n",
    "    try:\n",
    "        html_text = requests.get(url).text\n",
    "    except:\n",
    "        return None\n",
    "\n",
    "    # Parse html into a hierarchy using BeautifulSoup \n",
    "#     soup = BeautifulSoup(html_text, 'lxml')\n",
    "    soup = BeautifulSoup(html_text, 'xml')\n",
    "    \n",
    "    # Parse into dict to return results, item by item\n",
    "    result = {}\n",
    "    \n",
    "    # ARIN reports a list of CIDR net_addresses. \n",
    "    # The database will be indexed by ipaddress.net_address.\n",
    "    # A record will be written for each cidr and duplicate the ARIN info\n",
    "    # Obtain the organization name from tag=net instead of the tag=org which\n",
    "    # has more than one tag=name making it harder to isolate.\n",
    "    try:\n",
    "        info = {}\n",
    "        info[\"organization\"] = fillna(soup.net.orgref[\"name\"])\n",
    "        info[\"handle\"]       = fillna(soup.net.orgref[\"handle\"])\n",
    "        info[\"asn\"]          = fillna(soup.net.originas)\n",
    "\n",
    "        # Obtain rest of the info from tag=org\n",
    "        info[\"city\"]         = fillna(soup.org.city)\n",
    "\n",
    "        # More than one address line may be recorded\n",
    "        address = []\n",
    "        for line in soup.org.streetaddress:\n",
    "            address.append(line.string)\n",
    "        info[\"address\"]      = address\n",
    "\n",
    "        info[\"postalcode\"]   = fillna(soup.org.postalcode)\n",
    "\n",
    "        # The iso3166 tags are the internation country codes\n",
    "        # Ref: https://www.iso.org/glossary-for-iso-3166.html\n",
    "        # The tags contain \"-\", illegal characters in a python var name. \n",
    "        # Use find_all to locates the tags with a string search.\n",
    "        for t in soup.org.find_all(\"iso3166-2\"):\n",
    "            info[\"state\"]    = fillna(t)\n",
    "        for t in soup.org.find_all(\"iso3166-1\"):\n",
    "            info[\"country\"]  = fillna(t.find('name'))\n",
    "            info[\"countrycode\"] = fillna(t.code2)\n",
    "\n",
    "        # Add the risk obtained from scamalytics\n",
    "        info.update(get_risk(ip_string))\n",
    "\n",
    "        # The netblocks scope contains a list of netblock sections\n",
    "        for netblock in soup.net.netblocks:\n",
    "            cidr = netblock.startaddress.string + \"/\" + netblock.cidrlength.string      \n",
    "            result[cidr] = info\n",
    "    except:\n",
    "        print(f\"get arin error:\")\n",
    "        return None\n",
    "\n",
    "    return result\n"
   ]
  },
  {
   "cell_type": "code",
   "execution_count": 2,
   "metadata": {},
   "outputs": [],
   "source": [
    "import requests\n",
    "from bs4 import BeautifulSoup\n"
   ]
  },
  {
   "cell_type": "code",
   "execution_count": 6,
   "metadata": {},
   "outputs": [
    {
     "name": "stdout",
     "output_type": "stream",
     "text": [
      "get arin error:\n"
     ]
    }
   ],
   "source": [
    "get_arin('216.151.180.64')"
   ]
  },
  {
   "cell_type": "code",
   "execution_count": null,
   "metadata": {},
   "outputs": [],
   "source": []
  }
 ],
 "metadata": {
  "kernelspec": {
   "display_name": "Python [conda env:dmv_test]",
   "language": "python",
   "name": "conda-env-dmv_test-py"
  },
  "language_info": {
   "codemirror_mode": {
    "name": "ipython",
    "version": 3
   },
   "file_extension": ".py",
   "mimetype": "text/x-python",
   "name": "python",
   "nbconvert_exporter": "python",
   "pygments_lexer": "ipython3",
   "version": "3.9.7"
  },
  "varInspector": {
   "cols": {
    "lenName": 16,
    "lenType": 16,
    "lenVar": 40
   },
   "kernels_config": {
    "python": {
     "delete_cmd_postfix": "",
     "delete_cmd_prefix": "del ",
     "library": "var_list.py",
     "varRefreshCmd": "print(var_dic_list())"
    },
    "r": {
     "delete_cmd_postfix": ") ",
     "delete_cmd_prefix": "rm(",
     "library": "var_list.r",
     "varRefreshCmd": "cat(var_dic_list()) "
    }
   },
   "types_to_exclude": [
    "module",
    "function",
    "builtin_function_or_method",
    "instance",
    "_Feature"
   ],
   "window_display": false
  }
 },
 "nbformat": 4,
 "nbformat_minor": 4
}
