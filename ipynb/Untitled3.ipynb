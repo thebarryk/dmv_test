{
 "cells": [
  {
   "cell_type": "code",
   "execution_count": 2,
   "metadata": {},
   "outputs": [],
   "source": [
    "from ipaddress import *\n",
    "\n",
    "child = ip_network('154.6.16.0/20')\n",
    "candidate = ip_network('154.0.0.0/8')\n",
    "\n",
    "f = lambda x: (list(x.hosts())[0], list(x.hosts())[-1])\n",
    "g = lambda x: (list(ip_network(x).hosts())[0], list(ip_network(x).hosts())[-1])\n",
    "h = lambda x: ip_network(x)"
   ]
  },
  {
   "cell_type": "code",
   "execution_count": 40,
   "metadata": {},
   "outputs": [
    {
     "name": "stdout",
     "output_type": "stream",
     "text": [
      "Original length of sample data is 179142\n",
      "2862 tests with Result, IPAddress, TotalScore = NaN dropped\n",
      "Extra ip address dropped in 1183 tests\n",
      "2 events dropped with ip==2001\n"
     ]
    }
   ],
   "source": [
    "import pandas as pd\n",
    "import xmywhois as mywhois\n",
    "import xdmv_test_input as dti\n",
    "\n",
    "class NewIp():\n",
    "    def __init__(self, db_filename='xmywhois', case=2):\n",
    "\n",
    "        self.db_filename = db_filename\n",
    "        \n",
    "        # Open for writing\n",
    "        self.df, self.risk = dti.dmv_risk_input(self.db_filename, case=case, readonly=False)\n",
    "        \n",
    "        # Count # of ip's in log that are unknown\n",
    "        self.num_missing = len(self.df.ip[self.df.risk==\"Unknown\"])\n",
    "        \n",
    "        # Make a list of the distinct ip's in the log that are unknown. Count then.\n",
    "        self.missing_ips = list(set(self.df.ip[self.df.risk==\"Unknown\"]))\n",
    "        self.num_unique  = len(self.missing_ips)\n",
    "        \n",
    "        # Count the # of ip's in the risk database\n",
    "        self.num_risk    = len(self.risk.risk)\n",
    "        \n",
    "        return \n",
    "newip = NewIp(db_filename='xmywhois')\n",
    "    "
   ]
  },
  {
   "cell_type": "code",
   "execution_count": 87,
   "metadata": {},
   "outputs": [
    {
     "name": "stdout",
     "output_type": "stream",
     "text": [
      "Error: IPv4Network('24.44.0.0/14') for cidr='24.44.0.0/14'\n",
      "cidr=24.44.0.0/16    ['24.46.18.152', '4', 'low', 'US', 'Optimum Online']\n",
      "    (IPv4Address('24.44.0.1'), IPv4Address('24.44.255.254'))\n",
      "cidr=24.45.128.0/17  ['24.46.18.152', '4', 'low', 'US', 'Optimum Online']\n",
      "    (IPv4Address('24.45.128.1'), IPv4Address('24.45.255.254'))\n",
      "cidr=24.45.32.0/19   ['24.46.18.152', '4', 'low', 'US', 'Optimum Online']\n",
      "    (IPv4Address('24.45.32.1'), IPv4Address('24.45.63.254'))\n",
      "cidr=24.45.0.0/20    ['24.46.18.152', '4', 'low', 'US', 'Optimum Online']\n",
      "    (IPv4Address('24.45.0.1'), IPv4Address('24.45.15.254'))\n",
      "cidr=24.45.24.0/21   ['24.46.18.152', '4', 'low', 'US', 'Optimum Online']\n",
      "    (IPv4Address('24.45.24.1'), IPv4Address('24.45.31.254'))\n",
      "cidr=24.45.20.0/22   ['24.46.18.152', '4', 'low', 'US', 'Optimum Online']\n",
      "    (IPv4Address('24.45.20.1'), IPv4Address('24.45.23.254'))\n"
     ]
    }
   ],
   "source": [
    "\n",
    "with open('test_children.txt','r') as f:\n",
    "    tc = [x.strip() for x in f.readlines()]\n",
    "\n",
    "cols=list('ip score risk countrycode organization'.split())\n",
    "for cidr in tc:\n",
    "    try:\n",
    "        r = newip.risk.risk[h(cidr)]\n",
    "        print(f'{cidr=:15} {[r[x] for x in cols]}\\n    {g(cidr)}')\n",
    "    except Exception as e:\n",
    "        print(f'Error: {e} for {cidr=}')\n",
    "\n"
   ]
  },
  {
   "cell_type": "code",
   "execution_count": 59,
   "metadata": {},
   "outputs": [
    {
     "data": {
      "text/plain": [
       "['ip', 'score', 'risk', 'countrycode', 'organization']"
      ]
     },
     "execution_count": 59,
     "metadata": {},
     "output_type": "execute_result"
    }
   ],
   "source": [
    "cols\n"
   ]
  },
  {
   "cell_type": "code",
   "execution_count": 5,
   "metadata": {},
   "outputs": [
    {
     "data": {
      "text/plain": [
       "(IPv4Address('151.204.0.1'), IPv4Address('151.205.255.254'))"
      ]
     },
     "execution_count": 5,
     "metadata": {},
     "output_type": "execute_result"
    }
   ],
   "source": [
    "g('151.204.0.0/15')\n"
   ]
  },
  {
   "cell_type": "code",
   "execution_count": 38,
   "metadata": {},
   "outputs": [],
   "source": [
    "parent = '24.44.0.0/14'\n",
    "child = '24.45.16.0/22'\n",
    "\n",
    "parent = ip_network(parent)\n",
    "child = ip_network(child)"
   ]
  },
  {
   "cell_type": "code",
   "execution_count": 43,
   "metadata": {},
   "outputs": [],
   "source": [
    "try:\n",
    "    x = parent.address_exclude(child)\n",
    "    x = list(x)\n",
    "except ValueError as excluded_gen:\n",
    "    print(f\"address_exclude {excluded_gen}\\n>For {child=} in {parent=}\\n\")\n",
    "    \n"
   ]
  },
  {
   "cell_type": "code",
   "execution_count": 68,
   "metadata": {},
   "outputs": [],
   "source": [
    "with open('test_children.txt','r') as f:\n",
    "    tc = [x.strip() for x in f.readlines()]"
   ]
  },
  {
   "cell_type": "code",
   "execution_count": 69,
   "metadata": {},
   "outputs": [
    {
     "data": {
      "text/plain": [
       "['24.44.0.0/14',\n",
       " '24.44.0.0/16',\n",
       " '24.45.128.0/17',\n",
       " '24.45.32.0/19',\n",
       " '24.45.0.0/20',\n",
       " '24.45.24.0/21',\n",
       " '24.45.20.0/22']"
      ]
     },
     "execution_count": 69,
     "metadata": {},
     "output_type": "execute_result"
    }
   ],
   "source": [
    "tc\n"
   ]
  },
  {
   "cell_type": "code",
   "execution_count": null,
   "metadata": {},
   "outputs": [],
   "source": [
    "print(f\"address_exclude {excluded_gen}\\n>For {child=} in {parents[i]=}\\n\")"
   ]
  },
  {
   "cell_type": "code",
   "execution_count": 6,
   "metadata": {
    "collapsed": true
   },
   "outputs": [
    {
     "name": "stdout",
     "output_type": "stream",
     "text": [
      "def f(cs, ps):\n",
      "    ex = lambda x: exclude_address(x)\n",
      "    if not cs: return ps\n",
      "\n",
      "    p = ps.pop()\n",
      "\n",
      "    try:\n",
      "        x = p.ex(cs[-1])\n",
      "        x = list(x)\n",
      "        return f(cs[0:-1], ps.extend(x)\n",
      "\n",
      "    except:\n",
      "        return [p].extend(f(cs, ps))\n",
      "\n",
      "\n",
      " P  |---------------------------------------------|\n",
      "    0\n",
      "\n",
      " C       |-----|         |-------|   |-------|\n",
      "         1               0           2\n",
      "\n",
      " P  |--------------------------------|       |----|\n",
      "    1                                        2\n",
      "\n",
      " P  |--------------------|       |---|\n",
      "    3                            4\n",
      "\n",
      " P  |----|     |---------|\n",
      "    5          6\n",
      "\n",
      "f(cs=[c1, c0, c2], ps=[p0])\n",
      "not cs: F\n",
      "p = ps.pop(): p=p0; ps=[]\n",
      "x = p0.ex(c2): [p1, p2]\n",
      "r0<-- f(cs=[c1, c0], ps=[p1, p2])\n",
      "    not cs: F\n",
      "    p = ps.pop(): p=p2; ps=[p1]\n",
      "    x = p2.ex(p1): []\n",
      "    r1<-- [p2].extend(f(cs=[c1, c0], ps=[p1])\n",
      "        not cs: F\n",
      "        p = ps.pop(): p=p1; ps=[]\n",
      "        x = p1.ex(c0): [p3, p4]\n",
      "        r2<-- f(cs=[c1], ps=[p3, p4]\n",
      "            not cs: F\n",
      "            p = ps.pop(): p=p4; ps=[p3]\n",
      "            x = p4.ex(c1): []\n",
      "            r3<-- [p4].extend[f(cs=[c1], [p3])\n",
      "                not cs: F\n",
      "                p = ps.pop(): p=p3; ps=[]\n",
      "                x = p3.ex(c1): [p5, p6]\n",
      "                r4<-- f(cs=[], ps=[p5, p6])\n",
      "                    not cs: T\n",
      "                    r5<-- [p5, p6]\n",
      "                r4<-- [p5, p6]\n",
      "            r3<-- [p4, p5, p6]\n",
      "        r2<-- [p4, p5, p6]\n",
      "    r1<-- [p2, p4, p5, p6]\n",
      "r0<-- [p2, p4, p5, p6]\n",
      "\n"
     ]
    }
   ],
   "source": [
    "\n",
    "def prt(a, la, b, lb):\n",
    "    \n",
    "        \n",
    "import pandas as pd\n",
    "\n",
    "ps = pd.read_csv('prog.txt', header=None, names=['line'], sep='')\n",
    "        \n",
    "with open('prog.txt') as p:\n",
    "    ps = [x.rstrip() for x in p.readlines()]\n",
    "for l in ps:\n",
    "    print(l)\n",
    "    \n",
    "with open('linebyline.txt') as p:\n",
    "    ls = [x.rstrip() for x in p.readlines()]\n",
    "for l in ls:\n",
    "    print(l)\n",
    "if ln_ps:=len(ps) > len_ls:=len(ls):\n",
    "    prt(ls, len_ls, ps, len_ls)\n",
    "else:\n",
    "    prt(ps, len_ps, ls, len_ls)\n",
    "    "
   ]
  },
  {
   "cell_type": "code",
   "execution_count": 39,
   "metadata": {},
   "outputs": [
    {
     "name": "stdout",
     "output_type": "stream",
     "text": [
      "f(cs=[c1, c0, c2], ps=[p0])\n",
      "not cs: F\n",
      "p = ps.pop(): p=p0; ps=[]\n",
      "x = p0.ex(c2): [p1, p2]\n",
      "r0<-- f(cs=[c1, c0], ps=[p1, p2])\n",
      "    not cs: F\n",
      "    p = ps.pop(): p=p2; ps=[p1]\n",
      "    x = p2.ex(p1): []\n",
      "    r1<-- [p2].extend(f(cs=[c1, c0], ps=[p1])\n",
      "        not cs: F\n",
      "        p = ps.pop(): p=p1; ps=[]\n",
      "        x = p1.ex(c0): [p3, p4]\n",
      "        r2<-- f(cs=[c1], ps=[p3, p4]\n",
      "            not cs: F\n",
      "            p = ps.pop(): p=p4; ps=[p3]\n",
      "            x = p4.ex(c1): []\n",
      "            r3<-- [p4].extend[f(cs=[c1], [p3])\n",
      "                not cs: F\n",
      "                p = ps.pop(): p=p3; ps=[]\n",
      "                x = p3.ex(c1): [p5, p6]\n",
      "                r4<-- f(cs=[], ps=[p5, p6])\n",
      "                    not cs: T\n",
      "                    r5<-- [p5, p6]\n",
      "                r4<-- [p5, p6]\n",
      "            r3<-- [p4, p5, p6]\n",
      "        r2<-- [p4, p5, p6]\n",
      "    r1<-- [p2, p4, p5, p6]\n",
      "r0<-- [p2, p4, p5, p6]\n"
     ]
    }
   ],
   "source": [
    "import pandas as pd\n",
    "\n",
    "def rd(fn):\n",
    "    df= pd.read_csv(fn, header=None, names=['line'], sep='~')\n",
    "    df['l'] = df.line.apply(len)\n",
    "    return df\n",
    "\n",
    "p = rd('prog.txt')\n",
    "l = rd('linebyline.txt')\n",
    "mp, ml = p.max(), l.max() \n",
    "np, nl = len(p), len(l)\n",
    "pl = list(p.line)\n",
    "ll = list(l.line)\n",
    "\n",
    "mx = max(np, nl)\n",
    "f = f'f\"{{p1:{mx}}} | {{{l1}}}\"'\n",
    "for i in range(mx):\n",
    "    p1 = pl[i] if i < np else ' '\n",
    "    l1 = ll[i] if i < nl else ' '\n",
    "#     print(f'{p1:51} | {l1}')\n",
    "#     print(f'{p1:51}')\n",
    "    print(f'{l1}')\n",
    "#     print(f)"
   ]
  },
  {
   "cell_type": "code",
   "execution_count": 22,
   "metadata": {},
   "outputs": [
    {
     "data": {
      "text/plain": [
       "20"
      ]
     },
     "execution_count": 22,
     "metadata": {},
     "output_type": "execute_result"
    }
   ],
   "source": [
    "i\n"
   ]
  },
  {
   "cell_type": "code",
   "execution_count": 30,
   "metadata": {},
   "outputs": [
    {
     "data": {
      "text/html": [
       "<div>\n",
       "<style scoped>\n",
       "    .dataframe tbody tr th:only-of-type {\n",
       "        vertical-align: middle;\n",
       "    }\n",
       "\n",
       "    .dataframe tbody tr th {\n",
       "        vertical-align: top;\n",
       "    }\n",
       "\n",
       "    .dataframe thead th {\n",
       "        text-align: right;\n",
       "    }\n",
       "</style>\n",
       "<table border=\"1\" class=\"dataframe\">\n",
       "  <thead>\n",
       "    <tr style=\"text-align: right;\">\n",
       "      <th></th>\n",
       "      <th>line</th>\n",
       "      <th>l</th>\n",
       "    </tr>\n",
       "  </thead>\n",
       "  <tbody>\n",
       "    <tr>\n",
       "      <th>0</th>\n",
       "      <td>def f(cs, ps):</td>\n",
       "      <td>14</td>\n",
       "    </tr>\n",
       "    <tr>\n",
       "      <th>1</th>\n",
       "      <td>ex = lambda x: exclude_address(x)</td>\n",
       "      <td>37</td>\n",
       "    </tr>\n",
       "    <tr>\n",
       "      <th>2</th>\n",
       "      <td>if not cs: return ps</td>\n",
       "      <td>24</td>\n",
       "    </tr>\n",
       "    <tr>\n",
       "      <th>3</th>\n",
       "      <td>p = ps.pop()</td>\n",
       "      <td>16</td>\n",
       "    </tr>\n",
       "    <tr>\n",
       "      <th>4</th>\n",
       "      <td>try:</td>\n",
       "      <td>8</td>\n",
       "    </tr>\n",
       "    <tr>\n",
       "      <th>5</th>\n",
       "      <td>x = p.ex(cs[-1])</td>\n",
       "      <td>24</td>\n",
       "    </tr>\n",
       "    <tr>\n",
       "      <th>6</th>\n",
       "      <td>x = list(x)</td>\n",
       "      <td>19</td>\n",
       "    </tr>\n",
       "    <tr>\n",
       "      <th>7</th>\n",
       "      <td>return f(cs[0:-1], ps.extend(x)</td>\n",
       "      <td>39</td>\n",
       "    </tr>\n",
       "    <tr>\n",
       "      <th>8</th>\n",
       "      <td>except:</td>\n",
       "      <td>11</td>\n",
       "    </tr>\n",
       "    <tr>\n",
       "      <th>9</th>\n",
       "      <td>return [p].extend(f(cs, ps))</td>\n",
       "      <td>36</td>\n",
       "    </tr>\n",
       "    <tr>\n",
       "      <th>10</th>\n",
       "      <td>P  |-----------------------------------------...</td>\n",
       "      <td>51</td>\n",
       "    </tr>\n",
       "    <tr>\n",
       "      <th>11</th>\n",
       "      <td>0</td>\n",
       "      <td>5</td>\n",
       "    </tr>\n",
       "    <tr>\n",
       "      <th>12</th>\n",
       "      <td>C       |-----|         |-------|   |-------|</td>\n",
       "      <td>46</td>\n",
       "    </tr>\n",
       "    <tr>\n",
       "      <th>13</th>\n",
       "      <td>1               0           2</td>\n",
       "      <td>38</td>\n",
       "    </tr>\n",
       "    <tr>\n",
       "      <th>14</th>\n",
       "      <td>P  |--------------------------------|       |...</td>\n",
       "      <td>51</td>\n",
       "    </tr>\n",
       "    <tr>\n",
       "      <th>15</th>\n",
       "      <td>1                                        2</td>\n",
       "      <td>46</td>\n",
       "    </tr>\n",
       "    <tr>\n",
       "      <th>16</th>\n",
       "      <td>P  |--------------------|       |---|</td>\n",
       "      <td>38</td>\n",
       "    </tr>\n",
       "    <tr>\n",
       "      <th>17</th>\n",
       "      <td>3                            4</td>\n",
       "      <td>34</td>\n",
       "    </tr>\n",
       "    <tr>\n",
       "      <th>18</th>\n",
       "      <td>P  |----|     |---------|</td>\n",
       "      <td>26</td>\n",
       "    </tr>\n",
       "    <tr>\n",
       "      <th>19</th>\n",
       "      <td>5          6</td>\n",
       "      <td>16</td>\n",
       "    </tr>\n",
       "  </tbody>\n",
       "</table>\n",
       "</div>"
      ],
      "text/plain": [
       "                                                 line   l\n",
       "0                                      def f(cs, ps):  14\n",
       "1                   ex = lambda x: exclude_address(x)  37\n",
       "2                                if not cs: return ps  24\n",
       "3                                        p = ps.pop()  16\n",
       "4                                                try:   8\n",
       "5                                    x = p.ex(cs[-1])  24\n",
       "6                                         x = list(x)  19\n",
       "7                     return f(cs[0:-1], ps.extend(x)  39\n",
       "8                                             except:  11\n",
       "9                        return [p].extend(f(cs, ps))  36\n",
       "10   P  |-----------------------------------------...  51\n",
       "11                                                  0   5\n",
       "12      C       |-----|         |-------|   |-------|  46\n",
       "13                      1               0           2  38\n",
       "14   P  |--------------------------------|       |...  51\n",
       "15         1                                        2  46\n",
       "16              P  |--------------------|       |---|  38\n",
       "17                     3                            4  34\n",
       "18                          P  |----|     |---------|  26\n",
       "19                                       5          6  16"
      ]
     },
     "execution_count": 30,
     "metadata": {},
     "output_type": "execute_result"
    }
   ],
   "source": [
    "p\n"
   ]
  },
  {
   "cell_type": "code",
   "execution_count": 92,
   "metadata": {},
   "outputs": [
    {
     "data": {
      "text/plain": [
       "3"
      ]
     },
     "execution_count": 92,
     "metadata": {},
     "output_type": "execute_result"
    }
   ],
   "source": [
    "out = open('test.log', 'w')\n",
    "import sys \n",
    "v = 6\n",
    "out.write(f'{v=}')"
   ]
  },
  {
   "cell_type": "code",
   "execution_count": 10,
   "metadata": {},
   "outputs": [],
   "source": [
    "# a=ip_address('24.44.0.0')\n",
    "a=ip_address('10.44.0.0')"
   ]
  },
  {
   "cell_type": "code",
   "execution_count": 11,
   "metadata": {},
   "outputs": [
    {
     "data": {
      "text/plain": [
       "False"
      ]
     },
     "execution_count": 11,
     "metadata": {},
     "output_type": "execute_result"
    }
   ],
   "source": [
    "a.is_reserved\n"
   ]
  },
  {
   "cell_type": "code",
   "execution_count": null,
   "metadata": {},
   "outputs": [],
   "source": []
  }
 ],
 "metadata": {
  "kernelspec": {
   "display_name": "Python [conda env:dmv_test]",
   "language": "python",
   "name": "conda-env-dmv_test-py"
  },
  "language_info": {
   "codemirror_mode": {
    "name": "ipython",
    "version": 3
   },
   "file_extension": ".py",
   "mimetype": "text/x-python",
   "name": "python",
   "nbconvert_exporter": "python",
   "pygments_lexer": "ipython3",
   "version": "3.9.7"
  },
  "varInspector": {
   "cols": {
    "lenName": 16,
    "lenType": 16,
    "lenVar": 40
   },
   "kernels_config": {
    "python": {
     "delete_cmd_postfix": "",
     "delete_cmd_prefix": "del ",
     "library": "var_list.py",
     "varRefreshCmd": "print(var_dic_list())"
    },
    "r": {
     "delete_cmd_postfix": ") ",
     "delete_cmd_prefix": "rm(",
     "library": "var_list.r",
     "varRefreshCmd": "cat(var_dic_list()) "
    }
   },
   "types_to_exclude": [
    "module",
    "function",
    "builtin_function_or_method",
    "instance",
    "_Feature"
   ],
   "window_display": false
  }
 },
 "nbformat": 4,
 "nbformat_minor": 4
}
