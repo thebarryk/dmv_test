{
 "cells": [
  {
   "cell_type": "code",
   "execution_count": 6,
   "metadata": {
    "code_folding": []
   },
   "outputs": [],
   "source": [
    "# Repair the format of the timestamp and over write the risk database\n",
    "\n",
    "import pandas as pd\n",
    "import mywhois\n",
    "import ipaddress\n",
    "import pickle\n",
    "import dbm\n"
   ]
  },
  {
   "cell_type": "code",
   "execution_count": 7,
   "metadata": {
    "code_folding": []
   },
   "outputs": [],
   "source": [
    "class Halt():\n",
    "    # True after mx iterations. Useful to break after a few iterations\n",
    "    def __init__(self, mx, maxmx=1000):\n",
    "        self.i = 0\n",
    "        self.mx = mx\n",
    "        self.maxmx = maxmx\n",
    "    def halt(self):\n",
    "        for i in range(self.maxmx):\n",
    "            if i >= self.mx:\n",
    "                self.last = i\n",
    "                break\n",
    "            yield False\n",
    "        self.last = i\n",
    "        yield True\n",
    "\n",
    "def main():\n",
    "    myrisk = mywhois.Risk(\"mywhois\", readonly=False)\n",
    "    risk = myrisk.risk\n",
    "\n",
    "    halt1 = Halt(6)\n",
    "    isdone = halt1.halt()\n",
    "    \n",
    "    for cidr, old_risk in risk.items():\n",
    "#             if next(isdone): break\n",
    "        risk[cidr]['timestamp'] = old_risk['timestamp'].replace(':', '/', 2)\n",
    "\n",
    "    if not myrisk.to_riskdb():\n",
    "        print(f'Failed to output changed risk dict to dbm database.')\n",
    "\n",
    "    return risk"
   ]
  },
  {
   "cell_type": "code",
   "execution_count": 8,
   "metadata": {},
   "outputs": [],
   "source": [
    "risk = main()\n"
   ]
  },
  {
   "cell_type": "code",
   "execution_count": null,
   "metadata": {},
   "outputs": [],
   "source": []
  }
 ],
 "metadata": {
  "kernelspec": {
   "display_name": "Python [conda env:dmv_test]",
   "language": "python",
   "name": "conda-env-dmv_test-py"
  },
  "language_info": {
   "codemirror_mode": {
    "name": "ipython",
    "version": 3
   },
   "file_extension": ".py",
   "mimetype": "text/x-python",
   "name": "python",
   "nbconvert_exporter": "python",
   "pygments_lexer": "ipython3",
   "version": "3.9.7"
  },
  "varInspector": {
   "cols": {
    "lenName": 16,
    "lenType": 16,
    "lenVar": 40
   },
   "kernels_config": {
    "python": {
     "delete_cmd_postfix": "",
     "delete_cmd_prefix": "del ",
     "library": "var_list.py",
     "varRefreshCmd": "print(var_dic_list())"
    },
    "r": {
     "delete_cmd_postfix": ") ",
     "delete_cmd_prefix": "rm(",
     "library": "var_list.r",
     "varRefreshCmd": "cat(var_dic_list()) "
    }
   },
   "types_to_exclude": [
    "module",
    "function",
    "builtin_function_or_method",
    "instance",
    "_Feature"
   ],
   "window_display": false
  }
 },
 "nbformat": 4,
 "nbformat_minor": 4
}
