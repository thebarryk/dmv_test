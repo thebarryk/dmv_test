{
 "cells": [
  {
   "cell_type": "code",
   "execution_count": 5,
   "metadata": {},
   "outputs": [
    {
     "data": {
      "application/javascript": [
       "\n",
       "# Bind cmd-shift-d to duplicate line of code\n",
       "Jupyter.keyboard_manager.edit_shortcuts.add_shortcut('alt-shift-d', {\n",
       "    help : 'Duplicate current line',\n",
       "    help_index : 'zz',\n",
       "    handler: function(env) {\n",
       "        var cm=env.notebook.get_selected_cell().code_mirror;\n",
       "        // get a position of a current cursor in a current cell\n",
       "        var current_cursor = cm.doc.getCursor();\n",
       "\n",
       "        // read a content from a line where is the current cursor\n",
       "        var line_content = cm.doc.getLine(current_cursor.line);\n",
       "        cm.execCommand('goLineEnd');\n",
       "        cm.execCommand('newlineAndIndent');\n",
       "        cm.execCommand('indentLess');\n",
       "        cm.doc.replaceSelection(line_content);\n",
       "        cm.doc.setCursor(current_cursor.line + 1, current_cursor.ch);\n",
       "        return false;\n",
       "    }}\n",
       ");\n"
      ],
      "text/plain": [
       "<IPython.core.display.Javascript object>"
      ]
     },
     "metadata": {},
     "output_type": "display_data"
    }
   ],
   "source": [
    "%%javascript\n",
    "\n",
    "# Bind cmd-shift-d to duplicate line of code\n",
    "Jupyter.keyboard_manager.edit_shortcuts.add_shortcut('alt-shift-d', {\n",
    "    help : 'Duplicate current line',\n",
    "    help_index : 'zz',\n",
    "    handler: function(env) {\n",
    "        var cm=env.notebook.get_selected_cell().code_mirror;\n",
    "        // get a position of a current cursor in a current cell\n",
    "        var current_cursor = cm.doc.getCursor();\n",
    "\n",
    "        // read a content from a line where is the current cursor\n",
    "        var line_content = cm.doc.getLine(current_cursor.line);\n",
    "        cm.execCommand('goLineEnd');\n",
    "        cm.execCommand('newlineAndIndent');\n",
    "        cm.execCommand('indentLess');\n",
    "        cm.doc.replaceSelection(line_content);\n",
    "        cm.doc.setCursor(current_cursor.line + 1, current_cursor.ch);\n",
    "        return false;\n",
    "    }}\n",
    ");\n"
   ]
  },
  {
   "cell_type": "code",
   "execution_count": 1,
   "metadata": {},
   "outputs": [
    {
     "data": {
      "text/plain": [
       "<matplotlib.legend.Legend at 0x7f49d0174940>"
      ]
     },
     "execution_count": 1,
     "metadata": {},
     "output_type": "execute_result"
    },
    {
     "data": {
      "image/png": "[encoded data removed]",
      "text/plain": [
       "<Figure size 432x288 with 1 Axes>"
      ]
     },
     "metadata": {
      "needs_background": "light"
     },
     "output_type": "display_data"
    }
   ],
   "source": [
    "import numpy as np\n",
    "import matplotlib.pyplot as plt\n",
    "from scipy.stats import norm\n",
    "\n",
    "#x-axis ranges from -5 and 5 with .001 steps\n",
    "x = np.arange(-5, 5, 0.001)\n",
    "\n",
    "#define multiple normal distributions\n",
    "plt.plot(x, norm.pdf(x, 0, 1), label='μ: 0, σ: 1')\n",
    "plt.plot(x, norm.pdf(x, 0, 1.5), label='μ:0, σ: 1.5')\n",
    "plt.plot(x, norm.pdf(x, 0, 2), label='μ:0, σ: 2')\n",
    "\n",
    "#add legend to plot\n",
    "plt.legend()"
   ]
  },
  {
   "cell_type": "code",
   "execution_count": 3,
   "metadata": {},
   "outputs": [],
   "source": [
    "import numpy as np\n",
    "import pandas as pd\n",
    "import matplotlib.pyplot as plt\n",
    "rng = np.random.default_rng(seed=42)\n",
    "\n",
    "# Generate sample of 25 numbers\n",
    "n = 25\n",
    "clusters = []\n",
    "\n",
    "for c in range(0,3):\n",
    "    \n",
    "    # Crude way to get different distributions\n",
    "    # for each cluster\n",
    "    p = rng.integers(low=1, high=6, size=4)\n",
    "    \n",
    "    df = pd.DataFrame({\n",
    "        'x': rng.normal(p[0], p[1], n),\n",
    "        'y': rng.normal(p[2], p[3], n),\n",
    "        'name': f\"Cluster {c+1}\"\n",
    "    })\n",
    "    clusters.append(df)\n"
   ]
  },
  {
   "cell_type": "code",
   "execution_count": 2,
   "metadata": {},
   "outputs": [],
   "source": [
    "import pandas as pd\n",
    "s = 0\n",
    "e = 100\n",
    "inc =10\n",
    "dob=lambda s,e,inc:[pd.Interval(i,i+inc,closed='left') if i<e-inc else pd.Interval(i,i+inc,closed='both') for i in range(s,e,inc)]\n",
    "def dob1(s,e,inc):\n",
    "    r = []\n",
    "    for i in range(s,e,inc):\n",
    "#         print(f'{i=}, {s=}, {e=}, {r=}')\n",
    "#         import pdb; pdb.set_trace()\n",
    "        if i<e-inc:\n",
    "            r.append(pd.Interval(i,i+inc,closed='left'))\n",
    "        else:\n",
    "            r.append(pd.Interval(i,i+inc,closed='both'))\n",
    "    return r\n"
   ]
  },
  {
   "cell_type": "code",
   "execution_count": 3,
   "metadata": {
    "scrolled": true
   },
   "outputs": [
    {
     "data": {
      "text/plain": [
       "[Interval(0, 10, closed='left'),\n",
       " Interval(10, 20, closed='left'),\n",
       " Interval(20, 30, closed='left'),\n",
       " Interval(30, 40, closed='left'),\n",
       " Interval(40, 50, closed='left'),\n",
       " Interval(50, 60, closed='left'),\n",
       " Interval(60, 70, closed='left'),\n",
       " Interval(70, 80, closed='left'),\n",
       " Interval(80, 90, closed='left'),\n",
       " Interval(90, 100, closed='both')]"
      ]
     },
     "execution_count": 3,
     "metadata": {},
     "output_type": "execute_result"
    }
   ],
   "source": [
    "dob(s, e, inc)"
   ]
  },
  {
   "cell_type": "code",
   "execution_count": 4,
   "metadata": {},
   "outputs": [
    {
     "data": {
      "text/plain": [
       "[Interval(0, 10, closed='left'),\n",
       " Interval(10, 20, closed='left'),\n",
       " Interval(20, 30, closed='left'),\n",
       " Interval(30, 40, closed='left'),\n",
       " Interval(40, 50, closed='left'),\n",
       " Interval(50, 60, closed='left'),\n",
       " Interval(60, 70, closed='left'),\n",
       " Interval(70, 80, closed='left'),\n",
       " Interval(80, 90, closed='left'),\n",
       " Interval(90, 100, closed='both')]"
      ]
     },
     "execution_count": 4,
     "metadata": {},
     "output_type": "execute_result"
    }
   ],
   "source": [
    "dob1(s, e, inc)"
   ]
  },
  {
   "cell_type": "code",
   "execution_count": 23,
   "metadata": {},
   "outputs": [
    {
     "data": {
      "text/html": [
       "<div>\n",
       "<style scoped>\n",
       "    .dataframe tbody tr th:only-of-type {\n",
       "        vertical-align: middle;\n",
       "    }\n",
       "\n",
       "    .dataframe tbody tr th {\n",
       "        vertical-align: top;\n",
       "    }\n",
       "\n",
       "    .dataframe thead th {\n",
       "        text-align: right;\n",
       "    }\n",
       "</style>\n",
       "<table border=\"1\" class=\"dataframe\">\n",
       "  <thead>\n",
       "    <tr style=\"text-align: right;\">\n",
       "      <th></th>\n",
       "      <th>A</th>\n",
       "      <th>C</th>\n",
       "      <th>D</th>\n",
       "    </tr>\n",
       "  </thead>\n",
       "  <tbody>\n",
       "    <tr>\n",
       "      <th>0</th>\n",
       "      <td>foo</td>\n",
       "      <td>-0.339310</td>\n",
       "      <td>-0.663418</td>\n",
       "    </tr>\n",
       "    <tr>\n",
       "      <th>1</th>\n",
       "      <td>bar</td>\n",
       "      <td>-0.020360</td>\n",
       "      <td>0.203771</td>\n",
       "    </tr>\n",
       "    <tr>\n",
       "      <th>2</th>\n",
       "      <td>foo</td>\n",
       "      <td>0.588680</td>\n",
       "      <td>0.002413</td>\n",
       "    </tr>\n",
       "    <tr>\n",
       "      <th>3</th>\n",
       "      <td>bar</td>\n",
       "      <td>0.236346</td>\n",
       "      <td>-2.863246</td>\n",
       "    </tr>\n",
       "    <tr>\n",
       "      <th>4</th>\n",
       "      <td>foo</td>\n",
       "      <td>0.504878</td>\n",
       "      <td>0.022289</td>\n",
       "    </tr>\n",
       "    <tr>\n",
       "      <th>5</th>\n",
       "      <td>bar</td>\n",
       "      <td>-0.279664</td>\n",
       "      <td>-1.321581</td>\n",
       "    </tr>\n",
       "    <tr>\n",
       "      <th>6</th>\n",
       "      <td>foo</td>\n",
       "      <td>-1.307869</td>\n",
       "      <td>-0.390657</td>\n",
       "    </tr>\n",
       "    <tr>\n",
       "      <th>7</th>\n",
       "      <td>foo</td>\n",
       "      <td>-0.202818</td>\n",
       "      <td>-0.548037</td>\n",
       "    </tr>\n",
       "  </tbody>\n",
       "</table>\n",
       "</div>"
      ],
      "text/plain": [
       "     A         C         D\n",
       "0  foo -0.339310 -0.663418\n",
       "1  bar -0.020360  0.203771\n",
       "2  foo  0.588680  0.002413\n",
       "3  bar  0.236346 -2.863246\n",
       "4  foo  0.504878  0.022289\n",
       "5  bar -0.279664 -1.321581\n",
       "6  foo -1.307869 -0.390657\n",
       "7  foo -0.202818 -0.548037"
      ]
     },
     "execution_count": 23,
     "metadata": {},
     "output_type": "execute_result"
    }
   ],
   "source": [
    "df = pd.DataFrame(\n",
    "    {\n",
    "        \"A\": [\"foo\", \"bar\", \"foo\", \"bar\", \"foo\", \"bar\", \"foo\", \"foo\"],\n",
    "#         \"B\": [\"one\", \"one\", \"two\", \"three\", \"two\", \"two\", \"one\", \"three\"],\n",
    "        \"C\": np.random.randn(8),\n",
    "        \"D\": np.random.randn(8),\n",
    "    }\n",
    ")\n",
    "df"
   ]
  },
  {
   "cell_type": "code",
   "execution_count": 27,
   "metadata": {},
   "outputs": [
    {
     "data": {
      "text/plain": [
       "count    2.000000\n",
       "mean    -0.410059\n",
       "std      0.489857\n",
       "min     -0.756440\n",
       "25%     -0.583249\n",
       "50%     -0.410059\n",
       "75%     -0.236868\n",
       "max     -0.063678\n",
       "Name: sum, dtype: float64"
      ]
     },
     "execution_count": 27,
     "metadata": {},
     "output_type": "execute_result"
    }
   ],
   "source": [
    "df.groupby('A').aggregate(['sum', 'count'])['C']['sum'].describe()\n"
   ]
  },
  {
   "cell_type": "code",
   "execution_count": null,
   "metadata": {},
   "outputs": [],
   "source": []
  }
 ],
 "metadata": {
  "kernelspec": {
   "display_name": "Python [conda env:dmv_test]",
   "language": "python",
   "name": "conda-env-dmv_test-py"
  },
  "language_info": {
   "codemirror_mode": {
    "name": "ipython",
    "version": 3
   },
   "file_extension": ".py",
   "mimetype": "text/x-python",
   "name": "python",
   "nbconvert_exporter": "python",
   "pygments_lexer": "ipython3",
   "version": "3.9.7"
  },
  "varInspector": {
   "cols": {
    "lenName": 16,
    "lenType": 16,
    "lenVar": 40
   },
   "kernels_config": {
    "python": {
     "delete_cmd_postfix": "",
     "delete_cmd_prefix": "del ",
     "library": "var_list.py",
     "varRefreshCmd": "print(var_dic_list())"
    },
    "r": {
     "delete_cmd_postfix": ") ",
     "delete_cmd_prefix": "rm(",
     "library": "var_list.r",
     "varRefreshCmd": "cat(var_dic_list()) "
    }
   },
   "types_to_exclude": [
    "module",
    "function",
    "builtin_function_or_method",
    "instance",
    "_Feature"
   ],
   "window_display": false
  }
 },
 "nbformat": 4,
 "nbformat_minor": 4
}
