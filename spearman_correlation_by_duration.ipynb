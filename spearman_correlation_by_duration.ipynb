{
 "cells": [
  {
   "cell_type": "code",
   "execution_count": 1,
   "metadata": {},
   "outputs": [
    {
     "name": "stdout",
     "output_type": "stream",
     "text": [
      "Original length of sample data is 4561\n",
      "110 tests with Result, IPAddress, TotalScore = NaN dropped\n",
      "Extra ip address dropped in 36 tests\n"
     ]
    },
    {
     "data": {
      "image/png": "[encoded data removed]",
      "text/plain": [
       "<Figure size 720x360 with 1 Axes>"
      ]
     },
     "metadata": {
      "needs_background": "light"
     },
     "output_type": "display_data"
    }
   ],
   "source": [
    "import mplcursors\n",
    "import dmv_test_input\n",
    "import matplotlib.pyplot as plt\n",
    "from scipy.stats import spearmanr\n",
    "\n",
    "# Spearman_by_limit: Spearman correlations for range of test durations.\n",
    "# Graphs show that % passing scores is higher when test duration is shorter.\n",
    "# The pearson correlation is calculated for ranges of test duration decreased\n",
    "# from full range to just 5 min.\n",
    "class Spearman_by_limit():\n",
    "    def duration(self, lo=5., hi=100., inc=5.):\n",
    "        self.limits = np.arange(lo, hi+0.01*(hi-lo)/inc, inc)\n",
    "    def __init__(self, df, hi=100., inc=5.):\n",
    "        self.df = df\n",
    "        self.duration(lo=self.df.duration.min(), hi=hi, inc=inc)\n",
    "    def spearman(self, field):\n",
    "        self.correlation = {}\n",
    "        for limit in self.limits:\n",
    "            self.short = self.df[self.df.duration <= limit]\n",
    "            try:\n",
    "                self.correlation[limit] = spearmanr(self.short[\"TotalScore\"], self.short[field])[0]\n",
    "            except:\n",
    "                self.correlation[limit] = np.nan\n",
    "        return self.correlation\n",
    "    def __repr__(self):\n",
    "        w = \"\"\n",
    "        for lim, v in self.correlation.items():\n",
    "            w += f\"Highest duration: {lim:>6}   spearman_correlation: {v:>8f}\\n\"\n",
    "        return w\n",
    "\n",
    "def plot_spearman(df):\n",
    "    fig, ax = plt.subplots(figsize=(10, 5))\n",
    "    plt.plot(df.limits, df.correlation.values(), \"o\")\n",
    "    mplcursors.cursor(hover=True)\n",
    "    ax.set_title(\"Spearman Coefficient vs Upper Limit of Duration (min)\")\n",
    "    ax.set_xlabel(\"Maximum Duration (min)\")\n",
    "    ax.set_ylabel(\"Spearman Coefficient\")\n",
    "    plt.show()\n",
    "    \n",
    "def main():\n",
    "    df, risk = dmv_test_input.dmv_risk_input()\n",
    "\n",
    "    spearman = Spearman_by_limit(df, hi=30., inc=0.5)\n",
    "    correlation = spearman.spearman(\"duration\")\n",
    "    plot_spearman(spearman)\n",
    "    \n",
    "main()\n"
   ]
  },
  {
   "cell_type": "code",
   "execution_count": null,
   "metadata": {},
   "outputs": [],
   "source": []
  }
 ],
 "metadata": {
  "kernelspec": {
   "display_name": "Python [conda env:dmv_test]",
   "language": "python",
   "name": "conda-env-dmv_test-py"
  },
  "language_info": {
   "codemirror_mode": {
    "name": "ipython",
    "version": 3
   },
   "file_extension": ".py",
   "mimetype": "text/x-python",
   "name": "python",
   "nbconvert_exporter": "python",
   "pygments_lexer": "ipython3",
   "version": "3.9.7"
  },
  "varInspector": {
   "cols": {
    "lenName": 16,
    "lenType": 16,
    "lenVar": 40
   },
   "kernels_config": {
    "python": {
     "delete_cmd_postfix": "",
     "delete_cmd_prefix": "del ",
     "library": "var_list.py",
     "varRefreshCmd": "print(var_dic_list())"
    },
    "r": {
     "delete_cmd_postfix": ") ",
     "delete_cmd_prefix": "rm(",
     "library": "var_list.r",
     "varRefreshCmd": "cat(var_dic_list()) "
    }
   },
   "types_to_exclude": [
    "module",
    "function",
    "builtin_function_or_method",
    "instance",
    "_Feature"
   ],
   "window_display": false
  }
 },
 "nbformat": 4,
 "nbformat_minor": 4
}
